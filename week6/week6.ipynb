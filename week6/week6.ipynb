{
 "cells": [
  {
   "cell_type": "markdown",
   "metadata": {},
   "source": [
    "# Machine Learning @ Coursera Stanford University\n",
    "\n",
    "\n",
    "## Machine Learning diagnostic\n",
    "Used to help to decide what to do to improve my algorithms\n",
    "Training set 70% + test set 30%\n",
    "-> traing error and test error\n",
    "\n",
    "\n",
    "## Model Selection using train-test-sets\n",
    "\n",
    "Model selection: such as the degree of the polynomial:\n",
    "try each model and compare the test set errors\n",
    "advanced method: \n",
    "    training set + validation set20% + test set20%\n",
    "    \n",
    "    \n",
    "## Bias or Variance\n",
    "\n",
    "\n",
    "low degree -> high bias underfittiing: training set error high and same to the cross validation error\n",
    "big degree -> high variance overfitting : trianing error low but cross validation error high\n",
    "\n",
    "\n",
    "## How to choose regularization parameter\n",
    "\n",
    "using validation set on different parameters\n",
    "\n",
    "\n",
    "\n",
    "### High bias: more training samples dont help that much\n",
    "\n",
    "### High variance: more training samples help\n",
    "\n",
    "\n",
    "Decision process can be broken down as follows:\n",
    "\n",
    "Getting more training examples: Fixes high variance\n",
    "Trying smaller sets of features: Fixes high variance\n",
    "Adding features: Fixes high bias\n",
    "Adding polynomial features: Fixes high bias\n",
    "Decreasing λ: Fixes high bias\n",
    "Increasing λ: Fixes high variance.\n",
    "\n",
    "\n",
    "## Precision and recall to evalute (especially for skewed data)\n",
    "\n",
    "precision = true positive / (predicted positive = true positive and false positive)\n",
    "recall = true positive / (actual positive = true positive and false negative)\n",
    "\n",
    "### trade-off precision and recall\n",
    "\n",
    "F-Score = 2 * PR/(P+R)"
   ]
  }
 ],
 "metadata": {
  "kernelspec": {
   "display_name": "Python 3",
   "language": "python",
   "name": "python3"
  },
  "language_info": {
   "codemirror_mode": {
    "name": "ipython",
    "version": 3
   },
   "file_extension": ".py",
   "mimetype": "text/x-python",
   "name": "python",
   "nbconvert_exporter": "python",
   "pygments_lexer": "ipython3",
   "version": "3.8.3"
  }
 },
 "nbformat": 4,
 "nbformat_minor": 4
}
