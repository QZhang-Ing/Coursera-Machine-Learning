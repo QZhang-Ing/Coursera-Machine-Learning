{
  "nbformat": 4,
  "nbformat_minor": 0,
  "metadata": {
    "colab": {
      "name": "NLP-part2.ipynb",
      "provenance": [],
      "collapsed_sections": []
    },
    "kernelspec": {
      "name": "python3",
      "display_name": "Python 3"
    }
  },
  "cells": [
    {
      "cell_type": "markdown",
      "metadata": {
        "id": "5HFrOqZNNdxh",
        "colab_type": "text"
      },
      "source": [
        "# NLP sequence with SLTM"
      ]
    },
    {
      "cell_type": "markdown",
      "metadata": {
        "id": "fzH1Jd5oNmuv",
        "colab_type": "text"
      },
      "source": [
        "See week 3 materials"
      ]
    },
    {
      "cell_type": "markdown",
      "metadata": {
        "id": "m9sdtsOjNl7u",
        "colab_type": "text"
      },
      "source": [
        "# NLP text/word generation"
      ]
    },
    {
      "cell_type": "markdown",
      "metadata": {
        "id": "EKZpXWNtRma6",
        "colab_type": "text"
      },
      "source": [
        "## Create simple Corpus"
      ]
    },
    {
      "cell_type": "code",
      "metadata": {
        "id": "r0auwS9eNw3Q",
        "colab_type": "code",
        "colab": {}
      },
      "source": [
        "import tensorflow as tf\n",
        "\n",
        "from tensorflow.keras.preprocessing.sequence import pad_sequences\n",
        "from tensorflow.keras.layers import Embedding, LSTM, Dense, Bidirectional\n",
        "from tensorflow.keras.preprocessing.text import Tokenizer\n",
        "from tensorflow.keras.models import Sequential\n",
        "from tensorflow.keras.optimizers import Adam\n",
        "import numpy as np "
      ],
      "execution_count": 1,
      "outputs": []
    },
    {
      "cell_type": "code",
      "metadata": {
        "id": "pjIQtCCwN0b2",
        "colab_type": "code",
        "colab": {
          "base_uri": "https://localhost:8080/",
          "height": 71
        },
        "outputId": "2c4d8160-1cb2-49b6-fef6-a5c2c22be9d7"
      },
      "source": [
        "tokenizer = Tokenizer()\n",
        "\n",
        "data = \"In the town of Athy one Jeremy Lanigan \\n Battered away til he hadnt a pound. \\nHis father died and made him a man again \\n Left him a farm and ten acres of ground. \\nHe gave a grand party for friends and relations \\nWho didnt forget him when come to the wall, \\nAnd if youll but listen Ill make your eyes glisten \\nOf the rows and the ructions of Lanigans Ball. \\nMyself to be sure got free invitation, \\nFor all the nice girls and boys I might ask, \\nAnd just in a minute both friends and relations \\nWere dancing round merry as bees round a cask. \\nJudy ODaly, that nice little milliner, \\nShe tipped me a wink for to give her a call, \\nAnd I soon arrived with Peggy McGilligan \\nJust in time for Lanigans Ball. \\nThere were lashings of punch and wine for the ladies, \\nPotatoes and cakes; there was bacon and tea, \\nThere were the Nolans, Dolans, OGradys \\nCourting the girls and dancing away. \\nSongs they went round as plenty as water, \\nThe harp that once sounded in Taras old hall,\\nSweet Nelly Gray and The Rat Catchers Daughter,\\nAll singing together at Lanigans Ball. \\nThey were doing all kinds of nonsensical polkas \\nAll round the room in a whirligig. \\nJulia and I, we banished their nonsense \\nAnd tipped them the twist of a reel and a jig. \\nAch mavrone, how the girls got all mad at me \\nDanced til youd think the ceiling would fall. \\nFor I spent three weeks at Brooks Academy \\nLearning new steps for Lanigans Ball. \\nThree long weeks I spent up in Dublin, \\nThree long weeks to learn nothing at all,\\n Three long weeks I spent up in Dublin, \\nLearning new steps for Lanigans Ball. \\nShe stepped out and I stepped in again, \\nI stepped out and she stepped in again, \\nShe stepped out and I stepped in again, \\nLearning new steps for Lanigans Ball. \\nBoys were all merry and the girls they were hearty \\nAnd danced all around in couples and groups, \\nTil an accident happened, young Terrance McCarthy \\nPut his right leg through miss Finnertys hoops. \\nPoor creature fainted and cried Meelia murther, \\nCalled for her brothers and gathered them all. \\nCarmody swore that hed go no further \\nTil he had satisfaction at Lanigans Ball. \\nIn the midst of the row miss Kerrigan fainted, \\nHer cheeks at the same time as red as a rose. \\nSome of the lads declared she was painted, \\nShe took a small drop too much, I suppose. \\nHer sweetheart, Ned Morgan, so powerful and able, \\nWhen he saw his fair colleen stretched out by the wall, \\nTore the left leg from under the table \\nAnd smashed all the Chaneys at Lanigans Ball. \\nBoys, oh boys, twas then there were runctions. \\nMyself got a lick from big Phelim McHugh. \\nI soon replied to his introduction \\nAnd kicked up a terrible hullabaloo. \\nOld Casey, the piper, was near being strangled. \\nThey squeezed up his pipes, bellows, chanters and all. \\nThe girls, in their ribbons, they got all entangled \\nAnd that put an end to Lanigans Ball.\"\n",
        "\n",
        "corpus = data.lower().split('\\n')\n",
        "\n",
        "tokenizer.fit_on_texts(corpus)\n",
        "word_index = tokenizer.word_index\n",
        "words_len = len(word_index) + 1  # +1 because of OOV\n",
        "\n",
        "print(words_len)\n",
        "print(word_index)"
      ],
      "execution_count": 3,
      "outputs": [
        {
          "output_type": "stream",
          "text": [
            "263\n",
            "{'and': 1, 'the': 2, 'a': 3, 'in': 4, 'all': 5, 'i': 6, 'for': 7, 'of': 8, 'lanigans': 9, 'ball': 10, 'were': 11, 'at': 12, 'to': 13, 'she': 14, 'stepped': 15, 'his': 16, 'girls': 17, 'as': 18, 'they': 19, 'til': 20, 'he': 21, 'again': 22, 'got': 23, 'boys': 24, 'round': 25, 'that': 26, 'her': 27, 'there': 28, 'three': 29, 'weeks': 30, 'up': 31, 'out': 32, 'him': 33, 'was': 34, 'spent': 35, 'learning': 36, 'new': 37, 'steps': 38, 'long': 39, 'away': 40, 'left': 41, 'friends': 42, 'relations': 43, 'when': 44, 'wall': 45, 'myself': 46, 'nice': 47, 'just': 48, 'dancing': 49, 'merry': 50, 'tipped': 51, 'me': 52, 'soon': 53, 'time': 54, 'old': 55, 'their': 56, 'them': 57, 'danced': 58, 'dublin': 59, 'an': 60, 'put': 61, 'leg': 62, 'miss': 63, 'fainted': 64, 'from': 65, 'town': 66, 'athy': 67, 'one': 68, 'jeremy': 69, 'lanigan': 70, 'battered': 71, 'hadnt': 72, 'pound': 73, 'father': 74, 'died': 75, 'made': 76, 'man': 77, 'farm': 78, 'ten': 79, 'acres': 80, 'ground': 81, 'gave': 82, 'grand': 83, 'party': 84, 'who': 85, 'didnt': 86, 'forget': 87, 'come': 88, 'if': 89, 'youll': 90, 'but': 91, 'listen': 92, 'ill': 93, 'make': 94, 'your': 95, 'eyes': 96, 'glisten': 97, 'rows': 98, 'ructions': 99, 'be': 100, 'sure': 101, 'free': 102, 'invitation': 103, 'might': 104, 'ask': 105, 'minute': 106, 'both': 107, 'bees': 108, 'cask': 109, 'judy': 110, 'odaly': 111, 'little': 112, 'milliner': 113, 'wink': 114, 'give': 115, 'call': 116, 'arrived': 117, 'with': 118, 'peggy': 119, 'mcgilligan': 120, 'lashings': 121, 'punch': 122, 'wine': 123, 'ladies': 124, 'potatoes': 125, 'cakes': 126, 'bacon': 127, 'tea': 128, 'nolans': 129, 'dolans': 130, 'ogradys': 131, 'courting': 132, 'songs': 133, 'went': 134, 'plenty': 135, 'water': 136, 'harp': 137, 'once': 138, 'sounded': 139, 'taras': 140, 'hall': 141, 'sweet': 142, 'nelly': 143, 'gray': 144, 'rat': 145, 'catchers': 146, 'daughter': 147, 'singing': 148, 'together': 149, 'doing': 150, 'kinds': 151, 'nonsensical': 152, 'polkas': 153, 'room': 154, 'whirligig': 155, 'julia': 156, 'we': 157, 'banished': 158, 'nonsense': 159, 'twist': 160, 'reel': 161, 'jig': 162, 'ach': 163, 'mavrone': 164, 'how': 165, 'mad': 166, 'youd': 167, 'think': 168, 'ceiling': 169, 'would': 170, 'fall': 171, 'brooks': 172, 'academy': 173, 'learn': 174, 'nothing': 175, 'hearty': 176, 'around': 177, 'couples': 178, 'groups': 179, 'accident': 180, 'happened': 181, 'young': 182, 'terrance': 183, 'mccarthy': 184, 'right': 185, 'through': 186, 'finnertys': 187, 'hoops': 188, 'poor': 189, 'creature': 190, 'cried': 191, 'meelia': 192, 'murther': 193, 'called': 194, 'brothers': 195, 'gathered': 196, 'carmody': 197, 'swore': 198, 'hed': 199, 'go': 200, 'no': 201, 'further': 202, 'had': 203, 'satisfaction': 204, 'midst': 205, 'row': 206, 'kerrigan': 207, 'cheeks': 208, 'same': 209, 'red': 210, 'rose': 211, 'some': 212, 'lads': 213, 'declared': 214, 'painted': 215, 'took': 216, 'small': 217, 'drop': 218, 'too': 219, 'much': 220, 'suppose': 221, 'sweetheart': 222, 'ned': 223, 'morgan': 224, 'so': 225, 'powerful': 226, 'able': 227, 'saw': 228, 'fair': 229, 'colleen': 230, 'stretched': 231, 'by': 232, 'tore': 233, 'under': 234, 'table': 235, 'smashed': 236, 'chaneys': 237, 'oh': 238, 'twas': 239, 'then': 240, 'runctions': 241, 'lick': 242, 'big': 243, 'phelim': 244, 'mchugh': 245, 'replied': 246, 'introduction': 247, 'kicked': 248, 'terrible': 249, 'hullabaloo': 250, 'casey': 251, 'piper': 252, 'near': 253, 'being': 254, 'strangled': 255, 'squeezed': 256, 'pipes': 257, 'bellows': 258, 'chanters': 259, 'ribbons': 260, 'entangled': 261, 'end': 262}\n"
          ],
          "name": "stdout"
        }
      ]
    },
    {
      "cell_type": "code",
      "metadata": {
        "id": "HoZmjwsrPW5I",
        "colab_type": "code",
        "colab": {
          "base_uri": "https://localhost:8080/",
          "height": 51
        },
        "outputId": "b6ba31ac-bebc-461e-c57f-dc9ba6e719dd"
      },
      "source": [
        "print(corpus[0])\n",
        "print(tokenizer.texts_to_sequences([corpus[0]])) # texts_to_sequences take argument as a list"
      ],
      "execution_count": 12,
      "outputs": [
        {
          "output_type": "stream",
          "text": [
            "in the town of athy one jeremy lanigan \n",
            "[4, 2, 66, 8, 67, 68, 69, 70]\n"
          ],
          "name": "stdout"
        }
      ]
    },
    {
      "cell_type": "markdown",
      "metadata": {
        "id": "MFFV-quCRsLz",
        "colab_type": "text"
      },
      "source": [
        "## Create subsequences for the training"
      ]
    },
    {
      "cell_type": "code",
      "metadata": {
        "id": "5s_pQ9XTO6FU",
        "colab_type": "code",
        "colab": {}
      },
      "source": [
        "input_sequences = []\n",
        "for line in corpus:\n",
        "  token = tokenizer.texts_to_sequences([line])[0] # [0] because it is the first element in the list\n",
        "  # get all the subsequences needed to predict the last token\n",
        "  for i in range(1, len(token)): # from 1 to len(token) - 1\n",
        "    n_gram_sequence = token[:i+1] # from 0 to i, here it will use the 0:i-1 elements as input X and the i element as the output Y (generated word)\n",
        "    input_sequences.append(n_gram_sequence)\n"
      ],
      "execution_count": 13,
      "outputs": []
    },
    {
      "cell_type": "code",
      "metadata": {
        "id": "bE8HQeZuRi7v",
        "colab_type": "code",
        "colab": {}
      },
      "source": [
        "# Padding all subsequence in input_sequences to the longest subsequence\n",
        "max_len = max([len(x) for x in input_sequences])\n",
        "input_sequences = np.array(pad_sequences(input_sequences, maxlen=max_len, padding='pre')) # model take input as np.array\n",
        "\n",
        "# create input, label\n",
        "X, labels = input_sequences[:,:-1], input_sequences[:,-1] # X: 0 to -2, Y : -1\n",
        "Y = tf.keras.utils.to_categorical(labels, num_classes=words_len) # turn labels (tokens) into a one-hot encoder\n"
      ],
      "execution_count": 14,
      "outputs": []
    },
    {
      "cell_type": "code",
      "metadata": {
        "id": "fK4emNl1S-TD",
        "colab_type": "code",
        "colab": {
          "base_uri": "https://localhost:8080/",
          "height": 153
        },
        "outputId": "27834b16-377b-472d-9607-2ea415459190"
      },
      "source": [
        "print(word_index['in'])\n",
        "print(word_index['the'])\n",
        "print(word_index['town'])\n",
        "print(word_index['of'])\n",
        "print(word_index['athy'])\n",
        "print(word_index['one'])\n",
        "print(word_index['jeremy'])\n",
        "print(word_index['lanigan'])"
      ],
      "execution_count": 16,
      "outputs": [
        {
          "output_type": "stream",
          "text": [
            "4\n",
            "2\n",
            "66\n",
            "8\n",
            "67\n",
            "68\n",
            "69\n",
            "70\n"
          ],
          "name": "stdout"
        }
      ]
    },
    {
      "cell_type": "code",
      "metadata": {
        "id": "rwUX0gNeTAr_",
        "colab_type": "code",
        "colab": {
          "base_uri": "https://localhost:8080/",
          "height": 34
        },
        "outputId": "0787c8d3-fe61-4a6d-adba-36ea9c362b50"
      },
      "source": [
        "print(X[6]) # fisrt sentence with the first 7 words"
      ],
      "execution_count": 24,
      "outputs": [
        {
          "output_type": "stream",
          "text": [
            "[ 0  0  0  4  2 66  8 67 68 69]\n"
          ],
          "name": "stdout"
        }
      ]
    },
    {
      "cell_type": "code",
      "metadata": {
        "id": "kEtiOHAnTMHD",
        "colab_type": "code",
        "colab": {
          "base_uri": "https://localhost:8080/",
          "height": 204
        },
        "outputId": "04e4d82f-0f97-42bc-aace-ab8025d219f8"
      },
      "source": [
        "print(Y[7]) # the last word of first sentence in the form of onehot encoder (to be learned)"
      ],
      "execution_count": 26,
      "outputs": [
        {
          "output_type": "stream",
          "text": [
            "[0. 0. 0. 0. 0. 0. 0. 0. 0. 0. 0. 0. 0. 0. 0. 0. 0. 0. 0. 0. 0. 0. 0. 0.\n",
            " 0. 0. 0. 0. 0. 0. 0. 0. 0. 0. 0. 0. 0. 0. 0. 0. 1. 0. 0. 0. 0. 0. 0. 0.\n",
            " 0. 0. 0. 0. 0. 0. 0. 0. 0. 0. 0. 0. 0. 0. 0. 0. 0. 0. 0. 0. 0. 0. 0. 0.\n",
            " 0. 0. 0. 0. 0. 0. 0. 0. 0. 0. 0. 0. 0. 0. 0. 0. 0. 0. 0. 0. 0. 0. 0. 0.\n",
            " 0. 0. 0. 0. 0. 0. 0. 0. 0. 0. 0. 0. 0. 0. 0. 0. 0. 0. 0. 0. 0. 0. 0. 0.\n",
            " 0. 0. 0. 0. 0. 0. 0. 0. 0. 0. 0. 0. 0. 0. 0. 0. 0. 0. 0. 0. 0. 0. 0. 0.\n",
            " 0. 0. 0. 0. 0. 0. 0. 0. 0. 0. 0. 0. 0. 0. 0. 0. 0. 0. 0. 0. 0. 0. 0. 0.\n",
            " 0. 0. 0. 0. 0. 0. 0. 0. 0. 0. 0. 0. 0. 0. 0. 0. 0. 0. 0. 0. 0. 0. 0. 0.\n",
            " 0. 0. 0. 0. 0. 0. 0. 0. 0. 0. 0. 0. 0. 0. 0. 0. 0. 0. 0. 0. 0. 0. 0. 0.\n",
            " 0. 0. 0. 0. 0. 0. 0. 0. 0. 0. 0. 0. 0. 0. 0. 0. 0. 0. 0. 0. 0. 0. 0. 0.\n",
            " 0. 0. 0. 0. 0. 0. 0. 0. 0. 0. 0. 0. 0. 0. 0. 0. 0. 0. 0. 0. 0. 0. 0.]\n"
          ],
          "name": "stdout"
        }
      ]
    },
    {
      "cell_type": "code",
      "metadata": {
        "id": "2xmOWoHHTpcM",
        "colab_type": "code",
        "colab": {
          "base_uri": "https://localhost:8080/",
          "height": 1000
        },
        "outputId": "8bae8c15-be0e-4f7f-e84d-a7a31e5df7b2"
      },
      "source": [
        "  model = Sequential()\n",
        "  model.add(Embedding(words_len, 120, input_length=max_len-1)) # -1 because the last element is the label not input\n",
        "  model.add(Bidirectional(LSTM(20)))\n",
        "  model.add(Dense(words_len, activation='softmax'))\n",
        "  model.compile(loss='categorical_crossentropy', optimizer='adam', metrics=['accuracy'])\n",
        "  history = model.fit(X, Y, epochs=500, verbose=1)\n"
      ],
      "execution_count": 30,
      "outputs": [
        {
          "output_type": "stream",
          "text": [
            "Epoch 1/500\n",
            "15/15 [==============================] - 0s 8ms/step - loss: 5.5676 - accuracy: 0.0110\n",
            "Epoch 2/500\n",
            "15/15 [==============================] - 0s 9ms/step - loss: 5.5335 - accuracy: 0.0353\n",
            "Epoch 3/500\n",
            "15/15 [==============================] - 0s 8ms/step - loss: 5.4437 - accuracy: 0.0552\n",
            "Epoch 4/500\n",
            "15/15 [==============================] - 0s 8ms/step - loss: 5.2496 - accuracy: 0.0552\n",
            "Epoch 5/500\n",
            "15/15 [==============================] - 0s 8ms/step - loss: 5.1128 - accuracy: 0.0508\n",
            "Epoch 6/500\n",
            "15/15 [==============================] - 0s 9ms/step - loss: 5.0390 - accuracy: 0.0508\n",
            "Epoch 7/500\n",
            "15/15 [==============================] - 0s 8ms/step - loss: 4.9940 - accuracy: 0.0574\n",
            "Epoch 8/500\n",
            "15/15 [==============================] - 0s 8ms/step - loss: 4.9573 - accuracy: 0.0530\n",
            "Epoch 9/500\n",
            "15/15 [==============================] - 0s 8ms/step - loss: 4.9181 - accuracy: 0.0596\n",
            "Epoch 10/500\n",
            "15/15 [==============================] - 0s 7ms/step - loss: 4.8724 - accuracy: 0.0662\n",
            "Epoch 11/500\n",
            "15/15 [==============================] - 0s 8ms/step - loss: 4.8284 - accuracy: 0.0773\n",
            "Epoch 12/500\n",
            "15/15 [==============================] - 0s 8ms/step - loss: 4.7750 - accuracy: 0.0684\n",
            "Epoch 13/500\n",
            "15/15 [==============================] - 0s 8ms/step - loss: 4.7231 - accuracy: 0.0795\n",
            "Epoch 14/500\n",
            "15/15 [==============================] - 0s 8ms/step - loss: 4.6604 - accuracy: 0.0795\n",
            "Epoch 15/500\n",
            "15/15 [==============================] - 0s 7ms/step - loss: 4.5915 - accuracy: 0.0861\n",
            "Epoch 16/500\n",
            "15/15 [==============================] - 0s 9ms/step - loss: 4.5295 - accuracy: 0.0993\n",
            "Epoch 17/500\n",
            "15/15 [==============================] - 0s 8ms/step - loss: 4.4686 - accuracy: 0.1104\n",
            "Epoch 18/500\n",
            "15/15 [==============================] - 0s 8ms/step - loss: 4.3943 - accuracy: 0.1192\n",
            "Epoch 19/500\n",
            "15/15 [==============================] - 0s 8ms/step - loss: 4.3299 - accuracy: 0.1413\n",
            "Epoch 20/500\n",
            "15/15 [==============================] - 0s 8ms/step - loss: 4.2838 - accuracy: 0.1369\n",
            "Epoch 21/500\n",
            "15/15 [==============================] - 0s 8ms/step - loss: 4.2222 - accuracy: 0.1457\n",
            "Epoch 22/500\n",
            "15/15 [==============================] - 0s 8ms/step - loss: 4.1716 - accuracy: 0.1545\n",
            "Epoch 23/500\n",
            "15/15 [==============================] - 0s 8ms/step - loss: 4.1206 - accuracy: 0.1722\n",
            "Epoch 24/500\n",
            "15/15 [==============================] - 0s 9ms/step - loss: 4.0548 - accuracy: 0.1810\n",
            "Epoch 25/500\n",
            "15/15 [==============================] - 0s 10ms/step - loss: 4.0022 - accuracy: 0.1987\n",
            "Epoch 26/500\n",
            "15/15 [==============================] - 0s 9ms/step - loss: 3.9474 - accuracy: 0.1965\n",
            "Epoch 27/500\n",
            "15/15 [==============================] - 0s 9ms/step - loss: 3.8904 - accuracy: 0.2208\n",
            "Epoch 28/500\n",
            "15/15 [==============================] - 0s 9ms/step - loss: 3.8367 - accuracy: 0.2163\n",
            "Epoch 29/500\n",
            "15/15 [==============================] - 0s 9ms/step - loss: 3.7858 - accuracy: 0.2163\n",
            "Epoch 30/500\n",
            "15/15 [==============================] - 0s 9ms/step - loss: 3.7331 - accuracy: 0.2318\n",
            "Epoch 31/500\n",
            "15/15 [==============================] - 0s 8ms/step - loss: 3.6720 - accuracy: 0.2296\n",
            "Epoch 32/500\n",
            "15/15 [==============================] - 0s 9ms/step - loss: 3.6195 - accuracy: 0.2384\n",
            "Epoch 33/500\n",
            "15/15 [==============================] - 0s 9ms/step - loss: 3.5678 - accuracy: 0.2517\n",
            "Epoch 34/500\n",
            "15/15 [==============================] - 0s 9ms/step - loss: 3.5310 - accuracy: 0.2715\n",
            "Epoch 35/500\n",
            "15/15 [==============================] - 0s 10ms/step - loss: 3.4808 - accuracy: 0.3046\n",
            "Epoch 36/500\n",
            "15/15 [==============================] - 0s 8ms/step - loss: 3.4311 - accuracy: 0.2980\n",
            "Epoch 37/500\n",
            "15/15 [==============================] - 0s 8ms/step - loss: 3.3703 - accuracy: 0.3179\n",
            "Epoch 38/500\n",
            "15/15 [==============================] - 0s 7ms/step - loss: 3.3228 - accuracy: 0.3377\n",
            "Epoch 39/500\n",
            "15/15 [==============================] - 0s 7ms/step - loss: 3.2752 - accuracy: 0.3532\n",
            "Epoch 40/500\n",
            "15/15 [==============================] - 0s 9ms/step - loss: 3.2490 - accuracy: 0.3598\n",
            "Epoch 41/500\n",
            "15/15 [==============================] - 0s 9ms/step - loss: 3.1859 - accuracy: 0.3731\n",
            "Epoch 42/500\n",
            "15/15 [==============================] - 0s 8ms/step - loss: 3.1468 - accuracy: 0.3753\n",
            "Epoch 43/500\n",
            "15/15 [==============================] - 0s 8ms/step - loss: 3.0974 - accuracy: 0.3797\n",
            "Epoch 44/500\n",
            "15/15 [==============================] - 0s 8ms/step - loss: 3.0468 - accuracy: 0.3907\n",
            "Epoch 45/500\n",
            "15/15 [==============================] - 0s 9ms/step - loss: 3.0003 - accuracy: 0.4172\n",
            "Epoch 46/500\n",
            "15/15 [==============================] - 0s 9ms/step - loss: 2.9529 - accuracy: 0.4172\n",
            "Epoch 47/500\n",
            "15/15 [==============================] - 0s 10ms/step - loss: 2.9144 - accuracy: 0.4327\n",
            "Epoch 48/500\n",
            "15/15 [==============================] - 0s 10ms/step - loss: 2.8703 - accuracy: 0.4305\n",
            "Epoch 49/500\n",
            "15/15 [==============================] - 0s 9ms/step - loss: 2.8344 - accuracy: 0.4371\n",
            "Epoch 50/500\n",
            "15/15 [==============================] - 0s 8ms/step - loss: 2.7808 - accuracy: 0.4459\n",
            "Epoch 51/500\n",
            "15/15 [==============================] - 0s 10ms/step - loss: 2.7390 - accuracy: 0.4570\n",
            "Epoch 52/500\n",
            "15/15 [==============================] - 0s 9ms/step - loss: 2.6967 - accuracy: 0.4724\n",
            "Epoch 53/500\n",
            "15/15 [==============================] - 0s 10ms/step - loss: 2.6648 - accuracy: 0.4834\n",
            "Epoch 54/500\n",
            "15/15 [==============================] - 0s 9ms/step - loss: 2.6355 - accuracy: 0.5011\n",
            "Epoch 55/500\n",
            "15/15 [==============================] - 0s 9ms/step - loss: 2.6102 - accuracy: 0.5055\n",
            "Epoch 56/500\n",
            "15/15 [==============================] - 0s 8ms/step - loss: 2.5499 - accuracy: 0.5166\n",
            "Epoch 57/500\n",
            "15/15 [==============================] - 0s 8ms/step - loss: 2.5086 - accuracy: 0.5298\n",
            "Epoch 58/500\n",
            "15/15 [==============================] - 0s 8ms/step - loss: 2.4594 - accuracy: 0.5497\n",
            "Epoch 59/500\n",
            "15/15 [==============================] - 0s 8ms/step - loss: 2.4190 - accuracy: 0.5497\n",
            "Epoch 60/500\n",
            "15/15 [==============================] - 0s 10ms/step - loss: 2.3682 - accuracy: 0.5806\n",
            "Epoch 61/500\n",
            "15/15 [==============================] - 0s 10ms/step - loss: 2.3359 - accuracy: 0.5806\n",
            "Epoch 62/500\n",
            "15/15 [==============================] - 0s 9ms/step - loss: 2.2905 - accuracy: 0.5828\n",
            "Epoch 63/500\n",
            "15/15 [==============================] - 0s 8ms/step - loss: 2.2525 - accuracy: 0.5872\n",
            "Epoch 64/500\n",
            "15/15 [==============================] - 0s 9ms/step - loss: 2.2252 - accuracy: 0.6093\n",
            "Epoch 65/500\n",
            "15/15 [==============================] - 0s 8ms/step - loss: 2.1858 - accuracy: 0.6269\n",
            "Epoch 66/500\n",
            "15/15 [==============================] - 0s 7ms/step - loss: 2.1610 - accuracy: 0.6181\n",
            "Epoch 67/500\n",
            "15/15 [==============================] - 0s 9ms/step - loss: 2.1409 - accuracy: 0.6181\n",
            "Epoch 68/500\n",
            "15/15 [==============================] - 0s 7ms/step - loss: 2.0962 - accuracy: 0.6336\n",
            "Epoch 69/500\n",
            "15/15 [==============================] - 0s 8ms/step - loss: 2.0577 - accuracy: 0.6600\n",
            "Epoch 70/500\n",
            "15/15 [==============================] - 0s 8ms/step - loss: 2.0305 - accuracy: 0.6755\n",
            "Epoch 71/500\n",
            "15/15 [==============================] - 0s 7ms/step - loss: 1.9947 - accuracy: 0.6799\n",
            "Epoch 72/500\n",
            "15/15 [==============================] - 0s 8ms/step - loss: 1.9692 - accuracy: 0.6689\n",
            "Epoch 73/500\n",
            "15/15 [==============================] - 0s 8ms/step - loss: 1.9565 - accuracy: 0.6689\n",
            "Epoch 74/500\n",
            "15/15 [==============================] - 0s 8ms/step - loss: 2.0058 - accuracy: 0.6578\n",
            "Epoch 75/500\n",
            "15/15 [==============================] - 0s 8ms/step - loss: 1.9577 - accuracy: 0.6600\n",
            "Epoch 76/500\n",
            "15/15 [==============================] - 0s 8ms/step - loss: 1.9229 - accuracy: 0.6821\n",
            "Epoch 77/500\n",
            "15/15 [==============================] - 0s 8ms/step - loss: 1.8601 - accuracy: 0.6887\n",
            "Epoch 78/500\n",
            "15/15 [==============================] - 0s 8ms/step - loss: 1.8145 - accuracy: 0.7130\n",
            "Epoch 79/500\n",
            "15/15 [==============================] - 0s 8ms/step - loss: 1.8137 - accuracy: 0.6976\n",
            "Epoch 80/500\n",
            "15/15 [==============================] - 0s 8ms/step - loss: 1.7725 - accuracy: 0.7307\n",
            "Epoch 81/500\n",
            "15/15 [==============================] - 0s 7ms/step - loss: 1.7466 - accuracy: 0.7395\n",
            "Epoch 82/500\n",
            "15/15 [==============================] - 0s 8ms/step - loss: 1.7111 - accuracy: 0.7395\n",
            "Epoch 83/500\n",
            "15/15 [==============================] - 0s 8ms/step - loss: 1.6897 - accuracy: 0.7329\n",
            "Epoch 84/500\n",
            "15/15 [==============================] - 0s 9ms/step - loss: 1.6667 - accuracy: 0.7461\n",
            "Epoch 85/500\n",
            "15/15 [==============================] - 0s 9ms/step - loss: 1.6404 - accuracy: 0.7506\n",
            "Epoch 86/500\n",
            "15/15 [==============================] - 0s 8ms/step - loss: 1.6246 - accuracy: 0.7417\n",
            "Epoch 87/500\n",
            "15/15 [==============================] - 0s 9ms/step - loss: 1.6034 - accuracy: 0.7506\n",
            "Epoch 88/500\n",
            "15/15 [==============================] - 0s 9ms/step - loss: 1.5793 - accuracy: 0.7616\n",
            "Epoch 89/500\n",
            "15/15 [==============================] - 0s 10ms/step - loss: 1.5491 - accuracy: 0.7682\n",
            "Epoch 90/500\n",
            "15/15 [==============================] - 0s 9ms/step - loss: 1.5274 - accuracy: 0.7638\n",
            "Epoch 91/500\n",
            "15/15 [==============================] - 0s 10ms/step - loss: 1.5042 - accuracy: 0.7638\n",
            "Epoch 92/500\n",
            "15/15 [==============================] - 0s 8ms/step - loss: 1.4789 - accuracy: 0.7704\n",
            "Epoch 93/500\n",
            "15/15 [==============================] - 0s 8ms/step - loss: 1.4548 - accuracy: 0.7748\n",
            "Epoch 94/500\n",
            "15/15 [==============================] - 0s 8ms/step - loss: 1.4350 - accuracy: 0.7815\n",
            "Epoch 95/500\n",
            "15/15 [==============================] - 0s 7ms/step - loss: 1.4105 - accuracy: 0.7903\n",
            "Epoch 96/500\n",
            "15/15 [==============================] - 0s 8ms/step - loss: 1.3914 - accuracy: 0.7881\n",
            "Epoch 97/500\n",
            "15/15 [==============================] - 0s 8ms/step - loss: 1.3712 - accuracy: 0.8013\n",
            "Epoch 98/500\n",
            "15/15 [==============================] - 0s 8ms/step - loss: 1.3531 - accuracy: 0.8035\n",
            "Epoch 99/500\n",
            "15/15 [==============================] - 0s 8ms/step - loss: 1.3327 - accuracy: 0.8035\n",
            "Epoch 100/500\n",
            "15/15 [==============================] - 0s 9ms/step - loss: 1.3232 - accuracy: 0.7991\n",
            "Epoch 101/500\n",
            "15/15 [==============================] - 0s 8ms/step - loss: 1.3004 - accuracy: 0.8079\n",
            "Epoch 102/500\n",
            "15/15 [==============================] - 0s 7ms/step - loss: 1.2815 - accuracy: 0.8124\n",
            "Epoch 103/500\n",
            "15/15 [==============================] - 0s 8ms/step - loss: 1.2785 - accuracy: 0.8124\n",
            "Epoch 104/500\n",
            "15/15 [==============================] - 0s 8ms/step - loss: 1.2710 - accuracy: 0.8035\n",
            "Epoch 105/500\n",
            "15/15 [==============================] - 0s 8ms/step - loss: 1.2582 - accuracy: 0.8079\n",
            "Epoch 106/500\n",
            "15/15 [==============================] - 0s 9ms/step - loss: 1.2418 - accuracy: 0.8190\n",
            "Epoch 107/500\n",
            "15/15 [==============================] - 0s 8ms/step - loss: 1.2383 - accuracy: 0.8190\n",
            "Epoch 108/500\n",
            "15/15 [==============================] - 0s 7ms/step - loss: 1.2146 - accuracy: 0.8278\n",
            "Epoch 109/500\n",
            "15/15 [==============================] - 0s 8ms/step - loss: 1.1924 - accuracy: 0.8322\n",
            "Epoch 110/500\n",
            "15/15 [==============================] - 0s 8ms/step - loss: 1.1700 - accuracy: 0.8300\n",
            "Epoch 111/500\n",
            "15/15 [==============================] - 0s 7ms/step - loss: 1.1491 - accuracy: 0.8366\n",
            "Epoch 112/500\n",
            "15/15 [==============================] - 0s 8ms/step - loss: 1.1324 - accuracy: 0.8411\n",
            "Epoch 113/500\n",
            "15/15 [==============================] - 0s 8ms/step - loss: 1.1154 - accuracy: 0.8433\n",
            "Epoch 114/500\n",
            "15/15 [==============================] - 0s 8ms/step - loss: 1.1009 - accuracy: 0.8411\n",
            "Epoch 115/500\n",
            "15/15 [==============================] - 0s 10ms/step - loss: 1.0878 - accuracy: 0.8433\n",
            "Epoch 116/500\n",
            "15/15 [==============================] - 0s 8ms/step - loss: 1.0689 - accuracy: 0.8499\n",
            "Epoch 117/500\n",
            "15/15 [==============================] - 0s 8ms/step - loss: 1.0614 - accuracy: 0.8499\n",
            "Epoch 118/500\n",
            "15/15 [==============================] - 0s 7ms/step - loss: 1.0521 - accuracy: 0.8521\n",
            "Epoch 119/500\n",
            "15/15 [==============================] - 0s 8ms/step - loss: 1.0436 - accuracy: 0.8521\n",
            "Epoch 120/500\n",
            "15/15 [==============================] - 0s 8ms/step - loss: 1.0365 - accuracy: 0.8587\n",
            "Epoch 121/500\n",
            "15/15 [==============================] - 0s 8ms/step - loss: 1.0158 - accuracy: 0.8609\n",
            "Epoch 122/500\n",
            "15/15 [==============================] - 0s 8ms/step - loss: 1.0007 - accuracy: 0.8609\n",
            "Epoch 123/500\n",
            "15/15 [==============================] - 0s 8ms/step - loss: 0.9815 - accuracy: 0.8653\n",
            "Epoch 124/500\n",
            "15/15 [==============================] - 0s 7ms/step - loss: 0.9668 - accuracy: 0.8675\n",
            "Epoch 125/500\n",
            "15/15 [==============================] - 0s 8ms/step - loss: 0.9537 - accuracy: 0.8631\n",
            "Epoch 126/500\n",
            "15/15 [==============================] - 0s 8ms/step - loss: 0.9398 - accuracy: 0.8720\n",
            "Epoch 127/500\n",
            "15/15 [==============================] - 0s 8ms/step - loss: 0.9289 - accuracy: 0.8675\n",
            "Epoch 128/500\n",
            "15/15 [==============================] - 0s 7ms/step - loss: 0.9177 - accuracy: 0.8742\n",
            "Epoch 129/500\n",
            "15/15 [==============================] - 0s 8ms/step - loss: 0.9055 - accuracy: 0.8764\n",
            "Epoch 130/500\n",
            "15/15 [==============================] - 0s 7ms/step - loss: 0.8936 - accuracy: 0.8764\n",
            "Epoch 131/500\n",
            "15/15 [==============================] - 0s 8ms/step - loss: 0.8825 - accuracy: 0.8786\n",
            "Epoch 132/500\n",
            "15/15 [==============================] - 0s 8ms/step - loss: 0.8719 - accuracy: 0.8852\n",
            "Epoch 133/500\n",
            "15/15 [==============================] - 0s 8ms/step - loss: 0.8648 - accuracy: 0.8852\n",
            "Epoch 134/500\n",
            "15/15 [==============================] - 0s 8ms/step - loss: 0.8521 - accuracy: 0.8808\n",
            "Epoch 135/500\n",
            "15/15 [==============================] - 0s 7ms/step - loss: 0.8423 - accuracy: 0.8830\n",
            "Epoch 136/500\n",
            "15/15 [==============================] - 0s 8ms/step - loss: 0.8325 - accuracy: 0.8940\n",
            "Epoch 137/500\n",
            "15/15 [==============================] - 0s 8ms/step - loss: 0.8206 - accuracy: 0.9007\n",
            "Epoch 138/500\n",
            "15/15 [==============================] - 0s 8ms/step - loss: 0.8126 - accuracy: 0.9007\n",
            "Epoch 139/500\n",
            "15/15 [==============================] - 0s 8ms/step - loss: 0.8015 - accuracy: 0.9139\n",
            "Epoch 140/500\n",
            "15/15 [==============================] - 0s 7ms/step - loss: 0.7915 - accuracy: 0.9117\n",
            "Epoch 141/500\n",
            "15/15 [==============================] - 0s 7ms/step - loss: 0.7826 - accuracy: 0.9073\n",
            "Epoch 142/500\n",
            "15/15 [==============================] - 0s 8ms/step - loss: 0.7743 - accuracy: 0.9139\n",
            "Epoch 143/500\n",
            "15/15 [==============================] - 0s 8ms/step - loss: 0.7641 - accuracy: 0.9117\n",
            "Epoch 144/500\n",
            "15/15 [==============================] - 0s 8ms/step - loss: 0.7548 - accuracy: 0.9095\n",
            "Epoch 145/500\n",
            "15/15 [==============================] - 0s 7ms/step - loss: 0.7469 - accuracy: 0.9183\n",
            "Epoch 146/500\n",
            "15/15 [==============================] - 0s 8ms/step - loss: 0.7371 - accuracy: 0.9161\n",
            "Epoch 147/500\n",
            "15/15 [==============================] - 0s 8ms/step - loss: 0.7273 - accuracy: 0.9117\n",
            "Epoch 148/500\n",
            "15/15 [==============================] - 0s 8ms/step - loss: 0.7206 - accuracy: 0.9117\n",
            "Epoch 149/500\n",
            "15/15 [==============================] - 0s 9ms/step - loss: 0.7125 - accuracy: 0.9117\n",
            "Epoch 150/500\n",
            "15/15 [==============================] - 0s 8ms/step - loss: 0.7054 - accuracy: 0.9117\n",
            "Epoch 151/500\n",
            "15/15 [==============================] - 0s 8ms/step - loss: 0.6945 - accuracy: 0.9205\n",
            "Epoch 152/500\n",
            "15/15 [==============================] - 0s 8ms/step - loss: 0.6870 - accuracy: 0.9205\n",
            "Epoch 153/500\n",
            "15/15 [==============================] - 0s 7ms/step - loss: 0.6780 - accuracy: 0.9205\n",
            "Epoch 154/500\n",
            "15/15 [==============================] - 0s 7ms/step - loss: 0.6724 - accuracy: 0.9249\n",
            "Epoch 155/500\n",
            "15/15 [==============================] - 0s 8ms/step - loss: 0.6652 - accuracy: 0.9205\n",
            "Epoch 156/500\n",
            "15/15 [==============================] - 0s 7ms/step - loss: 0.6557 - accuracy: 0.9205\n",
            "Epoch 157/500\n",
            "15/15 [==============================] - 0s 8ms/step - loss: 0.6495 - accuracy: 0.9249\n",
            "Epoch 158/500\n",
            "15/15 [==============================] - 0s 8ms/step - loss: 0.6417 - accuracy: 0.9294\n",
            "Epoch 159/500\n",
            "15/15 [==============================] - 0s 8ms/step - loss: 0.6346 - accuracy: 0.9316\n",
            "Epoch 160/500\n",
            "15/15 [==============================] - 0s 8ms/step - loss: 0.6288 - accuracy: 0.9338\n",
            "Epoch 161/500\n",
            "15/15 [==============================] - 0s 8ms/step - loss: 0.6349 - accuracy: 0.9272\n",
            "Epoch 162/500\n",
            "15/15 [==============================] - 0s 8ms/step - loss: 0.6372 - accuracy: 0.9249\n",
            "Epoch 163/500\n",
            "15/15 [==============================] - 0s 8ms/step - loss: 0.6298 - accuracy: 0.9316\n",
            "Epoch 164/500\n",
            "15/15 [==============================] - 0s 8ms/step - loss: 0.6325 - accuracy: 0.9227\n",
            "Epoch 165/500\n",
            "15/15 [==============================] - 0s 8ms/step - loss: 0.6354 - accuracy: 0.9249\n",
            "Epoch 166/500\n",
            "15/15 [==============================] - 0s 8ms/step - loss: 0.6306 - accuracy: 0.9272\n",
            "Epoch 167/500\n",
            "15/15 [==============================] - 0s 8ms/step - loss: 0.6349 - accuracy: 0.9183\n",
            "Epoch 168/500\n",
            "15/15 [==============================] - 0s 9ms/step - loss: 0.6094 - accuracy: 0.9272\n",
            "Epoch 169/500\n",
            "15/15 [==============================] - 0s 8ms/step - loss: 0.6123 - accuracy: 0.9227\n",
            "Epoch 170/500\n",
            "15/15 [==============================] - 0s 7ms/step - loss: 0.5878 - accuracy: 0.9360\n",
            "Epoch 171/500\n",
            "15/15 [==============================] - 0s 8ms/step - loss: 0.5813 - accuracy: 0.9294\n",
            "Epoch 172/500\n",
            "15/15 [==============================] - 0s 8ms/step - loss: 0.5688 - accuracy: 0.9294\n",
            "Epoch 173/500\n",
            "15/15 [==============================] - 0s 9ms/step - loss: 0.5641 - accuracy: 0.9227\n",
            "Epoch 174/500\n",
            "15/15 [==============================] - 0s 9ms/step - loss: 0.5567 - accuracy: 0.9360\n",
            "Epoch 175/500\n",
            "15/15 [==============================] - 0s 8ms/step - loss: 0.5537 - accuracy: 0.9338\n",
            "Epoch 176/500\n",
            "15/15 [==============================] - 0s 8ms/step - loss: 0.5567 - accuracy: 0.9316\n",
            "Epoch 177/500\n",
            "15/15 [==============================] - 0s 7ms/step - loss: 0.5525 - accuracy: 0.9338\n",
            "Epoch 178/500\n",
            "15/15 [==============================] - 0s 7ms/step - loss: 0.5711 - accuracy: 0.9227\n",
            "Epoch 179/500\n",
            "15/15 [==============================] - 0s 8ms/step - loss: 0.5538 - accuracy: 0.9294\n",
            "Epoch 180/500\n",
            "15/15 [==============================] - 0s 7ms/step - loss: 0.5322 - accuracy: 0.9338\n",
            "Epoch 181/500\n",
            "15/15 [==============================] - 0s 7ms/step - loss: 0.5240 - accuracy: 0.9338\n",
            "Epoch 182/500\n",
            "15/15 [==============================] - 0s 8ms/step - loss: 0.5131 - accuracy: 0.9272\n",
            "Epoch 183/500\n",
            "15/15 [==============================] - 0s 9ms/step - loss: 0.5196 - accuracy: 0.9338\n",
            "Epoch 184/500\n",
            "15/15 [==============================] - 0s 10ms/step - loss: 0.5301 - accuracy: 0.9316\n",
            "Epoch 185/500\n",
            "15/15 [==============================] - 0s 9ms/step - loss: 0.5319 - accuracy: 0.9249\n",
            "Epoch 186/500\n",
            "15/15 [==============================] - 0s 10ms/step - loss: 0.5191 - accuracy: 0.9338\n",
            "Epoch 187/500\n",
            "15/15 [==============================] - 0s 9ms/step - loss: 0.5125 - accuracy: 0.9360\n",
            "Epoch 188/500\n",
            "15/15 [==============================] - 0s 7ms/step - loss: 0.4968 - accuracy: 0.9360\n",
            "Epoch 189/500\n",
            "15/15 [==============================] - 0s 7ms/step - loss: 0.4870 - accuracy: 0.9404\n",
            "Epoch 190/500\n",
            "15/15 [==============================] - 0s 8ms/step - loss: 0.4747 - accuracy: 0.9404\n",
            "Epoch 191/500\n",
            "15/15 [==============================] - 0s 7ms/step - loss: 0.4664 - accuracy: 0.9382\n",
            "Epoch 192/500\n",
            "15/15 [==============================] - 0s 9ms/step - loss: 0.4631 - accuracy: 0.9404\n",
            "Epoch 193/500\n",
            "15/15 [==============================] - 0s 9ms/step - loss: 0.4568 - accuracy: 0.9426\n",
            "Epoch 194/500\n",
            "15/15 [==============================] - 0s 8ms/step - loss: 0.4515 - accuracy: 0.9426\n",
            "Epoch 195/500\n",
            "15/15 [==============================] - 0s 8ms/step - loss: 0.4484 - accuracy: 0.9404\n",
            "Epoch 196/500\n",
            "15/15 [==============================] - 0s 7ms/step - loss: 0.4420 - accuracy: 0.9426\n",
            "Epoch 197/500\n",
            "15/15 [==============================] - 0s 8ms/step - loss: 0.4376 - accuracy: 0.9426\n",
            "Epoch 198/500\n",
            "15/15 [==============================] - 0s 8ms/step - loss: 0.4321 - accuracy: 0.9426\n",
            "Epoch 199/500\n",
            "15/15 [==============================] - 0s 7ms/step - loss: 0.4287 - accuracy: 0.9426\n",
            "Epoch 200/500\n",
            "15/15 [==============================] - 0s 7ms/step - loss: 0.4239 - accuracy: 0.9426\n",
            "Epoch 201/500\n",
            "15/15 [==============================] - 0s 8ms/step - loss: 0.4211 - accuracy: 0.9448\n",
            "Epoch 202/500\n",
            "15/15 [==============================] - 0s 8ms/step - loss: 0.4171 - accuracy: 0.9426\n",
            "Epoch 203/500\n",
            "15/15 [==============================] - 0s 7ms/step - loss: 0.4130 - accuracy: 0.9404\n",
            "Epoch 204/500\n",
            "15/15 [==============================] - 0s 8ms/step - loss: 0.4090 - accuracy: 0.9404\n",
            "Epoch 205/500\n",
            "15/15 [==============================] - 0s 8ms/step - loss: 0.4061 - accuracy: 0.9426\n",
            "Epoch 206/500\n",
            "15/15 [==============================] - 0s 7ms/step - loss: 0.4026 - accuracy: 0.9426\n",
            "Epoch 207/500\n",
            "15/15 [==============================] - 0s 7ms/step - loss: 0.4006 - accuracy: 0.9426\n",
            "Epoch 208/500\n",
            "15/15 [==============================] - 0s 8ms/step - loss: 0.3964 - accuracy: 0.9426\n",
            "Epoch 209/500\n",
            "15/15 [==============================] - 0s 8ms/step - loss: 0.3943 - accuracy: 0.9404\n",
            "Epoch 210/500\n",
            "15/15 [==============================] - 0s 7ms/step - loss: 0.3903 - accuracy: 0.9426\n",
            "Epoch 211/500\n",
            "15/15 [==============================] - 0s 9ms/step - loss: 0.3859 - accuracy: 0.9382\n",
            "Epoch 212/500\n",
            "15/15 [==============================] - 0s 10ms/step - loss: 0.3832 - accuracy: 0.9404\n",
            "Epoch 213/500\n",
            "15/15 [==============================] - 0s 9ms/step - loss: 0.3797 - accuracy: 0.9404\n",
            "Epoch 214/500\n",
            "15/15 [==============================] - 0s 9ms/step - loss: 0.3754 - accuracy: 0.9404\n",
            "Epoch 215/500\n",
            "15/15 [==============================] - 0s 10ms/step - loss: 0.3718 - accuracy: 0.9426\n",
            "Epoch 216/500\n",
            "15/15 [==============================] - 0s 10ms/step - loss: 0.3696 - accuracy: 0.9426\n",
            "Epoch 217/500\n",
            "15/15 [==============================] - 0s 8ms/step - loss: 0.3665 - accuracy: 0.9404\n",
            "Epoch 218/500\n",
            "15/15 [==============================] - 0s 8ms/step - loss: 0.3635 - accuracy: 0.9338\n",
            "Epoch 219/500\n",
            "15/15 [==============================] - 0s 7ms/step - loss: 0.3593 - accuracy: 0.9404\n",
            "Epoch 220/500\n",
            "15/15 [==============================] - 0s 8ms/step - loss: 0.3569 - accuracy: 0.9426\n",
            "Epoch 221/500\n",
            "15/15 [==============================] - 0s 7ms/step - loss: 0.3539 - accuracy: 0.9404\n",
            "Epoch 222/500\n",
            "15/15 [==============================] - 0s 7ms/step - loss: 0.3492 - accuracy: 0.9426\n",
            "Epoch 223/500\n",
            "15/15 [==============================] - 0s 8ms/step - loss: 0.3473 - accuracy: 0.9404\n",
            "Epoch 224/500\n",
            "15/15 [==============================] - 0s 8ms/step - loss: 0.3440 - accuracy: 0.9448\n",
            "Epoch 225/500\n",
            "15/15 [==============================] - 0s 8ms/step - loss: 0.3415 - accuracy: 0.9426\n",
            "Epoch 226/500\n",
            "15/15 [==============================] - 0s 10ms/step - loss: 0.3399 - accuracy: 0.9382\n",
            "Epoch 227/500\n",
            "15/15 [==============================] - 0s 9ms/step - loss: 0.3372 - accuracy: 0.9404\n",
            "Epoch 228/500\n",
            "15/15 [==============================] - 0s 9ms/step - loss: 0.3335 - accuracy: 0.9404\n",
            "Epoch 229/500\n",
            "15/15 [==============================] - 0s 10ms/step - loss: 0.3302 - accuracy: 0.9448\n",
            "Epoch 230/500\n",
            "15/15 [==============================] - 0s 10ms/step - loss: 0.3286 - accuracy: 0.9426\n",
            "Epoch 231/500\n",
            "15/15 [==============================] - 0s 8ms/step - loss: 0.3261 - accuracy: 0.9426\n",
            "Epoch 232/500\n",
            "15/15 [==============================] - 0s 8ms/step - loss: 0.3233 - accuracy: 0.9448\n",
            "Epoch 233/500\n",
            "15/15 [==============================] - 0s 8ms/step - loss: 0.3204 - accuracy: 0.9426\n",
            "Epoch 234/500\n",
            "15/15 [==============================] - 0s 7ms/step - loss: 0.3186 - accuracy: 0.9470\n",
            "Epoch 235/500\n",
            "15/15 [==============================] - 0s 7ms/step - loss: 0.3155 - accuracy: 0.9448\n",
            "Epoch 236/500\n",
            "15/15 [==============================] - 0s 8ms/step - loss: 0.3128 - accuracy: 0.9470\n",
            "Epoch 237/500\n",
            "15/15 [==============================] - 0s 7ms/step - loss: 0.3178 - accuracy: 0.9426\n",
            "Epoch 238/500\n",
            "15/15 [==============================] - 0s 8ms/step - loss: 0.3204 - accuracy: 0.9426\n",
            "Epoch 239/500\n",
            "15/15 [==============================] - 0s 7ms/step - loss: 0.3187 - accuracy: 0.9448\n",
            "Epoch 240/500\n",
            "15/15 [==============================] - 0s 8ms/step - loss: 0.3116 - accuracy: 0.9470\n",
            "Epoch 241/500\n",
            "15/15 [==============================] - 0s 8ms/step - loss: 0.3070 - accuracy: 0.9470\n",
            "Epoch 242/500\n",
            "15/15 [==============================] - 0s 7ms/step - loss: 0.3015 - accuracy: 0.9448\n",
            "Epoch 243/500\n",
            "15/15 [==============================] - 0s 7ms/step - loss: 0.3008 - accuracy: 0.9448\n",
            "Epoch 244/500\n",
            "15/15 [==============================] - 0s 7ms/step - loss: 0.2973 - accuracy: 0.9492\n",
            "Epoch 245/500\n",
            "15/15 [==============================] - 0s 8ms/step - loss: 0.3002 - accuracy: 0.9448\n",
            "Epoch 246/500\n",
            "15/15 [==============================] - 0s 8ms/step - loss: 0.2957 - accuracy: 0.9492\n",
            "Epoch 247/500\n",
            "15/15 [==============================] - 0s 8ms/step - loss: 0.2910 - accuracy: 0.9470\n",
            "Epoch 248/500\n",
            "15/15 [==============================] - 0s 8ms/step - loss: 0.2958 - accuracy: 0.9448\n",
            "Epoch 249/500\n",
            "15/15 [==============================] - 0s 7ms/step - loss: 0.2899 - accuracy: 0.9448\n",
            "Epoch 250/500\n",
            "15/15 [==============================] - 0s 7ms/step - loss: 0.2858 - accuracy: 0.9426\n",
            "Epoch 251/500\n",
            "15/15 [==============================] - 0s 8ms/step - loss: 0.2830 - accuracy: 0.9448\n",
            "Epoch 252/500\n",
            "15/15 [==============================] - 0s 9ms/step - loss: 0.2806 - accuracy: 0.9492\n",
            "Epoch 253/500\n",
            "15/15 [==============================] - 0s 9ms/step - loss: 0.2805 - accuracy: 0.9470\n",
            "Epoch 254/500\n",
            "15/15 [==============================] - 0s 9ms/step - loss: 0.2782 - accuracy: 0.9470\n",
            "Epoch 255/500\n",
            "15/15 [==============================] - 0s 8ms/step - loss: 0.2757 - accuracy: 0.9470\n",
            "Epoch 256/500\n",
            "15/15 [==============================] - 0s 8ms/step - loss: 0.2728 - accuracy: 0.9514\n",
            "Epoch 257/500\n",
            "15/15 [==============================] - 0s 8ms/step - loss: 0.2696 - accuracy: 0.9470\n",
            "Epoch 258/500\n",
            "15/15 [==============================] - 0s 8ms/step - loss: 0.2721 - accuracy: 0.9448\n",
            "Epoch 259/500\n",
            "15/15 [==============================] - 0s 7ms/step - loss: 0.2684 - accuracy: 0.9492\n",
            "Epoch 260/500\n",
            "15/15 [==============================] - 0s 8ms/step - loss: 0.2645 - accuracy: 0.9492\n",
            "Epoch 261/500\n",
            "15/15 [==============================] - 0s 8ms/step - loss: 0.2624 - accuracy: 0.9404\n",
            "Epoch 262/500\n",
            "15/15 [==============================] - 0s 8ms/step - loss: 0.2618 - accuracy: 0.9448\n",
            "Epoch 263/500\n",
            "15/15 [==============================] - 0s 8ms/step - loss: 0.2582 - accuracy: 0.9514\n",
            "Epoch 264/500\n",
            "15/15 [==============================] - 0s 7ms/step - loss: 0.2562 - accuracy: 0.9470\n",
            "Epoch 265/500\n",
            "15/15 [==============================] - 0s 8ms/step - loss: 0.2542 - accuracy: 0.9470\n",
            "Epoch 266/500\n",
            "15/15 [==============================] - 0s 8ms/step - loss: 0.2533 - accuracy: 0.9426\n",
            "Epoch 267/500\n",
            "15/15 [==============================] - 0s 7ms/step - loss: 0.2514 - accuracy: 0.9470\n",
            "Epoch 268/500\n",
            "15/15 [==============================] - 0s 8ms/step - loss: 0.2501 - accuracy: 0.9470\n",
            "Epoch 269/500\n",
            "15/15 [==============================] - 0s 12ms/step - loss: 0.2479 - accuracy: 0.9426\n",
            "Epoch 270/500\n",
            "15/15 [==============================] - 0s 10ms/step - loss: 0.2465 - accuracy: 0.9470\n",
            "Epoch 271/500\n",
            "15/15 [==============================] - 0s 9ms/step - loss: 0.2504 - accuracy: 0.9382\n",
            "Epoch 272/500\n",
            "15/15 [==============================] - 0s 9ms/step - loss: 0.2554 - accuracy: 0.9404\n",
            "Epoch 273/500\n",
            "15/15 [==============================] - 0s 9ms/step - loss: 0.2572 - accuracy: 0.9404\n",
            "Epoch 274/500\n",
            "15/15 [==============================] - 0s 10ms/step - loss: 0.2424 - accuracy: 0.9492\n",
            "Epoch 275/500\n",
            "15/15 [==============================] - 0s 9ms/step - loss: 0.2395 - accuracy: 0.9492\n",
            "Epoch 276/500\n",
            "15/15 [==============================] - 0s 8ms/step - loss: 0.2384 - accuracy: 0.9448\n",
            "Epoch 277/500\n",
            "15/15 [==============================] - 0s 8ms/step - loss: 0.2364 - accuracy: 0.9492\n",
            "Epoch 278/500\n",
            "15/15 [==============================] - 0s 8ms/step - loss: 0.2348 - accuracy: 0.9492\n",
            "Epoch 279/500\n",
            "15/15 [==============================] - 0s 8ms/step - loss: 0.2337 - accuracy: 0.9470\n",
            "Epoch 280/500\n",
            "15/15 [==============================] - 0s 8ms/step - loss: 0.2322 - accuracy: 0.9492\n",
            "Epoch 281/500\n",
            "15/15 [==============================] - 0s 8ms/step - loss: 0.2297 - accuracy: 0.9470\n",
            "Epoch 282/500\n",
            "15/15 [==============================] - 0s 9ms/step - loss: 0.2299 - accuracy: 0.9492\n",
            "Epoch 283/500\n",
            "15/15 [==============================] - 0s 10ms/step - loss: 0.2275 - accuracy: 0.9448\n",
            "Epoch 284/500\n",
            "15/15 [==============================] - 0s 8ms/step - loss: 0.2261 - accuracy: 0.9448\n",
            "Epoch 285/500\n",
            "15/15 [==============================] - 0s 7ms/step - loss: 0.2244 - accuracy: 0.9470\n",
            "Epoch 286/500\n",
            "15/15 [==============================] - 0s 8ms/step - loss: 0.2249 - accuracy: 0.9470\n",
            "Epoch 287/500\n",
            "15/15 [==============================] - 0s 8ms/step - loss: 0.2228 - accuracy: 0.9470\n",
            "Epoch 288/500\n",
            "15/15 [==============================] - 0s 9ms/step - loss: 0.2208 - accuracy: 0.9448\n",
            "Epoch 289/500\n",
            "15/15 [==============================] - 0s 8ms/step - loss: 0.2192 - accuracy: 0.9492\n",
            "Epoch 290/500\n",
            "15/15 [==============================] - 0s 8ms/step - loss: 0.2173 - accuracy: 0.9492\n",
            "Epoch 291/500\n",
            "15/15 [==============================] - 0s 8ms/step - loss: 0.2159 - accuracy: 0.9492\n",
            "Epoch 292/500\n",
            "15/15 [==============================] - 0s 9ms/step - loss: 0.2147 - accuracy: 0.9514\n",
            "Epoch 293/500\n",
            "15/15 [==============================] - 0s 9ms/step - loss: 0.2141 - accuracy: 0.9426\n",
            "Epoch 294/500\n",
            "15/15 [==============================] - 0s 10ms/step - loss: 0.2119 - accuracy: 0.9448\n",
            "Epoch 295/500\n",
            "15/15 [==============================] - 0s 9ms/step - loss: 0.2105 - accuracy: 0.9514\n",
            "Epoch 296/500\n",
            "15/15 [==============================] - 0s 9ms/step - loss: 0.2098 - accuracy: 0.9514\n",
            "Epoch 297/500\n",
            "15/15 [==============================] - 0s 8ms/step - loss: 0.2098 - accuracy: 0.9514\n",
            "Epoch 298/500\n",
            "15/15 [==============================] - 0s 8ms/step - loss: 0.2093 - accuracy: 0.9492\n",
            "Epoch 299/500\n",
            "15/15 [==============================] - 0s 8ms/step - loss: 0.2081 - accuracy: 0.9514\n",
            "Epoch 300/500\n",
            "15/15 [==============================] - 0s 7ms/step - loss: 0.2062 - accuracy: 0.9492\n",
            "Epoch 301/500\n",
            "15/15 [==============================] - 0s 8ms/step - loss: 0.2049 - accuracy: 0.9514\n",
            "Epoch 302/500\n",
            "15/15 [==============================] - 0s 8ms/step - loss: 0.2032 - accuracy: 0.9470\n",
            "Epoch 303/500\n",
            "15/15 [==============================] - 0s 9ms/step - loss: 0.2029 - accuracy: 0.9514\n",
            "Epoch 304/500\n",
            "15/15 [==============================] - 0s 9ms/step - loss: 0.2007 - accuracy: 0.9514\n",
            "Epoch 305/500\n",
            "15/15 [==============================] - 0s 8ms/step - loss: 0.2000 - accuracy: 0.9492\n",
            "Epoch 306/500\n",
            "15/15 [==============================] - 0s 8ms/step - loss: 0.1990 - accuracy: 0.9514\n",
            "Epoch 307/500\n",
            "15/15 [==============================] - 0s 8ms/step - loss: 0.1977 - accuracy: 0.9514\n",
            "Epoch 308/500\n",
            "15/15 [==============================] - 0s 7ms/step - loss: 0.1973 - accuracy: 0.9492\n",
            "Epoch 309/500\n",
            "15/15 [==============================] - 0s 8ms/step - loss: 0.1967 - accuracy: 0.9492\n",
            "Epoch 310/500\n",
            "15/15 [==============================] - 0s 8ms/step - loss: 0.1947 - accuracy: 0.9514\n",
            "Epoch 311/500\n",
            "15/15 [==============================] - 0s 7ms/step - loss: 0.1935 - accuracy: 0.9448\n",
            "Epoch 312/500\n",
            "15/15 [==============================] - 0s 8ms/step - loss: 0.1961 - accuracy: 0.9536\n",
            "Epoch 313/500\n",
            "15/15 [==============================] - 0s 9ms/step - loss: 0.1968 - accuracy: 0.9448\n",
            "Epoch 314/500\n",
            "15/15 [==============================] - 0s 8ms/step - loss: 0.1947 - accuracy: 0.9514\n",
            "Epoch 315/500\n",
            "15/15 [==============================] - 0s 8ms/step - loss: 0.2089 - accuracy: 0.9426\n",
            "Epoch 316/500\n",
            "15/15 [==============================] - 0s 8ms/step - loss: 0.1974 - accuracy: 0.9514\n",
            "Epoch 317/500\n",
            "15/15 [==============================] - 0s 8ms/step - loss: 0.1911 - accuracy: 0.9514\n",
            "Epoch 318/500\n",
            "15/15 [==============================] - 0s 7ms/step - loss: 0.1886 - accuracy: 0.9470\n",
            "Epoch 319/500\n",
            "15/15 [==============================] - 0s 8ms/step - loss: 0.1880 - accuracy: 0.9492\n",
            "Epoch 320/500\n",
            "15/15 [==============================] - 0s 7ms/step - loss: 0.1860 - accuracy: 0.9514\n",
            "Epoch 321/500\n",
            "15/15 [==============================] - 0s 8ms/step - loss: 0.1850 - accuracy: 0.9514\n",
            "Epoch 322/500\n",
            "15/15 [==============================] - 0s 8ms/step - loss: 0.1837 - accuracy: 0.9448\n",
            "Epoch 323/500\n",
            "15/15 [==============================] - 0s 7ms/step - loss: 0.1832 - accuracy: 0.9492\n",
            "Epoch 324/500\n",
            "15/15 [==============================] - 0s 8ms/step - loss: 0.1818 - accuracy: 0.9514\n",
            "Epoch 325/500\n",
            "15/15 [==============================] - 0s 8ms/step - loss: 0.1818 - accuracy: 0.9448\n",
            "Epoch 326/500\n",
            "15/15 [==============================] - 0s 8ms/step - loss: 0.1820 - accuracy: 0.9514\n",
            "Epoch 327/500\n",
            "15/15 [==============================] - 0s 9ms/step - loss: 0.1801 - accuracy: 0.9492\n",
            "Epoch 328/500\n",
            "15/15 [==============================] - 0s 8ms/step - loss: 0.1785 - accuracy: 0.9492\n",
            "Epoch 329/500\n",
            "15/15 [==============================] - 0s 8ms/step - loss: 0.1771 - accuracy: 0.9492\n",
            "Epoch 330/500\n",
            "15/15 [==============================] - 0s 8ms/step - loss: 0.1762 - accuracy: 0.9448\n",
            "Epoch 331/500\n",
            "15/15 [==============================] - 0s 8ms/step - loss: 0.1751 - accuracy: 0.9492\n",
            "Epoch 332/500\n",
            "15/15 [==============================] - 0s 8ms/step - loss: 0.1746 - accuracy: 0.9470\n",
            "Epoch 333/500\n",
            "15/15 [==============================] - 0s 8ms/step - loss: 0.1738 - accuracy: 0.9448\n",
            "Epoch 334/500\n",
            "15/15 [==============================] - 0s 7ms/step - loss: 0.1722 - accuracy: 0.9492\n",
            "Epoch 335/500\n",
            "15/15 [==============================] - 0s 8ms/step - loss: 0.1712 - accuracy: 0.9492\n",
            "Epoch 336/500\n",
            "15/15 [==============================] - 0s 8ms/step - loss: 0.1710 - accuracy: 0.9448\n",
            "Epoch 337/500\n",
            "15/15 [==============================] - 0s 7ms/step - loss: 0.1698 - accuracy: 0.9470\n",
            "Epoch 338/500\n",
            "15/15 [==============================] - 0s 9ms/step - loss: 0.1695 - accuracy: 0.9514\n",
            "Epoch 339/500\n",
            "15/15 [==============================] - 0s 8ms/step - loss: 0.1690 - accuracy: 0.9492\n",
            "Epoch 340/500\n",
            "15/15 [==============================] - 0s 7ms/step - loss: 0.1674 - accuracy: 0.9514\n",
            "Epoch 341/500\n",
            "15/15 [==============================] - 0s 8ms/step - loss: 0.1675 - accuracy: 0.9514\n",
            "Epoch 342/500\n",
            "15/15 [==============================] - 0s 9ms/step - loss: 0.1671 - accuracy: 0.9492\n",
            "Epoch 343/500\n",
            "15/15 [==============================] - 0s 8ms/step - loss: 0.1656 - accuracy: 0.9492\n",
            "Epoch 344/500\n",
            "15/15 [==============================] - 0s 8ms/step - loss: 0.1649 - accuracy: 0.9492\n",
            "Epoch 345/500\n",
            "15/15 [==============================] - 0s 11ms/step - loss: 0.1651 - accuracy: 0.9426\n",
            "Epoch 346/500\n",
            "15/15 [==============================] - 0s 8ms/step - loss: 0.1656 - accuracy: 0.9492\n",
            "Epoch 347/500\n",
            "15/15 [==============================] - 0s 8ms/step - loss: 0.1653 - accuracy: 0.9514\n",
            "Epoch 348/500\n",
            "15/15 [==============================] - 0s 8ms/step - loss: 0.1644 - accuracy: 0.9514\n",
            "Epoch 349/500\n",
            "15/15 [==============================] - 0s 8ms/step - loss: 0.1636 - accuracy: 0.9470\n",
            "Epoch 350/500\n",
            "15/15 [==============================] - 0s 8ms/step - loss: 0.1627 - accuracy: 0.9492\n",
            "Epoch 351/500\n",
            "15/15 [==============================] - 0s 7ms/step - loss: 0.1611 - accuracy: 0.9514\n",
            "Epoch 352/500\n",
            "15/15 [==============================] - 0s 7ms/step - loss: 0.1620 - accuracy: 0.9470\n",
            "Epoch 353/500\n",
            "15/15 [==============================] - 0s 8ms/step - loss: 0.1606 - accuracy: 0.9514\n",
            "Epoch 354/500\n",
            "15/15 [==============================] - 0s 8ms/step - loss: 0.1589 - accuracy: 0.9514\n",
            "Epoch 355/500\n",
            "15/15 [==============================] - 0s 7ms/step - loss: 0.1597 - accuracy: 0.9470\n",
            "Epoch 356/500\n",
            "15/15 [==============================] - 0s 8ms/step - loss: 0.1580 - accuracy: 0.9492\n",
            "Epoch 357/500\n",
            "15/15 [==============================] - 0s 8ms/step - loss: 0.1571 - accuracy: 0.9470\n",
            "Epoch 358/500\n",
            "15/15 [==============================] - 0s 7ms/step - loss: 0.1557 - accuracy: 0.9492\n",
            "Epoch 359/500\n",
            "15/15 [==============================] - 0s 7ms/step - loss: 0.1553 - accuracy: 0.9514\n",
            "Epoch 360/500\n",
            "15/15 [==============================] - 0s 8ms/step - loss: 0.1543 - accuracy: 0.9470\n",
            "Epoch 361/500\n",
            "15/15 [==============================] - 0s 8ms/step - loss: 0.1547 - accuracy: 0.9492\n",
            "Epoch 362/500\n",
            "15/15 [==============================] - 0s 9ms/step - loss: 0.1540 - accuracy: 0.9514\n",
            "Epoch 363/500\n",
            "15/15 [==============================] - 0s 9ms/step - loss: 0.1534 - accuracy: 0.9448\n",
            "Epoch 364/500\n",
            "15/15 [==============================] - 0s 8ms/step - loss: 0.1517 - accuracy: 0.9514\n",
            "Epoch 365/500\n",
            "15/15 [==============================] - 0s 7ms/step - loss: 0.1515 - accuracy: 0.9448\n",
            "Epoch 366/500\n",
            "15/15 [==============================] - 0s 8ms/step - loss: 0.1512 - accuracy: 0.9404\n",
            "Epoch 367/500\n",
            "15/15 [==============================] - 0s 8ms/step - loss: 0.1506 - accuracy: 0.9426\n",
            "Epoch 368/500\n",
            "15/15 [==============================] - 0s 7ms/step - loss: 0.1517 - accuracy: 0.9514\n",
            "Epoch 369/500\n",
            "15/15 [==============================] - 0s 8ms/step - loss: 0.1514 - accuracy: 0.9536\n",
            "Epoch 370/500\n",
            "15/15 [==============================] - 0s 7ms/step - loss: 0.1504 - accuracy: 0.9470\n",
            "Epoch 371/500\n",
            "15/15 [==============================] - 0s 9ms/step - loss: 0.1489 - accuracy: 0.9492\n",
            "Epoch 372/500\n",
            "15/15 [==============================] - 0s 8ms/step - loss: 0.1484 - accuracy: 0.9470\n",
            "Epoch 373/500\n",
            "15/15 [==============================] - 0s 8ms/step - loss: 0.1474 - accuracy: 0.9448\n",
            "Epoch 374/500\n",
            "15/15 [==============================] - 0s 7ms/step - loss: 0.1476 - accuracy: 0.9492\n",
            "Epoch 375/500\n",
            "15/15 [==============================] - 0s 8ms/step - loss: 0.1471 - accuracy: 0.9448\n",
            "Epoch 376/500\n",
            "15/15 [==============================] - 0s 8ms/step - loss: 0.1478 - accuracy: 0.9470\n",
            "Epoch 377/500\n",
            "15/15 [==============================] - 0s 8ms/step - loss: 0.1470 - accuracy: 0.9470\n",
            "Epoch 378/500\n",
            "15/15 [==============================] - 0s 9ms/step - loss: 0.1457 - accuracy: 0.9426\n",
            "Epoch 379/500\n",
            "15/15 [==============================] - 0s 9ms/step - loss: 0.1453 - accuracy: 0.9426\n",
            "Epoch 380/500\n",
            "15/15 [==============================] - 0s 7ms/step - loss: 0.1494 - accuracy: 0.9514\n",
            "Epoch 381/500\n",
            "15/15 [==============================] - 0s 8ms/step - loss: 0.1650 - accuracy: 0.9448\n",
            "Epoch 382/500\n",
            "15/15 [==============================] - 0s 7ms/step - loss: 0.1756 - accuracy: 0.9382\n",
            "Epoch 383/500\n",
            "15/15 [==============================] - 0s 8ms/step - loss: 0.1998 - accuracy: 0.9294\n",
            "Epoch 384/500\n",
            "15/15 [==============================] - 0s 8ms/step - loss: 0.2135 - accuracy: 0.9404\n",
            "Epoch 385/500\n",
            "15/15 [==============================] - 0s 8ms/step - loss: 0.1975 - accuracy: 0.9448\n",
            "Epoch 386/500\n",
            "15/15 [==============================] - 0s 8ms/step - loss: 0.1907 - accuracy: 0.9404\n",
            "Epoch 387/500\n",
            "15/15 [==============================] - 0s 9ms/step - loss: 0.1809 - accuracy: 0.9448\n",
            "Epoch 388/500\n",
            "15/15 [==============================] - 0s 8ms/step - loss: 0.1766 - accuracy: 0.9470\n",
            "Epoch 389/500\n",
            "15/15 [==============================] - 0s 7ms/step - loss: 0.2479 - accuracy: 0.9227\n",
            "Epoch 390/500\n",
            "15/15 [==============================] - 0s 8ms/step - loss: 0.2011 - accuracy: 0.9338\n",
            "Epoch 391/500\n",
            "15/15 [==============================] - 0s 8ms/step - loss: 0.1942 - accuracy: 0.9382\n",
            "Epoch 392/500\n",
            "15/15 [==============================] - 0s 7ms/step - loss: 0.2038 - accuracy: 0.9426\n",
            "Epoch 393/500\n",
            "15/15 [==============================] - 0s 8ms/step - loss: 0.2018 - accuracy: 0.9404\n",
            "Epoch 394/500\n",
            "15/15 [==============================] - 0s 8ms/step - loss: 0.1848 - accuracy: 0.9404\n",
            "Epoch 395/500\n",
            "15/15 [==============================] - 0s 8ms/step - loss: 0.1726 - accuracy: 0.9448\n",
            "Epoch 396/500\n",
            "15/15 [==============================] - 0s 8ms/step - loss: 0.1651 - accuracy: 0.9514\n",
            "Epoch 397/500\n",
            "15/15 [==============================] - 0s 8ms/step - loss: 0.1576 - accuracy: 0.9492\n",
            "Epoch 398/500\n",
            "15/15 [==============================] - 0s 7ms/step - loss: 0.1514 - accuracy: 0.9492\n",
            "Epoch 399/500\n",
            "15/15 [==============================] - 0s 8ms/step - loss: 0.1488 - accuracy: 0.9448\n",
            "Epoch 400/500\n",
            "15/15 [==============================] - 0s 8ms/step - loss: 0.1485 - accuracy: 0.9492\n",
            "Epoch 401/500\n",
            "15/15 [==============================] - 0s 8ms/step - loss: 0.1460 - accuracy: 0.9514\n",
            "Epoch 402/500\n",
            "15/15 [==============================] - 0s 8ms/step - loss: 0.1433 - accuracy: 0.9492\n",
            "Epoch 403/500\n",
            "15/15 [==============================] - 0s 7ms/step - loss: 0.1416 - accuracy: 0.9470\n",
            "Epoch 404/500\n",
            "15/15 [==============================] - 0s 7ms/step - loss: 0.1404 - accuracy: 0.9426\n",
            "Epoch 405/500\n",
            "15/15 [==============================] - 0s 8ms/step - loss: 0.1396 - accuracy: 0.9470\n",
            "Epoch 406/500\n",
            "15/15 [==============================] - 0s 7ms/step - loss: 0.1387 - accuracy: 0.9492\n",
            "Epoch 407/500\n",
            "15/15 [==============================] - 0s 8ms/step - loss: 0.1381 - accuracy: 0.9536\n",
            "Epoch 408/500\n",
            "15/15 [==============================] - 0s 8ms/step - loss: 0.1382 - accuracy: 0.9470\n",
            "Epoch 409/500\n",
            "15/15 [==============================] - 0s 8ms/step - loss: 0.1371 - accuracy: 0.9514\n",
            "Epoch 410/500\n",
            "15/15 [==============================] - 0s 9ms/step - loss: 0.1367 - accuracy: 0.9536\n",
            "Epoch 411/500\n",
            "15/15 [==============================] - 0s 8ms/step - loss: 0.1368 - accuracy: 0.9514\n",
            "Epoch 412/500\n",
            "15/15 [==============================] - 0s 8ms/step - loss: 0.1359 - accuracy: 0.9492\n",
            "Epoch 413/500\n",
            "15/15 [==============================] - 0s 8ms/step - loss: 0.1351 - accuracy: 0.9470\n",
            "Epoch 414/500\n",
            "15/15 [==============================] - 0s 8ms/step - loss: 0.1354 - accuracy: 0.9470\n",
            "Epoch 415/500\n",
            "15/15 [==============================] - 0s 8ms/step - loss: 0.1352 - accuracy: 0.9448\n",
            "Epoch 416/500\n",
            "15/15 [==============================] - 0s 8ms/step - loss: 0.1335 - accuracy: 0.9514\n",
            "Epoch 417/500\n",
            "15/15 [==============================] - 0s 7ms/step - loss: 0.1342 - accuracy: 0.9492\n",
            "Epoch 418/500\n",
            "15/15 [==============================] - 0s 9ms/step - loss: 0.1323 - accuracy: 0.9514\n",
            "Epoch 419/500\n",
            "15/15 [==============================] - 0s 8ms/step - loss: 0.1320 - accuracy: 0.9492\n",
            "Epoch 420/500\n",
            "15/15 [==============================] - 0s 8ms/step - loss: 0.1330 - accuracy: 0.9470\n",
            "Epoch 421/500\n",
            "15/15 [==============================] - 0s 8ms/step - loss: 0.1343 - accuracy: 0.9448\n",
            "Epoch 422/500\n",
            "15/15 [==============================] - 0s 7ms/step - loss: 0.1332 - accuracy: 0.9448\n",
            "Epoch 423/500\n",
            "15/15 [==============================] - 0s 10ms/step - loss: 0.1314 - accuracy: 0.9470\n",
            "Epoch 424/500\n",
            "15/15 [==============================] - 0s 8ms/step - loss: 0.1308 - accuracy: 0.9514\n",
            "Epoch 425/500\n",
            "15/15 [==============================] - 0s 8ms/step - loss: 0.1306 - accuracy: 0.9404\n",
            "Epoch 426/500\n",
            "15/15 [==============================] - 0s 8ms/step - loss: 0.1303 - accuracy: 0.9448\n",
            "Epoch 427/500\n",
            "15/15 [==============================] - 0s 7ms/step - loss: 0.1303 - accuracy: 0.9492\n",
            "Epoch 428/500\n",
            "15/15 [==============================] - 0s 7ms/step - loss: 0.1302 - accuracy: 0.9382\n",
            "Epoch 429/500\n",
            "15/15 [==============================] - 0s 8ms/step - loss: 0.1279 - accuracy: 0.9492\n",
            "Epoch 430/500\n",
            "15/15 [==============================] - 0s 8ms/step - loss: 0.1285 - accuracy: 0.9514\n",
            "Epoch 431/500\n",
            "15/15 [==============================] - 0s 8ms/step - loss: 0.1284 - accuracy: 0.9470\n",
            "Epoch 432/500\n",
            "15/15 [==============================] - 0s 8ms/step - loss: 0.1277 - accuracy: 0.9470\n",
            "Epoch 433/500\n",
            "15/15 [==============================] - 0s 9ms/step - loss: 0.1282 - accuracy: 0.9404\n",
            "Epoch 434/500\n",
            "15/15 [==============================] - 0s 8ms/step - loss: 0.1276 - accuracy: 0.9536\n",
            "Epoch 435/500\n",
            "15/15 [==============================] - 0s 8ms/step - loss: 0.1270 - accuracy: 0.9536\n",
            "Epoch 436/500\n",
            "15/15 [==============================] - 0s 8ms/step - loss: 0.1268 - accuracy: 0.9492\n",
            "Epoch 437/500\n",
            "15/15 [==============================] - 0s 10ms/step - loss: 0.1264 - accuracy: 0.9448\n",
            "Epoch 438/500\n",
            "15/15 [==============================] - 0s 10ms/step - loss: 0.1252 - accuracy: 0.9470\n",
            "Epoch 439/500\n",
            "15/15 [==============================] - 0s 7ms/step - loss: 0.1254 - accuracy: 0.9448\n",
            "Epoch 440/500\n",
            "15/15 [==============================] - 0s 9ms/step - loss: 0.1247 - accuracy: 0.9514\n",
            "Epoch 441/500\n",
            "15/15 [==============================] - 0s 8ms/step - loss: 0.1245 - accuracy: 0.9492\n",
            "Epoch 442/500\n",
            "15/15 [==============================] - 0s 8ms/step - loss: 0.1241 - accuracy: 0.9514\n",
            "Epoch 443/500\n",
            "15/15 [==============================] - 0s 8ms/step - loss: 0.1243 - accuracy: 0.9536\n",
            "Epoch 444/500\n",
            "15/15 [==============================] - 0s 8ms/step - loss: 0.1237 - accuracy: 0.9448\n",
            "Epoch 445/500\n",
            "15/15 [==============================] - 0s 8ms/step - loss: 0.1235 - accuracy: 0.9492\n",
            "Epoch 446/500\n",
            "15/15 [==============================] - 0s 8ms/step - loss: 0.1236 - accuracy: 0.9448\n",
            "Epoch 447/500\n",
            "15/15 [==============================] - 0s 7ms/step - loss: 0.1229 - accuracy: 0.9514\n",
            "Epoch 448/500\n",
            "15/15 [==============================] - 0s 7ms/step - loss: 0.1225 - accuracy: 0.9448\n",
            "Epoch 449/500\n",
            "15/15 [==============================] - 0s 8ms/step - loss: 0.1228 - accuracy: 0.9448\n",
            "Epoch 450/500\n",
            "15/15 [==============================] - 0s 8ms/step - loss: 0.1217 - accuracy: 0.9448\n",
            "Epoch 451/500\n",
            "15/15 [==============================] - 0s 7ms/step - loss: 0.1226 - accuracy: 0.9448\n",
            "Epoch 452/500\n",
            "15/15 [==============================] - 0s 9ms/step - loss: 0.1257 - accuracy: 0.9470\n",
            "Epoch 453/500\n",
            "15/15 [==============================] - 0s 8ms/step - loss: 0.1274 - accuracy: 0.9492\n",
            "Epoch 454/500\n",
            "15/15 [==============================] - 0s 8ms/step - loss: 0.1309 - accuracy: 0.9492\n",
            "Epoch 455/500\n",
            "15/15 [==============================] - 0s 9ms/step - loss: 0.1313 - accuracy: 0.9492\n",
            "Epoch 456/500\n",
            "15/15 [==============================] - 0s 8ms/step - loss: 0.1452 - accuracy: 0.9470\n",
            "Epoch 457/500\n",
            "15/15 [==============================] - 0s 8ms/step - loss: 0.1408 - accuracy: 0.9470\n",
            "Epoch 458/500\n",
            "15/15 [==============================] - 0s 8ms/step - loss: 0.1314 - accuracy: 0.9514\n",
            "Epoch 459/500\n",
            "15/15 [==============================] - 0s 8ms/step - loss: 0.1456 - accuracy: 0.9404\n",
            "Epoch 460/500\n",
            "15/15 [==============================] - 0s 8ms/step - loss: 0.1475 - accuracy: 0.9426\n",
            "Epoch 461/500\n",
            "15/15 [==============================] - 0s 8ms/step - loss: 0.1318 - accuracy: 0.9470\n",
            "Epoch 462/500\n",
            "15/15 [==============================] - 0s 8ms/step - loss: 0.1261 - accuracy: 0.9492\n",
            "Epoch 463/500\n",
            "15/15 [==============================] - 0s 8ms/step - loss: 0.1235 - accuracy: 0.9514\n",
            "Epoch 464/500\n",
            "15/15 [==============================] - 0s 8ms/step - loss: 0.1226 - accuracy: 0.9448\n",
            "Epoch 465/500\n",
            "15/15 [==============================] - 0s 8ms/step - loss: 0.1220 - accuracy: 0.9470\n",
            "Epoch 466/500\n",
            "15/15 [==============================] - 0s 8ms/step - loss: 0.1211 - accuracy: 0.9492\n",
            "Epoch 467/500\n",
            "15/15 [==============================] - 0s 8ms/step - loss: 0.1204 - accuracy: 0.9470\n",
            "Epoch 468/500\n",
            "15/15 [==============================] - 0s 8ms/step - loss: 0.1197 - accuracy: 0.9514\n",
            "Epoch 469/500\n",
            "15/15 [==============================] - 0s 8ms/step - loss: 0.1200 - accuracy: 0.9514\n",
            "Epoch 470/500\n",
            "15/15 [==============================] - 0s 8ms/step - loss: 0.1205 - accuracy: 0.9448\n",
            "Epoch 471/500\n",
            "15/15 [==============================] - 0s 8ms/step - loss: 0.1187 - accuracy: 0.9470\n",
            "Epoch 472/500\n",
            "15/15 [==============================] - 0s 7ms/step - loss: 0.1188 - accuracy: 0.9470\n",
            "Epoch 473/500\n",
            "15/15 [==============================] - 0s 7ms/step - loss: 0.1184 - accuracy: 0.9448\n",
            "Epoch 474/500\n",
            "15/15 [==============================] - 0s 8ms/step - loss: 0.1182 - accuracy: 0.9492\n",
            "Epoch 475/500\n",
            "15/15 [==============================] - 0s 8ms/step - loss: 0.1176 - accuracy: 0.9470\n",
            "Epoch 476/500\n",
            "15/15 [==============================] - 0s 8ms/step - loss: 0.1167 - accuracy: 0.9448\n",
            "Epoch 477/500\n",
            "15/15 [==============================] - 0s 10ms/step - loss: 0.1178 - accuracy: 0.9492\n",
            "Epoch 478/500\n",
            "15/15 [==============================] - 0s 9ms/step - loss: 0.1175 - accuracy: 0.9492\n",
            "Epoch 479/500\n",
            "15/15 [==============================] - 0s 8ms/step - loss: 0.1174 - accuracy: 0.9470\n",
            "Epoch 480/500\n",
            "15/15 [==============================] - 0s 8ms/step - loss: 0.1170 - accuracy: 0.9470\n",
            "Epoch 481/500\n",
            "15/15 [==============================] - 0s 8ms/step - loss: 0.1165 - accuracy: 0.9470\n",
            "Epoch 482/500\n",
            "15/15 [==============================] - 0s 8ms/step - loss: 0.1160 - accuracy: 0.9470\n",
            "Epoch 483/500\n",
            "15/15 [==============================] - 0s 8ms/step - loss: 0.1152 - accuracy: 0.9514\n",
            "Epoch 484/500\n",
            "15/15 [==============================] - 0s 8ms/step - loss: 0.1158 - accuracy: 0.9360\n",
            "Epoch 485/500\n",
            "15/15 [==============================] - 0s 9ms/step - loss: 0.1156 - accuracy: 0.9448\n",
            "Epoch 486/500\n",
            "15/15 [==============================] - 0s 8ms/step - loss: 0.1158 - accuracy: 0.9404\n",
            "Epoch 487/500\n",
            "15/15 [==============================] - 0s 8ms/step - loss: 0.1147 - accuracy: 0.9514\n",
            "Epoch 488/500\n",
            "15/15 [==============================] - 0s 8ms/step - loss: 0.1154 - accuracy: 0.9492\n",
            "Epoch 489/500\n",
            "15/15 [==============================] - 0s 9ms/step - loss: 0.1149 - accuracy: 0.9426\n",
            "Epoch 490/500\n",
            "15/15 [==============================] - 0s 8ms/step - loss: 0.1128 - accuracy: 0.9514\n",
            "Epoch 491/500\n",
            "15/15 [==============================] - 0s 8ms/step - loss: 0.1136 - accuracy: 0.9448\n",
            "Epoch 492/500\n",
            "15/15 [==============================] - 0s 8ms/step - loss: 0.1138 - accuracy: 0.9492\n",
            "Epoch 493/500\n",
            "15/15 [==============================] - 0s 8ms/step - loss: 0.1150 - accuracy: 0.9382\n",
            "Epoch 494/500\n",
            "15/15 [==============================] - 0s 8ms/step - loss: 0.1145 - accuracy: 0.9470\n",
            "Epoch 495/500\n",
            "15/15 [==============================] - 0s 8ms/step - loss: 0.1135 - accuracy: 0.9404\n",
            "Epoch 496/500\n",
            "15/15 [==============================] - 0s 7ms/step - loss: 0.1130 - accuracy: 0.9492\n",
            "Epoch 497/500\n",
            "15/15 [==============================] - 0s 8ms/step - loss: 0.1126 - accuracy: 0.9426\n",
            "Epoch 498/500\n",
            "15/15 [==============================] - 0s 8ms/step - loss: 0.1143 - accuracy: 0.9492\n",
            "Epoch 499/500\n",
            "15/15 [==============================] - 0s 7ms/step - loss: 0.1145 - accuracy: 0.9470\n",
            "Epoch 500/500\n",
            "15/15 [==============================] - 0s 10ms/step - loss: 0.1127 - accuracy: 0.9492\n"
          ],
          "name": "stdout"
        }
      ]
    },
    {
      "cell_type": "code",
      "metadata": {
        "id": "qUMp81RBUKvS",
        "colab_type": "code",
        "colab": {}
      },
      "source": [
        "import matplotlib.pyplot as plt\n",
        "\n",
        "\n",
        "def plot_graphs(history, string):\n",
        "  plt.plot(history.history[string])\n",
        "  plt.xlabel(\"Epochs\")\n",
        "  plt.ylabel(string)\n",
        "  plt.show()"
      ],
      "execution_count": 32,
      "outputs": []
    },
    {
      "cell_type": "code",
      "metadata": {
        "id": "_DShZofaUcOi",
        "colab_type": "code",
        "colab": {
          "base_uri": "https://localhost:8080/",
          "height": 283
        },
        "outputId": "a0fa30b6-f87d-4a6a-808b-5fe606de562a"
      },
      "source": [
        "plot_graphs(history, 'accuracy')"
      ],
      "execution_count": 33,
      "outputs": [
        {
          "output_type": "display_data",
          "data": {
            "image/png": "[encoded data removed]",
            "text/plain": [
              "<Figure size 432x288 with 1 Axes>"
            ]
          },
          "metadata": {
            "tags": [],
            "needs_background": "light"
          }
        }
      ]
    },
    {
      "cell_type": "markdown",
      "metadata": {
        "id": "dLKEW_BbUe5L",
        "colab_type": "text"
      },
      "source": [
        "# Use the trained text generator to generate word"
      ]
    },
    {
      "cell_type": "code",
      "metadata": {
        "id": "0f9XCw4QUjPt",
        "colab_type": "code",
        "colab": {
          "base_uri": "https://localhost:8080/",
          "height": 71
        },
        "outputId": "c972a0b9-58f1-4a0d-e5a2-2d6dde73315b"
      },
      "source": [
        "original_text = \"\\nQing Zhang went to dublin\"\n",
        "words_predict = 50 # predict the next 50 words\n",
        "\n",
        "for _ in range(words_predict):\n",
        "  token = tokenizer.texts_to_sequences([original_text])[0] # generate sequence of the original text\n",
        "  token = pad_sequences([token], maxlen=max_len, padding='pre') # pad the sequence like previous\n",
        "  predicted = model.predict_classes(token, verbose=0) # predicted = the token of the predicted word\n",
        "  output = \"\"\n",
        "  # turn token back to word\n",
        "  for word, index in tokenizer.word_index.items():\n",
        "    if index == predicted:\n",
        "      output = word\n",
        "      break\n",
        "  original_text += \" \" + output\n",
        "print(original_text)\n"
      ],
      "execution_count": 37,
      "outputs": [
        {
          "output_type": "stream",
          "text": [
            "\n",
            "Qing Zhang went to dublin the chaneys at lanigans ball ball ball ball rose ball jig brooks ball rose academy glisten able round glisten glisten groups glisten able swore a hullabaloo your mcgilligan mcgilligan mcgilligan party new ball ball too all kinds ground weeks jig lanigans ball ball rose ball rose piper was call tea\n"
          ],
          "name": "stdout"
        }
      ]
    },
    {
      "cell_type": "markdown",
      "metadata": {
        "id": "PB12E96DdUkd",
        "colab_type": "text"
      },
      "source": [
        "# Character-based RNN"
      ]
    },
    {
      "cell_type": "code",
      "metadata": {
        "id": "oEsNKT7RdaWe",
        "colab_type": "code",
        "colab": {}
      },
      "source": [
        "import tensorflow as tf\n",
        "\n",
        "import numpy as np\n",
        "import os\n",
        "import time"
      ],
      "execution_count": 38,
      "outputs": []
    },
    {
      "cell_type": "code",
      "metadata": {
        "id": "bh9n6U-b6mna",
        "colab_type": "code",
        "colab": {
          "base_uri": "https://localhost:8080/",
          "height": 51
        },
        "outputId": "092e1821-a6ee-4444-8e80-c6f9f49168f8"
      },
      "source": [
        "path_to_file = tf.keras.utils.get_file('shakespeare.txt', 'https://storage.googleapis.com/download.tensorflow.org/data/shakespeare.txt')"
      ],
      "execution_count": 39,
      "outputs": [
        {
          "output_type": "stream",
          "text": [
            "Downloading data from https://storage.googleapis.com/download.tensorflow.org/data/shakespeare.txt\n",
            "1122304/1115394 [==============================] - 0s 0us/step\n"
          ],
          "name": "stdout"
        }
      ]
    },
    {
      "cell_type": "code",
      "metadata": {
        "id": "Hj3psynA6rEL",
        "colab_type": "code",
        "colab": {}
      },
      "source": [
        "text = open(path_to_file, 'rb').read().decode(encoding='utf-8')"
      ],
      "execution_count": 41,
      "outputs": []
    },
    {
      "cell_type": "code",
      "metadata": {
        "id": "-UP1HSE364kC",
        "colab_type": "code",
        "colab": {
          "base_uri": "https://localhost:8080/",
          "height": 34
        },
        "outputId": "c5e4e947-2e8c-4825-80df-1b2ba03e1b29"
      },
      "source": [
        "print('Number of the characters in the text:', len(text) )"
      ],
      "execution_count": 42,
      "outputs": [
        {
          "output_type": "stream",
          "text": [
            "Number of the characters in the text: 1115394\n"
          ],
          "name": "stdout"
        }
      ]
    },
    {
      "cell_type": "code",
      "metadata": {
        "id": "LrErMmoJ7LJ5",
        "colab_type": "code",
        "colab": {
          "base_uri": "https://localhost:8080/",
          "height": 153
        },
        "outputId": "0d080c09-4b7f-4a3d-c531-80f7d5237d6e"
      },
      "source": [
        "print(text[:100])"
      ],
      "execution_count": 43,
      "outputs": [
        {
          "output_type": "stream",
          "text": [
            "First Citizen:\n",
            "Before we proceed any further, hear me speak.\n",
            "\n",
            "All:\n",
            "Speak, speak.\n",
            "\n",
            "First Citizen:\n",
            "You\n"
          ],
          "name": "stdout"
        }
      ]
    },
    {
      "cell_type": "markdown",
      "metadata": {
        "id": "ePzSSkzS74EF",
        "colab_type": "text"
      },
      "source": [
        "## Vectorizing"
      ]
    },
    {
      "cell_type": "code",
      "metadata": {
        "id": "HenhOQs_8rV0",
        "colab_type": "code",
        "colab": {
          "base_uri": "https://localhost:8080/",
          "height": 71
        },
        "outputId": "6439e18d-79f1-414e-b6c7-144bed84909e"
      },
      "source": [
        "vocab = sorted(set(text))\n",
        "print(\"vocab: \", vocab)\n",
        "print(\"totally {} unique char in the text\".format(len(vocab)))"
      ],
      "execution_count": 52,
      "outputs": [
        {
          "output_type": "stream",
          "text": [
            "vocab:  ['\\n', ' ', '!', '$', '&', \"'\", ',', '-', '.', '3', ':', ';', '?', 'A', 'B', 'C', 'D', 'E', 'F', 'G', 'H', 'I', 'J', 'K', 'L', 'M', 'N', 'O', 'P', 'Q', 'R', 'S', 'T', 'U', 'V', 'W', 'X', 'Y', 'Z', 'a', 'b', 'c', 'd', 'e', 'f', 'g', 'h', 'i', 'j', 'k', 'l', 'm', 'n', 'o', 'p', 'q', 'r', 's', 't', 'u', 'v', 'w', 'x', 'y', 'z']\n",
            "totally 65 unique char in the text\n"
          ],
          "name": "stdout"
        }
      ]
    },
    {
      "cell_type": "code",
      "metadata": {
        "id": "bNym5PMy7sqS",
        "colab_type": "code",
        "colab": {
          "base_uri": "https://localhost:8080/",
          "height": 54
        },
        "outputId": "2f8285d5-2912-41cd-d84d-0d30cb9b0d80"
      },
      "source": [
        "char2index = { c:i for i, c in enumerate(vocab)}\n",
        "print(char2index)"
      ],
      "execution_count": 48,
      "outputs": [
        {
          "output_type": "stream",
          "text": [
            "{'\\n': 0, ' ': 1, '!': 2, '$': 3, '&': 4, \"'\": 5, ',': 6, '-': 7, '.': 8, '3': 9, ':': 10, ';': 11, '?': 12, 'A': 13, 'B': 14, 'C': 15, 'D': 16, 'E': 17, 'F': 18, 'G': 19, 'H': 20, 'I': 21, 'J': 22, 'K': 23, 'L': 24, 'M': 25, 'N': 26, 'O': 27, 'P': 28, 'Q': 29, 'R': 30, 'S': 31, 'T': 32, 'U': 33, 'V': 34, 'W': 35, 'X': 36, 'Y': 37, 'Z': 38, 'a': 39, 'b': 40, 'c': 41, 'd': 42, 'e': 43, 'f': 44, 'g': 45, 'h': 46, 'i': 47, 'j': 48, 'k': 49, 'l': 50, 'm': 51, 'n': 52, 'o': 53, 'p': 54, 'q': 55, 'r': 56, 's': 57, 't': 58, 'u': 59, 'v': 60, 'w': 61, 'x': 62, 'y': 63, 'z': 64}\n"
          ],
          "name": "stdout"
        }
      ]
    },
    {
      "cell_type": "code",
      "metadata": {
        "id": "rZhM3DrN9DfM",
        "colab_type": "code",
        "colab": {
          "base_uri": "https://localhost:8080/",
          "height": 85
        },
        "outputId": "4c11f137-c1ba-4513-edf8-cc91420fb855"
      },
      "source": [
        "index2char = np.array(vocab)\n",
        "print(index2char)"
      ],
      "execution_count": 51,
      "outputs": [
        {
          "output_type": "stream",
          "text": [
            "['\\n' ' ' '!' '$' '&' \"'\" ',' '-' '.' '3' ':' ';' '?' 'A' 'B' 'C' 'D' 'E'\n",
            " 'F' 'G' 'H' 'I' 'J' 'K' 'L' 'M' 'N' 'O' 'P' 'Q' 'R' 'S' 'T' 'U' 'V' 'W'\n",
            " 'X' 'Y' 'Z' 'a' 'b' 'c' 'd' 'e' 'f' 'g' 'h' 'i' 'j' 'k' 'l' 'm' 'n' 'o'\n",
            " 'p' 'q' 'r' 's' 't' 'u' 'v' 'w' 'x' 'y' 'z']\n"
          ],
          "name": "stdout"
        }
      ]
    },
    {
      "cell_type": "code",
      "metadata": {
        "id": "E8see0iT9Ixe",
        "colab_type": "code",
        "colab": {
          "base_uri": "https://localhost:8080/",
          "height": 51
        },
        "outputId": "79509ef0-c97b-4596-f2cc-748a905242b8"
      },
      "source": [
        "# get all the indexes\n",
        "text_as_int = np.array([char2index[c] for c in text])\n",
        "print(text_as_int)\n",
        "print(len(text_as_int))"
      ],
      "execution_count": 54,
      "outputs": [
        {
          "output_type": "stream",
          "text": [
            "[18 47 56 ... 45  8  0]\n",
            "1115394\n"
          ],
          "name": "stdout"
        }
      ]
    },
    {
      "cell_type": "markdown",
      "metadata": {
        "id": "mXkLUa47_luH",
        "colab_type": "text"
      },
      "source": [
        "## Convert text vector into tf.data.Dataset"
      ]
    },
    {
      "cell_type": "code",
      "metadata": {
        "id": "U2nlevM-9tMj",
        "colab_type": "code",
        "colab": {}
      },
      "source": [
        "seq_len = 100\n",
        "examples_per_epoch = len(text) # one epoch one times the text go through \n",
        "\n",
        "char_dataset = tf.data.Dataset.from_tensor_slices(text_as_int) # vector to data.Dataset\n"
      ],
      "execution_count": 55,
      "outputs": []
    },
    {
      "cell_type": "code",
      "metadata": {
        "id": "Zr1Kb7QBAnHW",
        "colab_type": "code",
        "colab": {
          "base_uri": "https://localhost:8080/",
          "height": 34
        },
        "outputId": "8c6d5972-b857-43f9-8fbd-fe5668eed9b5"
      },
      "source": [
        "print(len(char_dataset))"
      ],
      "execution_count": 58,
      "outputs": [
        {
          "output_type": "stream",
          "text": [
            "1115394\n"
          ],
          "name": "stdout"
        }
      ]
    },
    {
      "cell_type": "code",
      "metadata": {
        "id": "lm6bu1CkArUG",
        "colab_type": "code",
        "colab": {
          "base_uri": "https://localhost:8080/",
          "height": 102
        },
        "outputId": "ecf869c5-6868-4a3b-8913-50ede1abf28d"
      },
      "source": [
        "for i in char_dataset.take(5):\n",
        "  print(index2char[i.numpy()])"
      ],
      "execution_count": 60,
      "outputs": [
        {
          "output_type": "stream",
          "text": [
            "F\n",
            "i\n",
            "r\n",
            "s\n",
            "t\n"
          ],
          "name": "stdout"
        }
      ]
    },
    {
      "cell_type": "code",
      "metadata": {
        "id": "VXZJjIh4BH3e",
        "colab_type": "code",
        "colab": {}
      },
      "source": [
        ""
      ],
      "execution_count": null,
      "outputs": []
    }
  ]
}