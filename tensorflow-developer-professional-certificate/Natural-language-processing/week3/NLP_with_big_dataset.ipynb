{
  "nbformat": 4,
  "nbformat_minor": 0,
  "metadata": {
    "colab": {
      "name": "NLP-with-big-dataset.ipynb",
      "provenance": [],
      "collapsed_sections": []
    },
    "kernelspec": {
      "name": "python3",
      "display_name": "Python 3"
    },
    "accelerator": "GPU"
  },
  "cells": [
    {
      "cell_type": "markdown",
      "metadata": {
        "id": "uAUaK9FfIrPJ",
        "colab_type": "text"
      },
      "source": [
        "1. In this notebook, the [Sentiment140 dataset with 1.6 million tweets](https://www.kaggle.com/kazanova/sentiment140)from kaggle will be usded. \n",
        "2. A pre-trained word vectors (embedded layer) will be used to conduct the transfer learning. --- [GloVe: Global Vectors for Word Representation](https://nlp.stanford.edu/projects/glove/)"
      ]
    },
    {
      "cell_type": "markdown",
      "metadata": {
        "id": "zpdxkAGvJd41",
        "colab_type": "text"
      },
      "source": [
        "# Import Data"
      ]
    },
    {
      "cell_type": "code",
      "metadata": {
        "id": "3pPQj128JbxV",
        "colab_type": "code",
        "colab": {}
      },
      "source": [
        "import json\n",
        "import tensorflow as tf\n",
        "import csv\n",
        "import random\n",
        "import numpy as np\n",
        "\n",
        "from tensorflow.keras.preprocessing.text import Tokenizer\n",
        "from tensorflow.keras.preprocessing.sequence import pad_sequences\n",
        "from tensorflow.keras.utils import to_categorical\n",
        "from tensorflow.keras import regularizers"
      ],
      "execution_count": 1,
      "outputs": []
    },
    {
      "cell_type": "code",
      "metadata": {
        "id": "oaxQHpSHK5KZ",
        "colab_type": "code",
        "colab": {}
      },
      "source": [
        "embedding_dim = 100\n",
        "max_len = 16\n",
        "trunc_type = 'post'\n",
        "padding_type = 'post'\n",
        "oov_tok = \"<OOV>\"\n",
        "training_size=160000\n",
        "test_portion = .1\n",
        "\n",
        "corpus = []"
      ],
      "execution_count": 2,
      "outputs": []
    },
    {
      "cell_type": "code",
      "metadata": {
        "id": "85ykWIKWLs3N",
        "colab_type": "code",
        "colab": {
          "base_uri": "https://localhost:8080/",
          "height": 204
        },
        "outputId": "7755f7de-9a42-4e82-ce75-3bffa0ee4e0a"
      },
      "source": [
        "# A cleaner vision of the data, where the LATIN1 encoding was removed, easier for csv reader to read\n",
        "# how to achieve that:\n",
        "      #iconv -f LATIN1 -t UTF8 training.1600000.processed.noemoticon.csv -o training_cleaned.csv\n",
        "\n",
        "!wget --no-check-certificate \\\n",
        "    https://storage.googleapis.com/laurencemoroney-blog.appspot.com/training_cleaned.csv \\\n",
        "    -O /tmp/training_cleaned.csv"
      ],
      "execution_count": 3,
      "outputs": [
        {
          "output_type": "stream",
          "text": [
            "--2020-08-28 18:48:52--  https://storage.googleapis.com/laurencemoroney-blog.appspot.com/training_cleaned.csv\n",
            "Resolving storage.googleapis.com (storage.googleapis.com)... 74.125.20.128, 74.125.142.128, 74.125.195.128, ...\n",
            "Connecting to storage.googleapis.com (storage.googleapis.com)|74.125.20.128|:443... connected.\n",
            "HTTP request sent, awaiting response... 200 OK\n",
            "Length: 238942690 (228M) [application/octet-stream]\n",
            "Saving to: ‘/tmp/training_cleaned.csv’\n",
            "\n",
            "/tmp/training_clean 100%[===================>] 227.87M   163MB/s    in 1.4s    \n",
            "\n",
            "2020-08-28 18:48:54 (163 MB/s) - ‘/tmp/training_cleaned.csv’ saved [238942690/238942690]\n",
            "\n"
          ],
          "name": "stdout"
        }
      ]
    },
    {
      "cell_type": "code",
      "metadata": {
        "id": "RNaSWmEhMUFL",
        "colab_type": "code",
        "colab": {}
      },
      "source": [
        "num_sentences = 0\n",
        "\n",
        "with open(\"/tmp/training_cleaned.csv\") as csvfile:\n",
        "  reader = csv.reader(csvfile, delimiter = ',')\n",
        "  for row in reader:\n",
        "    list_item=[]\n",
        "    # Create list items where the first item is the text, found in row[5], and the second is the label. Note that the label is a '0' or a '4' in the text. When it's the former, make\n",
        "    #  label to be 0, otherwise 1. Keep a count of the number of sentences in num_sentences\n",
        "    list_item.append(row[5])\n",
        "    this_label=row[0]\n",
        "    if this_label=='0':\n",
        "        list_item.append(0)\n",
        "    else:\n",
        "        list_item.append(1)\n",
        "    num_sentences = num_sentences + 1\n",
        "    corpus.append(list_item)\n"
      ],
      "execution_count": 4,
      "outputs": []
    },
    {
      "cell_type": "code",
      "metadata": {
        "id": "o9Q6pj90N31p",
        "colab_type": "code",
        "colab": {
          "base_uri": "https://localhost:8080/",
          "height": 68
        },
        "outputId": "8fbf0fc7-d07b-4501-9355-acea240ab933"
      },
      "source": [
        "print(num_sentences)\n",
        "print(len(corpus))\n",
        "print(corpus[12])"
      ],
      "execution_count": 5,
      "outputs": [
        {
          "output_type": "stream",
          "text": [
            "1600000\n",
            "1600000\n",
            "[\"@caregiving I couldn't bear to watch it.  And I thought the UA loss was embarrassing . . . . .\", 0]\n"
          ],
          "name": "stdout"
        }
      ]
    },
    {
      "cell_type": "markdown",
      "metadata": {
        "id": "UlVqhV1SOUYJ",
        "colab_type": "text"
      },
      "source": [
        "# Tokenizing"
      ]
    },
    {
      "cell_type": "code",
      "metadata": {
        "id": "YQ3J-rQfOKG2",
        "colab_type": "code",
        "colab": {}
      },
      "source": [
        "sentences = []\n",
        "labels = []\n",
        "random.shuffle(corpus)\n",
        "\n",
        "# take numbers == training_size of sentences with lables out of corpus\n",
        "for i in range(training_size):\n",
        "  sentences.append(corpus[i][0])\n",
        "  labels.append(corpus[i][1])\n"
      ],
      "execution_count": 6,
      "outputs": []
    },
    {
      "cell_type": "code",
      "metadata": {
        "id": "Q6X6RP-bQZRB",
        "colab_type": "code",
        "colab": {}
      },
      "source": [
        "tokenizer = Tokenizer()\n",
        "tokenizer.fit_on_texts(sentences)\n",
        "\n",
        "word_index = tokenizer.word_index\n",
        "vocab_size=len(word_index)\n",
        "\n",
        "sequences = tokenizer.texts_to_sequences(sentences)\n",
        "padded = pad_sequences(sequences, maxlen=max_len, padding=padding_type, truncating=trunc_type)\n",
        "\n",
        "test_num = int(test_portion * training_size)\n",
        "\n",
        "test_sequences = padded[:test_num]\n",
        "train_sequences = padded[test_num:training_size]\n",
        "test_labels = labels[0:test_num]\n",
        "train_labels = labels[test_num:training_size]"
      ],
      "execution_count": 7,
      "outputs": []
    },
    {
      "cell_type": "code",
      "metadata": {
        "id": "oMLF1VMbRf8S",
        "colab_type": "code",
        "colab": {
          "base_uri": "https://localhost:8080/",
          "height": 51
        },
        "outputId": "3b16c504-57ce-4bfa-dd87-c586ceb776f3"
      },
      "source": [
        "print(vocab_size)\n",
        "print(word_index['w'])"
      ],
      "execution_count": 8,
      "outputs": [
        {
          "output_type": "stream",
          "text": [
            "138784\n",
            "275\n"
          ],
          "name": "stdout"
        }
      ]
    },
    {
      "cell_type": "code",
      "metadata": {
        "id": "O13pNsXvV73K",
        "colab_type": "code",
        "colab": {
          "base_uri": "https://localhost:8080/",
          "height": 204
        },
        "outputId": "f666002c-592a-4e6c-de52-d3c0a2bc3f85"
      },
      "source": [
        "# Note this is the 100 dimension version of GloVe from Stanford\n",
        "!wget --no-check-certificate \\\n",
        "    https://storage.googleapis.com/laurencemoroney-blog.appspot.com/glove.6B.100d.txt \\\n",
        "    -O /tmp/glove.6B.100d.txt"
      ],
      "execution_count": 9,
      "outputs": [
        {
          "output_type": "stream",
          "text": [
            "--2020-08-28 18:49:16--  https://storage.googleapis.com/laurencemoroney-blog.appspot.com/glove.6B.100d.txt\n",
            "Resolving storage.googleapis.com (storage.googleapis.com)... 74.125.142.128, 74.125.195.128, 172.253.117.128, ...\n",
            "Connecting to storage.googleapis.com (storage.googleapis.com)|74.125.142.128|:443... connected.\n",
            "HTTP request sent, awaiting response... 200 OK\n",
            "Length: 347116733 (331M) [text/plain]\n",
            "Saving to: ‘/tmp/glove.6B.100d.txt’\n",
            "\n",
            "/tmp/glove.6B.100d. 100%[===================>] 331.04M   210MB/s    in 1.6s    \n",
            "\n",
            "2020-08-28 18:49:18 (210 MB/s) - ‘/tmp/glove.6B.100d.txt’ saved [347116733/347116733]\n",
            "\n"
          ],
          "name": "stdout"
        }
      ]
    },
    {
      "cell_type": "code",
      "metadata": {
        "id": "RhZUTk51WEpD",
        "colab_type": "code",
        "colab": {}
      },
      "source": [
        "# dic to hold the pairs of words and vectors\n",
        "embeddings_index = {}\n",
        "\n",
        "with open('/tmp/glove.6B.100d.txt') as f:\n",
        "  for line in f:\n",
        "    values = line.split()\n",
        "    word = values[0] # word\n",
        "    coefs = np.asarray(values[1:], dtype='float32') # vector coefficient: pre trained\n",
        "    embeddings_index[word] = coefs\n",
        "\n",
        "# Matrix will be the input of embedded layer\n",
        "embeddings_matrix = np.zeros((vocab_size+1, embedding_dim)) # vocab_size + 1 because we didnt include OOV case in the tokenizer. If included, then no need to +1\n",
        "for word, i in word_index.items():\n",
        "  # get the coefs vector of each word\n",
        "  embeddings_vector = embeddings_index.get(word)\n",
        "  if embeddings_vector is not None: # not OOV\n",
        "    embeddings_matrix[i] = embeddings_vector"
      ],
      "execution_count": 11,
      "outputs": []
    },
    {
      "cell_type": "code",
      "metadata": {
        "id": "-AX45L6mZ2Zu",
        "colab_type": "code",
        "colab": {
          "base_uri": "https://localhost:8080/",
          "height": 34
        },
        "outputId": "713343b1-1d89-41fa-c95c-1951df9d234b"
      },
      "source": [
        "print(len(embeddings_matrix))"
      ],
      "execution_count": 12,
      "outputs": [
        {
          "output_type": "stream",
          "text": [
            "138785\n"
          ],
          "name": "stdout"
        }
      ]
    },
    {
      "cell_type": "markdown",
      "metadata": {
        "id": "LvDmYxIwZ-uL",
        "colab_type": "text"
      },
      "source": [
        "# Create Model"
      ]
    },
    {
      "cell_type": "code",
      "metadata": {
        "id": "iRFCxOAIZ9Bo",
        "colab_type": "code",
        "colab": {}
      },
      "source": [
        "model = tf.keras.Sequential([\n",
        "    # use pre-trained coefs as weights, and freeze embedding layer\n",
        "    tf.keras.layers.Embedding(vocab_size+1, embedding_dim, input_length=max_len, weights=[embeddings_matrix], trainable=False), \n",
        "    tf.keras.layers.Dropout(0.2),\n",
        "    tf.keras.layers.Conv1D(64, 5, activation='relu'),\n",
        "    tf.keras.layers.MaxPooling1D(pool_size=4),\n",
        "    tf.keras.layers.LSTM(64),\n",
        "    tf.keras.layers.Dense(1, activation='sigmoid')\n",
        "])\n"
      ],
      "execution_count": 14,
      "outputs": []
    },
    {
      "cell_type": "code",
      "metadata": {
        "id": "M89ifG1YaCML",
        "colab_type": "code",
        "colab": {
          "base_uri": "https://localhost:8080/",
          "height": 357
        },
        "outputId": "317cf20a-a814-4958-a603-26e9d51b3f72"
      },
      "source": [
        "model.compile(loss='binary_crossentropy',optimizer='adam',metrics=['accuracy'])\n",
        "model.summary()"
      ],
      "execution_count": 15,
      "outputs": [
        {
          "output_type": "stream",
          "text": [
            "Model: \"sequential\"\n",
            "_________________________________________________________________\n",
            "Layer (type)                 Output Shape              Param #   \n",
            "=================================================================\n",
            "embedding (Embedding)        (None, 16, 100)           13878500  \n",
            "_________________________________________________________________\n",
            "dropout (Dropout)            (None, 16, 100)           0         \n",
            "_________________________________________________________________\n",
            "conv1d (Conv1D)              (None, 12, 64)            32064     \n",
            "_________________________________________________________________\n",
            "max_pooling1d (MaxPooling1D) (None, 3, 64)             0         \n",
            "_________________________________________________________________\n",
            "lstm (LSTM)                  (None, 64)                33024     \n",
            "_________________________________________________________________\n",
            "dense (Dense)                (None, 1)                 65        \n",
            "=================================================================\n",
            "Total params: 13,943,653\n",
            "Trainable params: 65,153\n",
            "Non-trainable params: 13,878,500\n",
            "_________________________________________________________________\n"
          ],
          "name": "stdout"
        }
      ]
    },
    {
      "cell_type": "code",
      "metadata": {
        "id": "19xLxE2FbBxx",
        "colab_type": "code",
        "colab": {
          "base_uri": "https://localhost:8080/",
          "height": 1000
        },
        "outputId": "78d1d640-d742-4dac-8ba0-06b67ab3f83e"
      },
      "source": [
        "num_epochs = 50\n",
        "\n",
        "training_padded = np.array(train_sequences) # turn list to np.array\n",
        "training_labels = np.array(train_labels)\n",
        "testing_padded = np.array(test_sequences)\n",
        "testing_labels = np.array(test_labels)\n",
        "\n",
        "history = model.fit(training_padded, training_labels, epochs=num_epochs, validation_data=(testing_padded, testing_labels), verbose=1)"
      ],
      "execution_count": 20,
      "outputs": [
        {
          "output_type": "stream",
          "text": [
            "Epoch 1/50\n",
            "4500/4500 [==============================] - 16s 4ms/step - loss: 0.4370 - accuracy: 0.7897 - val_loss: 0.5113 - val_accuracy: 0.7509\n",
            "Epoch 2/50\n",
            "4500/4500 [==============================] - 16s 4ms/step - loss: 0.4370 - accuracy: 0.7903 - val_loss: 0.5111 - val_accuracy: 0.7508\n",
            "Epoch 3/50\n",
            "4500/4500 [==============================] - 16s 4ms/step - loss: 0.4354 - accuracy: 0.7911 - val_loss: 0.5101 - val_accuracy: 0.7475\n",
            "Epoch 4/50\n",
            "4500/4500 [==============================] - 16s 4ms/step - loss: 0.4339 - accuracy: 0.7920 - val_loss: 0.5152 - val_accuracy: 0.7492\n",
            "Epoch 5/50\n",
            "4500/4500 [==============================] - 16s 4ms/step - loss: 0.4332 - accuracy: 0.7926 - val_loss: 0.5125 - val_accuracy: 0.7516\n",
            "Epoch 6/50\n",
            "4500/4500 [==============================] - 16s 4ms/step - loss: 0.4331 - accuracy: 0.7927 - val_loss: 0.5169 - val_accuracy: 0.7449\n",
            "Epoch 7/50\n",
            "4500/4500 [==============================] - 16s 4ms/step - loss: 0.4332 - accuracy: 0.7931 - val_loss: 0.5161 - val_accuracy: 0.7487\n",
            "Epoch 8/50\n",
            "4500/4500 [==============================] - 16s 4ms/step - loss: 0.4330 - accuracy: 0.7931 - val_loss: 0.5196 - val_accuracy: 0.7484\n",
            "Epoch 9/50\n",
            "4500/4500 [==============================] - 16s 4ms/step - loss: 0.4320 - accuracy: 0.7939 - val_loss: 0.5158 - val_accuracy: 0.7513\n",
            "Epoch 10/50\n",
            "4500/4500 [==============================] - 16s 4ms/step - loss: 0.4313 - accuracy: 0.7937 - val_loss: 0.5140 - val_accuracy: 0.7485\n",
            "Epoch 11/50\n",
            "4500/4500 [==============================] - 16s 4ms/step - loss: 0.4308 - accuracy: 0.7943 - val_loss: 0.5165 - val_accuracy: 0.7470\n",
            "Epoch 12/50\n",
            "4500/4500 [==============================] - 16s 4ms/step - loss: 0.4302 - accuracy: 0.7942 - val_loss: 0.5147 - val_accuracy: 0.7501\n",
            "Epoch 13/50\n",
            "4500/4500 [==============================] - 17s 4ms/step - loss: 0.4300 - accuracy: 0.7950 - val_loss: 0.5217 - val_accuracy: 0.7492\n",
            "Epoch 14/50\n",
            "4500/4500 [==============================] - 16s 4ms/step - loss: 0.4281 - accuracy: 0.7963 - val_loss: 0.5143 - val_accuracy: 0.7520\n",
            "Epoch 15/50\n",
            "4500/4500 [==============================] - 16s 4ms/step - loss: 0.4285 - accuracy: 0.7953 - val_loss: 0.5208 - val_accuracy: 0.7486\n",
            "Epoch 16/50\n",
            "4500/4500 [==============================] - 16s 4ms/step - loss: 0.4285 - accuracy: 0.7952 - val_loss: 0.5161 - val_accuracy: 0.7493\n",
            "Epoch 17/50\n",
            "4500/4500 [==============================] - 16s 4ms/step - loss: 0.4292 - accuracy: 0.7967 - val_loss: 0.5169 - val_accuracy: 0.7501\n",
            "Epoch 18/50\n",
            "4500/4500 [==============================] - 16s 4ms/step - loss: 0.4276 - accuracy: 0.7964 - val_loss: 0.5190 - val_accuracy: 0.7479\n",
            "Epoch 19/50\n",
            "4500/4500 [==============================] - 16s 4ms/step - loss: 0.4284 - accuracy: 0.7960 - val_loss: 0.5157 - val_accuracy: 0.7524\n",
            "Epoch 20/50\n",
            "4500/4500 [==============================] - 16s 4ms/step - loss: 0.4270 - accuracy: 0.7966 - val_loss: 0.5193 - val_accuracy: 0.7519\n",
            "Epoch 21/50\n",
            "4500/4500 [==============================] - 16s 4ms/step - loss: 0.4278 - accuracy: 0.7954 - val_loss: 0.5243 - val_accuracy: 0.7475\n",
            "Epoch 22/50\n",
            "4500/4500 [==============================] - 16s 4ms/step - loss: 0.4277 - accuracy: 0.7958 - val_loss: 0.5208 - val_accuracy: 0.7499\n",
            "Epoch 23/50\n",
            "4500/4500 [==============================] - 16s 4ms/step - loss: 0.4270 - accuracy: 0.7964 - val_loss: 0.5166 - val_accuracy: 0.7501\n",
            "Epoch 24/50\n",
            "4500/4500 [==============================] - 16s 4ms/step - loss: 0.4272 - accuracy: 0.7969 - val_loss: 0.5154 - val_accuracy: 0.7496\n",
            "Epoch 25/50\n",
            "4500/4500 [==============================] - 16s 4ms/step - loss: 0.4260 - accuracy: 0.7965 - val_loss: 0.5200 - val_accuracy: 0.7491\n",
            "Epoch 26/50\n",
            "4500/4500 [==============================] - 16s 4ms/step - loss: 0.4253 - accuracy: 0.7977 - val_loss: 0.5213 - val_accuracy: 0.7479\n",
            "Epoch 27/50\n",
            "4500/4500 [==============================] - 16s 4ms/step - loss: 0.4275 - accuracy: 0.7962 - val_loss: 0.5184 - val_accuracy: 0.7504\n",
            "Epoch 28/50\n",
            "4500/4500 [==============================] - 16s 4ms/step - loss: 0.4244 - accuracy: 0.7985 - val_loss: 0.5176 - val_accuracy: 0.7476\n",
            "Epoch 29/50\n",
            "4500/4500 [==============================] - 16s 4ms/step - loss: 0.4241 - accuracy: 0.7995 - val_loss: 0.5233 - val_accuracy: 0.7479\n",
            "Epoch 30/50\n",
            "4500/4500 [==============================] - 16s 4ms/step - loss: 0.4259 - accuracy: 0.7958 - val_loss: 0.5218 - val_accuracy: 0.7474\n",
            "Epoch 31/50\n",
            "4500/4500 [==============================] - 16s 4ms/step - loss: 0.4238 - accuracy: 0.7991 - val_loss: 0.5199 - val_accuracy: 0.7501\n",
            "Epoch 32/50\n",
            "4500/4500 [==============================] - 16s 4ms/step - loss: 0.4256 - accuracy: 0.7969 - val_loss: 0.5212 - val_accuracy: 0.7461\n",
            "Epoch 33/50\n",
            "4500/4500 [==============================] - 17s 4ms/step - loss: 0.4247 - accuracy: 0.7976 - val_loss: 0.5214 - val_accuracy: 0.7504\n",
            "Epoch 34/50\n",
            "4500/4500 [==============================] - 16s 4ms/step - loss: 0.4245 - accuracy: 0.7969 - val_loss: 0.5196 - val_accuracy: 0.7485\n",
            "Epoch 35/50\n",
            "4500/4500 [==============================] - 16s 4ms/step - loss: 0.4243 - accuracy: 0.7984 - val_loss: 0.5210 - val_accuracy: 0.7451\n",
            "Epoch 36/50\n",
            "4500/4500 [==============================] - 16s 4ms/step - loss: 0.4252 - accuracy: 0.7969 - val_loss: 0.5194 - val_accuracy: 0.7483\n",
            "Epoch 37/50\n",
            "4500/4500 [==============================] - 16s 4ms/step - loss: 0.4247 - accuracy: 0.7982 - val_loss: 0.5172 - val_accuracy: 0.7495\n",
            "Epoch 38/50\n",
            "4500/4500 [==============================] - 16s 4ms/step - loss: 0.4237 - accuracy: 0.7984 - val_loss: 0.5167 - val_accuracy: 0.7466\n",
            "Epoch 39/50\n",
            "4500/4500 [==============================] - 16s 4ms/step - loss: 0.4242 - accuracy: 0.7984 - val_loss: 0.5208 - val_accuracy: 0.7469\n",
            "Epoch 40/50\n",
            "4500/4500 [==============================] - 16s 4ms/step - loss: 0.4244 - accuracy: 0.7973 - val_loss: 0.5225 - val_accuracy: 0.7494\n",
            "Epoch 41/50\n",
            "4500/4500 [==============================] - 16s 4ms/step - loss: 0.4245 - accuracy: 0.7979 - val_loss: 0.5309 - val_accuracy: 0.7448\n",
            "Epoch 42/50\n",
            "4500/4500 [==============================] - 16s 4ms/step - loss: 0.4234 - accuracy: 0.7985 - val_loss: 0.5255 - val_accuracy: 0.7509\n",
            "Epoch 43/50\n",
            "4500/4500 [==============================] - 16s 4ms/step - loss: 0.4230 - accuracy: 0.7985 - val_loss: 0.5163 - val_accuracy: 0.7499\n",
            "Epoch 44/50\n",
            "4500/4500 [==============================] - 16s 4ms/step - loss: 0.4228 - accuracy: 0.7986 - val_loss: 0.5238 - val_accuracy: 0.7453\n",
            "Epoch 45/50\n",
            "4500/4500 [==============================] - 16s 4ms/step - loss: 0.4246 - accuracy: 0.7979 - val_loss: 0.5172 - val_accuracy: 0.7479\n",
            "Epoch 46/50\n",
            "4500/4500 [==============================] - 16s 4ms/step - loss: 0.4239 - accuracy: 0.7980 - val_loss: 0.5161 - val_accuracy: 0.7482\n",
            "Epoch 47/50\n",
            "4500/4500 [==============================] - 16s 4ms/step - loss: 0.4233 - accuracy: 0.7990 - val_loss: 0.5186 - val_accuracy: 0.7486\n",
            "Epoch 48/50\n",
            "4500/4500 [==============================] - 16s 4ms/step - loss: 0.4234 - accuracy: 0.7985 - val_loss: 0.5170 - val_accuracy: 0.7496\n",
            "Epoch 49/50\n",
            "4500/4500 [==============================] - 16s 4ms/step - loss: 0.4237 - accuracy: 0.7978 - val_loss: 0.5192 - val_accuracy: 0.7458\n",
            "Epoch 50/50\n",
            "4500/4500 [==============================] - 16s 4ms/step - loss: 0.4215 - accuracy: 0.7988 - val_loss: 0.5183 - val_accuracy: 0.7485\n"
          ],
          "name": "stdout"
        }
      ]
    },
    {
      "cell_type": "code",
      "metadata": {
        "id": "yTtUzmrcbT92",
        "colab_type": "code",
        "colab": {
          "base_uri": "https://localhost:8080/",
          "height": 590
        },
        "outputId": "37125f0a-7663-4804-9181-ed32105254fa"
      },
      "source": [
        "import matplotlib.image  as mpimg\n",
        "import matplotlib.pyplot as plt\n",
        "\n",
        "acc=history.history['accuracy']\n",
        "val_acc=history.history['val_accuracy']\n",
        "loss=history.history['loss']\n",
        "val_loss=history.history['val_loss']\n",
        "\n",
        "epochs=range(len(acc)) # Get number of epochs\n",
        "\n",
        "plt.figure()\n",
        "\n",
        "plt.plot(epochs, acc, 'r')\n",
        "plt.plot(epochs, val_acc, 'b')\n",
        "plt.title('Training and validation accuracy')\n",
        "plt.xlabel(\"Epochs\")\n",
        "plt.ylabel(\"Accuracy\")\n",
        "plt.legend([\"Accuracy\", \"Validation Accuracy\"])\n",
        "\n",
        "\n",
        "\n",
        "plt.figure()\n",
        "\n",
        "plt.plot(epochs, loss, 'r')\n",
        "plt.plot(epochs, val_loss, 'b')\n",
        "plt.title('Training and validation loss')\n",
        "plt.xlabel(\"Epochs\")\n",
        "plt.ylabel(\"Loss\")\n",
        "plt.legend([\"Loss\", \"Validation Loss\"])\n",
        "\n",
        "\n",
        "\n"
      ],
      "execution_count": 21,
      "outputs": [
        {
          "output_type": "execute_result",
          "data": {
            "text/plain": [
              "<matplotlib.legend.Legend at 0x7f3666ffd4e0>"
            ]
          },
          "metadata": {
            "tags": []
          },
          "execution_count": 21
        },
        {
          "output_type": "display_data",
          "data": {
            "image/png": "[encoded data removed]",
            "text/plain": [
              "<Figure size 432x288 with 1 Axes>"
            ]
          },
          "metadata": {
            "tags": [],
            "needs_background": "light"
          }
        },
        {
          "output_type": "display_data",
          "data": {
            "image/png": "[encoded data removed]",
            "text/plain": [
              "<Figure size 432x288 with 1 Axes>"
            ]
          },
          "metadata": {
            "tags": [],
            "needs_background": "light"
          }
        }
      ]
    }
  ]
}