{
  "nbformat": 4,
  "nbformat_minor": 0,
  "metadata": {
    "colab": {
      "name": "Sequence-Model.ipynb",
      "provenance": []
    },
    "kernelspec": {
      "name": "python3",
      "display_name": "Python 3"
    }
  },
  "cells": [
    {
      "cell_type": "markdown",
      "metadata": {
        "id": "nYj-O-Yogr_i",
        "colab_type": "text"
      },
      "source": [
        "# Prepare Feature and labels"
      ]
    },
    {
      "cell_type": "code",
      "metadata": {
        "id": "ACPb5XyMgk04",
        "colab_type": "code",
        "colab": {
          "base_uri": "https://localhost:8080/",
          "height": 34
        },
        "outputId": "927bb688-a06b-4051-9944-b3611765bf86"
      },
      "source": [
        "import tensorflow as tf\n",
        "import numpy as np\n",
        "import matplotlib.pyplot as plt\n",
        "print(tf.__version__)"
      ],
      "execution_count": 1,
      "outputs": [
        {
          "output_type": "stream",
          "text": [
            "2.3.0\n"
          ],
          "name": "stdout"
        }
      ]
    },
    {
      "cell_type": "code",
      "metadata": {
        "id": "k_r0aKw5g0hd",
        "colab_type": "code",
        "colab": {
          "base_uri": "https://localhost:8080/",
          "height": 187
        },
        "outputId": "65de04cf-dd05-4011-e79f-c398a4de2696"
      },
      "source": [
        "dataset = tf.data.Dataset.range(10)\n",
        "for val in dataset:\n",
        "   print(val.numpy())"
      ],
      "execution_count": 2,
      "outputs": [
        {
          "output_type": "stream",
          "text": [
            "0\n",
            "1\n",
            "2\n",
            "3\n",
            "4\n",
            "5\n",
            "6\n",
            "7\n",
            "8\n",
            "9\n"
          ],
          "name": "stdout"
        }
      ]
    },
    {
      "cell_type": "code",
      "metadata": {
        "id": "PaZZiSsmg3Wr",
        "colab_type": "code",
        "colab": {
          "base_uri": "https://localhost:8080/",
          "height": 187
        },
        "outputId": "5a123391-05ca-4328-fc07-453397ace15a"
      },
      "source": [
        "# Create subsequences / sampling windows with shift=1\n",
        "dataset = dataset.window(5, shift=1)\n",
        "for window_dataset in dataset:\n",
        "  for val in window_dataset:\n",
        "    print(val.numpy(), end=\" \")\n",
        "  print()"
      ],
      "execution_count": 3,
      "outputs": [
        {
          "output_type": "stream",
          "text": [
            "0 1 2 3 4 \n",
            "1 2 3 4 5 \n",
            "2 3 4 5 6 \n",
            "3 4 5 6 7 \n",
            "4 5 6 7 8 \n",
            "5 6 7 8 9 \n",
            "6 7 8 9 \n",
            "7 8 9 \n",
            "8 9 \n",
            "9 \n"
          ],
          "name": "stdout"
        }
      ]
    },
    {
      "cell_type": "code",
      "metadata": {
        "id": "wKicA0tDg6_G",
        "colab_type": "code",
        "colab": {
          "base_uri": "https://localhost:8080/",
          "height": 119
        },
        "outputId": "46ab7143-ade4-49ad-a3a1-7a3a61721df4"
      },
      "source": [
        "# cut down the length of each column to the shortest\n",
        "dataset = tf.data.Dataset.range(10)\n",
        "dataset = dataset.window(5, shift=1, drop_remainder=True)\n",
        "for window_dataset in dataset:\n",
        "  for val in window_dataset:\n",
        "    print(val.numpy(), end=\" \")\n",
        "  print()"
      ],
      "execution_count": 5,
      "outputs": [
        {
          "output_type": "stream",
          "text": [
            "0 1 2 3 4 \n",
            "1 2 3 4 5 \n",
            "2 3 4 5 6 \n",
            "3 4 5 6 7 \n",
            "4 5 6 7 8 \n",
            "5 6 7 8 9 \n"
          ],
          "name": "stdout"
        }
      ]
    },
    {
      "cell_type": "code",
      "metadata": {
        "id": "rd2X9S8FhULc",
        "colab_type": "code",
        "colab": {
          "base_uri": "https://localhost:8080/",
          "height": 119
        },
        "outputId": "76918328-8064-45f6-f892-20feb77746be"
      },
      "source": [
        "# mapping into list\n",
        "dataset = tf.data.Dataset.range(10)\n",
        "dataset = dataset.window(5, shift=1, drop_remainder=True)\n",
        "dataset = dataset.flat_map(lambda window: window.batch(5))\n",
        "for window in dataset:\n",
        "  print(window.numpy())"
      ],
      "execution_count": 7,
      "outputs": [
        {
          "output_type": "stream",
          "text": [
            "[0 1 2 3 4]\n",
            "[1 2 3 4 5]\n",
            "[2 3 4 5 6]\n",
            "[3 4 5 6 7]\n",
            "[4 5 6 7 8]\n",
            "[5 6 7 8 9]\n"
          ],
          "name": "stdout"
        }
      ]
    },
    {
      "cell_type": "code",
      "metadata": {
        "id": "08cigEhFhkFB",
        "colab_type": "code",
        "colab": {
          "base_uri": "https://localhost:8080/",
          "height": 119
        },
        "outputId": "e1a30c5b-de02-42eb-cff3-5b90c53aca45"
      },
      "source": [
        "# x and y using list slicing mapping\n",
        "dataset = tf.data.Dataset.range(10)\n",
        "dataset = dataset.window(5, shift=1, drop_remainder=True)\n",
        "dataset = dataset.flat_map(lambda window: window.batch(5))\n",
        "dataset = dataset.map(lambda window: (window[:-1], window[-1:]))\n",
        "for x,y in dataset:\n",
        "  print(x.numpy(), y.numpy())"
      ],
      "execution_count": 9,
      "outputs": [
        {
          "output_type": "stream",
          "text": [
            "[0 1 2 3] [4]\n",
            "[1 2 3 4] [5]\n",
            "[2 3 4 5] [6]\n",
            "[3 4 5 6] [7]\n",
            "[4 5 6 7] [8]\n",
            "[5 6 7 8] [9]\n"
          ],
          "name": "stdout"
        }
      ]
    },
    {
      "cell_type": "code",
      "metadata": {
        "id": "ojAJCBpLhmgg",
        "colab_type": "code",
        "colab": {
          "base_uri": "https://localhost:8080/",
          "height": 119
        },
        "outputId": "104bda1c-45c1-4c96-cef4-a1ded9a1ceba"
      },
      "source": [
        "# shuffle\n",
        "dataset = tf.data.Dataset.range(10)\n",
        "dataset = dataset.window(5, shift=1, drop_remainder=True)\n",
        "dataset = dataset.flat_map(lambda window: window.batch(5))\n",
        "dataset = dataset.map(lambda window: (window[:-1], window[-1:]))\n",
        "dataset = dataset.shuffle(buffer_size=10)\n",
        "for x,y in dataset:\n",
        "  print(x.numpy(), y.numpy())\n"
      ],
      "execution_count": 10,
      "outputs": [
        {
          "output_type": "stream",
          "text": [
            "[1 2 3 4] [5]\n",
            "[0 1 2 3] [4]\n",
            "[4 5 6 7] [8]\n",
            "[3 4 5 6] [7]\n",
            "[2 3 4 5] [6]\n",
            "[5 6 7 8] [9]\n"
          ],
          "name": "stdout"
        }
      ]
    },
    {
      "cell_type": "code",
      "metadata": {
        "id": "cr2_Z3SkiCCC",
        "colab_type": "code",
        "colab": {
          "base_uri": "https://localhost:8080/",
          "height": 221
        },
        "outputId": "27620d68-39c0-4461-8915-473e1a3d2398"
      },
      "source": [
        "# input x and label y\n",
        "dataset = tf.data.Dataset.range(10)\n",
        "dataset = dataset.window(5, shift=1, drop_remainder=True)\n",
        "dataset = dataset.flat_map(lambda window: window.batch(5))\n",
        "dataset = dataset.map(lambda window: (window[:-1], window[-1:]))\n",
        "dataset = dataset.shuffle(buffer_size=10)\n",
        "dataset = dataset.batch(3).prefetch(1)\n",
        "for x,y in dataset:\n",
        "  print(\"x = \", x.numpy())\n",
        "  print(\"y = \", y.numpy())\n"
      ],
      "execution_count": 13,
      "outputs": [
        {
          "output_type": "stream",
          "text": [
            "x =  [[3 4 5 6]\n",
            " [5 6 7 8]\n",
            " [1 2 3 4]]\n",
            "y =  [[7]\n",
            " [9]\n",
            " [5]]\n",
            "x =  [[0 1 2 3]\n",
            " [2 3 4 5]\n",
            " [4 5 6 7]]\n",
            "y =  [[4]\n",
            " [6]\n",
            " [8]]\n"
          ],
          "name": "stdout"
        }
      ]
    },
    {
      "cell_type": "markdown",
      "metadata": {
        "id": "nuns3rAMikM_",
        "colab_type": "text"
      },
      "source": [
        "# Prediction Using single layer NN"
      ]
    },
    {
      "cell_type": "markdown",
      "metadata": {
        "id": "J9GDwX86jeKG",
        "colab_type": "text"
      },
      "source": [
        "## Create an arbitrary signal data serie"
      ]
    },
    {
      "cell_type": "code",
      "metadata": {
        "id": "jVh8Y_VQiICB",
        "colab_type": "code",
        "colab": {}
      },
      "source": [
        "# helper func to plot time serie data\n",
        "def plot_series(time, series, format=\"-\", start=0, end=None):\n",
        "    plt.plot(time[start:end], series[start:end], format)\n",
        "    plt.xlabel(\"Time\")\n",
        "    plt.ylabel(\"Value\")\n",
        "    plt.grid(True)"
      ],
      "execution_count": 15,
      "outputs": []
    },
    {
      "cell_type": "code",
      "metadata": {
        "id": "BCKjz3Qtituj",
        "colab_type": "code",
        "colab": {}
      },
      "source": [
        "# helper func to generate data\n",
        "def trend(time, slope=0):\n",
        "    return slope * time\n",
        "\n",
        "def seasonal_pattern(season_time):\n",
        "    \"\"\"an arbitrary pattern for the development of the signal in each season\"\"\"\n",
        "    return np.where(season_time < 0.4,\n",
        "                    np.cos(season_time * np.pi),\n",
        "                    1 / np.exp(season_time/2))\n",
        "\n",
        "def seasonality(time, period, amplitude=1, phase=0):\n",
        "    \"\"\"Repeats the same pattern at each period\"\"\"\n",
        "    season_time = ((time + phase) % period) / period\n",
        "    return amplitude * seasonal_pattern(season_time)\n",
        "\n",
        "def noise(time, noise_level=1, seed=None):\n",
        "    \"\"\"some random noise\"\"\"\n",
        "    rnd = np.random.RandomState(seed)\n",
        "    return rnd.randn(len(time)) * noise_level"
      ],
      "execution_count": 18,
      "outputs": []
    },
    {
      "cell_type": "code",
      "metadata": {
        "id": "SGZOQe4zi3uz",
        "colab_type": "code",
        "colab": {}
      },
      "source": [
        "# total time\n",
        "time = np.arange(4 * 365 + 1, dtype=\"float32\")\n",
        "# general trend of the data series\n",
        "series = trend(time, 0.1)  \n",
        "baseline = 10\n",
        "amplitude = 40\n",
        "slope = 0.05\n",
        "# how strong the added noise should be\n",
        "noise_level = 3\n",
        "\n",
        "# Create the series (365days)\n",
        "series = baseline + trend(time, slope) + seasonality(time, period=365, amplitude=amplitude)\n",
        "# Update with noise\n",
        "series += noise(time, noise_level, seed=25)\n",
        "\n",
        "split_time = 1000\n",
        "time_train = time[:split_time]\n",
        "x_train = series[:split_time]\n",
        "time_valid = time[split_time:]\n",
        "x_valid = series[split_time:]"
      ],
      "execution_count": 28,
      "outputs": []
    },
    {
      "cell_type": "code",
      "metadata": {
        "id": "CA28n09rjko3",
        "colab_type": "code",
        "colab": {
          "base_uri": "https://localhost:8080/",
          "height": 279
        },
        "outputId": "55a272fd-ec8d-4d20-c4c1-3050afd9081e"
      },
      "source": [
        "# original data series\n",
        "plot_series(time_valid, x_valid)"
      ],
      "execution_count": 29,
      "outputs": [
        {
          "output_type": "display_data",
          "data": {
            "image/png": "[encoded data removed]",
            "text/plain": [
              "<Figure size 432x288 with 1 Axes>"
            ]
          },
          "metadata": {
            "tags": [],
            "needs_background": "light"
          }
        }
      ]
    },
    {
      "cell_type": "markdown",
      "metadata": {
        "id": "jgJYTJarlMLi",
        "colab_type": "text"
      },
      "source": [
        "## Sampling window"
      ]
    },
    {
      "cell_type": "code",
      "metadata": {
        "id": "8Am8aVKNjw0L",
        "colab_type": "code",
        "colab": {}
      },
      "source": [
        "# Tuneable parameters\n",
        "window_size = 20\n",
        "batch_size = 32\n",
        "shuffle_buffer_size = 1000\n",
        "\n",
        "# helper func -- sampling\n",
        "def windowed_dataset(series, window_size, batch_size, shuffle_buffer):\n",
        "  dataset = tf.data.Dataset.from_tensor_slices(series) # overall series: np.array\n",
        "  dataset = dataset.window(window_size + 1, shift=1, drop_remainder=True)\n",
        "  dataset = dataset.flat_map(lambda window: window.batch(window_size + 1))\n",
        "  dataset = dataset.shuffle(shuffle_buffer).map(lambda window: (window[:-1], window[-1]))\n",
        "  dataset = dataset.batch(batch_size).prefetch(1)\n",
        "  return dataset"
      ],
      "execution_count": 32,
      "outputs": []
    },
    {
      "cell_type": "markdown",
      "metadata": {
        "id": "0qMk7TEDl3X_",
        "colab_type": "text"
      },
      "source": [
        "## Model"
      ]
    },
    {
      "cell_type": "code",
      "metadata": {
        "id": "C91Lcdu-l5S3",
        "colab_type": "code",
        "colab": {
          "base_uri": "https://localhost:8080/",
          "height": 374
        },
        "outputId": "5f829960-a4be-42a1-c3e0-8dbb9f29e1b7"
      },
      "source": [
        "dataset = windowed_dataset(x_train, window_size, batch_size, shuffle_buffer_size)\n",
        "print(dataset)\n",
        "\n",
        "l0 = tf.keras.layers.Dense(1, input_shape=[window_size])\n",
        "model = tf.keras.models.Sequential([\n",
        "                                  l0 ])\n",
        "\n",
        "model.compile(loss=\"mse\", optimizer=tf.keras.optimizers.SGD(lr=1e-6, momentum=0.9)) # Tuneable params\n",
        "model.fit(dataset,epochs=100,verbose=0) # epochs tuneable\n",
        "\n",
        "print(\"Layer weights {}\".format(l0.get_weights()))\n",
        "\n"
      ],
      "execution_count": 38,
      "outputs": [
        {
          "output_type": "stream",
          "text": [
            "<PrefetchDataset shapes: ((None, None), (None,)), types: (tf.float32, tf.float32)>\n",
            "Layer weights [array([[-0.18621594],\n",
            "       [ 0.03524851],\n",
            "       [ 0.00563801],\n",
            "       [-0.02380647],\n",
            "       [ 0.02890022],\n",
            "       [ 0.07377054],\n",
            "       [ 0.21150067],\n",
            "       [ 0.17049807],\n",
            "       [-0.19656095],\n",
            "       [-0.11869758],\n",
            "       [-0.05971693],\n",
            "       [-0.09831491],\n",
            "       [ 0.18656062],\n",
            "       [-0.0193273 ],\n",
            "       [ 0.25959957],\n",
            "       [ 0.11380538],\n",
            "       [ 0.07094043],\n",
            "       [ 0.0056828 ],\n",
            "       [ 0.41741836],\n",
            "       [ 0.11878934]], dtype=float32), array([0.00546609], dtype=float32)]\n"
          ],
          "name": "stdout"
        }
      ]
    },
    {
      "cell_type": "markdown",
      "metadata": {
        "id": "9ScnkbfGnEXC",
        "colab_type": "text"
      },
      "source": [
        "## Predict"
      ]
    },
    {
      "cell_type": "code",
      "metadata": {
        "id": "nHWHI8iomO2L",
        "colab_type": "code",
        "colab": {
          "base_uri": "https://localhost:8080/",
          "height": 388
        },
        "outputId": "0eaf199e-929c-4edc-a186-986d65395b94"
      },
      "source": [
        "forecast = []\n",
        "\n",
        "for time in range(len(series) - window_size): # iterates through all windows\n",
        "  forecast.append(model.predict(series[time:time + window_size][np.newaxis]))\n",
        "\n",
        "forecast = forecast[split_time-window_size:]\n",
        "results = np.array(forecast)[:, 0, 0]\n",
        "\n",
        "\n",
        "plt.figure(figsize=(10, 6))\n",
        "\n",
        "plot_series(time_valid, x_valid)\n",
        "plot_series(time_valid, results)"
      ],
      "execution_count": 39,
      "outputs": [
        {
          "output_type": "display_data",
          "data": {
            "image/png": "[encoded data removed]",
            "text/plain": [
              "<Figure size 720x432 with 1 Axes>"
            ]
          },
          "metadata": {
            "tags": [],
            "needs_background": "light"
          }
        }
      ]
    },
    {
      "cell_type": "code",
      "metadata": {
        "id": "CdxCPFeSnSwN",
        "colab_type": "code",
        "colab": {
          "base_uri": "https://localhost:8080/",
          "height": 34
        },
        "outputId": "0462b6bb-6dc5-4ff3-d5a3-fa8a4af295f1"
      },
      "source": [
        "# Loss\n",
        "tf.keras.metrics.mean_absolute_error(x_valid, results).numpy()"
      ],
      "execution_count": 40,
      "outputs": [
        {
          "output_type": "execute_result",
          "data": {
            "text/plain": [
              "3.2031546"
            ]
          },
          "metadata": {
            "tags": []
          },
          "execution_count": 40
        }
      ]
    },
    {
      "cell_type": "markdown",
      "metadata": {
        "id": "CKx_HdOpnjBc",
        "colab_type": "text"
      },
      "source": [
        "# Using DNN"
      ]
    },
    {
      "cell_type": "markdown",
      "metadata": {
        "id": "z7KYto5OnlsN",
        "colab_type": "text"
      },
      "source": [
        "## Model"
      ]
    },
    {
      "cell_type": "code",
      "metadata": {
        "id": "H9fHhrwDnlCQ",
        "colab_type": "code",
        "colab": {
          "base_uri": "https://localhost:8080/",
          "height": 34
        },
        "outputId": "d7269c0e-98d9-4836-9275-d1efc50e9cb9"
      },
      "source": [
        "model_DNN = tf.keras.models.Sequential([\n",
        "    tf.keras.layers.Dense(10, input_shape=[window_size], activation=\"relu\"), \n",
        "    tf.keras.layers.Dense(10, activation=\"relu\"), \n",
        "    tf.keras.layers.Dense(1)\n",
        "])\n",
        "\n",
        "model_DNN.compile(loss=\"mse\", optimizer=tf.keras.optimizers.SGD(lr=1e-6, momentum=0.9))\n",
        "model_DNN.fit(dataset,epochs=100,verbose=0)"
      ],
      "execution_count": 41,
      "outputs": [
        {
          "output_type": "execute_result",
          "data": {
            "text/plain": [
              "<tensorflow.python.keras.callbacks.History at 0x7f8c1ea4e710>"
            ]
          },
          "metadata": {
            "tags": []
          },
          "execution_count": 41
        }
      ]
    },
    {
      "cell_type": "code",
      "metadata": {
        "id": "QbFsWfIdnz2H",
        "colab_type": "code",
        "colab": {
          "base_uri": "https://localhost:8080/",
          "height": 388
        },
        "outputId": "d9132e95-b1c2-42af-8965-552363b0c427"
      },
      "source": [
        "forecast_DNN = []\n",
        "for time in range(len(series) - window_size):\n",
        "  forecast_DNN.append(model_DNN.predict(series[time:time + window_size][np.newaxis]))\n",
        "\n",
        "forecast_DNN = forecast_DNN[split_time-window_size:]\n",
        "results_DNN = np.array(forecast_DNN)[:, 0, 0]\n",
        "\n",
        "\n",
        "plt.figure(figsize=(10, 6))\n",
        "\n",
        "plot_series(time_valid, x_valid)\n",
        "plot_series(time_valid, results_DNN)"
      ],
      "execution_count": 45,
      "outputs": [
        {
          "output_type": "display_data",
          "data": {
            "image/png": "[encoded data removed]",
            "text/plain": [
              "<Figure size 720x432 with 1 Axes>"
            ]
          },
          "metadata": {
            "tags": [],
            "needs_background": "light"
          }
        }
      ]
    },
    {
      "cell_type": "code",
      "metadata": {
        "id": "ScSrmiFmoFSZ",
        "colab_type": "code",
        "colab": {
          "base_uri": "https://localhost:8080/",
          "height": 34
        },
        "outputId": "4181d099-74a8-444e-be35-35c19910468b"
      },
      "source": [
        "tf.keras.metrics.mean_absolute_error(x_valid, results_DNN).numpy()"
      ],
      "execution_count": 46,
      "outputs": [
        {
          "output_type": "execute_result",
          "data": {
            "text/plain": [
              "3.0180688"
            ]
          },
          "metadata": {
            "tags": []
          },
          "execution_count": 46
        }
      ]
    },
    {
      "cell_type": "markdown",
      "metadata": {
        "id": "1evvrPXgoJ3q",
        "colab_type": "text"
      },
      "source": [
        "## Using LearningRateScheduler to choose the optimal LR"
      ]
    },
    {
      "cell_type": "code",
      "metadata": {
        "id": "6QsroeBnoQUO",
        "colab_type": "code",
        "colab": {}
      },
      "source": [
        "tf.keras.backend.clear_session()\n",
        "# same DNN model\n",
        "model_LrDecay = tf.keras.models.Sequential([\n",
        "    tf.keras.layers.Dense(10, input_shape=[window_size], activation=\"relu\"), \n",
        "    tf.keras.layers.Dense(10, activation=\"relu\"), \n",
        "    tf.keras.layers.Dense(1)\n",
        "])\n",
        "\n",
        "# create callbacks.LearningRateScheduler\n",
        "lr_schedule = tf.keras.callbacks.LearningRateScheduler(\n",
        "    lambda epoch: 1e-8 * 10**(epoch / 20))\n",
        "optimizer = tf.keras.optimizers.SGD(lr=1e-8, momentum=0.9) # original lr\n",
        "model_LrDecay.compile(loss=\"mse\", optimizer=optimizer)\n",
        "history = model_LrDecay.fit(dataset, epochs=100, callbacks=[lr_schedule], verbose=0) # callback to control learning rate decary"
      ],
      "execution_count": 68,
      "outputs": []
    },
    {
      "cell_type": "code",
      "metadata": {
        "id": "jI_-KY4bpVV1",
        "colab_type": "code",
        "colab": {}
      },
      "source": [
        "# find the optimal lr\n",
        "lrs = 1e-8 * (10 ** (np.arange(100) / 20))\n",
        "plt.semilogx(lrs, history.history[\"loss\"])\n",
        "plt.axis([1e-8, 1e-3, 0, 300])"
      ],
      "execution_count": null,
      "outputs": []
    },
    {
      "cell_type": "code",
      "metadata": {
        "id": "WJV2gdnqpoek",
        "colab_type": "code",
        "colab": {}
      },
      "source": [
        "# try the optimal lr with 500 epochs\n",
        "\n",
        "optimizer = tf.keras.optimizers.SGD(lr=1e-5, momentum=0.9)\n",
        "model_LrDecay.compile(loss=\"mse\", optimizer=optimizer)\n",
        "history = model_LrDecay.fit(dataset, epochs=500, verbose=0)"
      ],
      "execution_count": 67,
      "outputs": []
    },
    {
      "cell_type": "code",
      "metadata": {
        "id": "zZeIBCrVp2-R",
        "colab_type": "code",
        "colab": {}
      },
      "source": [
        "# check training loss\n",
        "loss = history.history['loss']\n",
        "epochs = range(len(loss))\n",
        "plt.plot(epochs, loss, 'b', label='Training Loss')\n",
        "plt.show()"
      ],
      "execution_count": null,
      "outputs": []
    },
    {
      "cell_type": "code",
      "metadata": {
        "id": "-U3j_f2op-Zy",
        "colab_type": "code",
        "colab": {}
      },
      "source": [
        "# zoom in without the first 200 (at beginning the loss is relative high and not stabil)\n",
        "loss = history.history['loss']\n",
        "epochs = range(200, len(loss))\n",
        "plot_loss = loss[200:]\n",
        "print(plot_loss)\n",
        "plt.plot(epochs, plot_loss, 'b', label='Training Loss')\n",
        "plt.show()"
      ],
      "execution_count": null,
      "outputs": []
    },
    {
      "cell_type": "code",
      "metadata": {
        "id": "AbGpyirpqQc7",
        "colab_type": "code",
        "colab": {}
      },
      "source": [
        "forecast_LrDecay = []\n",
        "for time in range(len(series) - window_size):\n",
        "  forecast_LrDecay.append(model_LrDecay.predict(series[time:time + window_size][np.newaxis]))\n",
        "\n",
        "forecast_LrDecay = forecast_LrDecay[split_time-window_size:]\n",
        "results_LrDecay = np.array(forecast_LrDecay)[:, 0, 0]\n",
        "\n",
        "\n",
        "plt.figure(figsize=(10, 6))\n",
        "\n",
        "plot_series(time_valid, x_valid)\n",
        "plot_series(time_valid, results_LrDecay)"
      ],
      "execution_count": null,
      "outputs": []
    },
    {
      "cell_type": "code",
      "metadata": {
        "id": "Lit_345Zqkxu",
        "colab_type": "code",
        "colab": {}
      },
      "source": [
        "tf.keras.metrics.mean_absolute_error(x_valid, results_LrDecay).numpy()"
      ],
      "execution_count": null,
      "outputs": []
    },
    {
      "cell_type": "markdown",
      "metadata": {
        "id": "Cr-QUU5Rs-dQ",
        "colab_type": "text"
      },
      "source": [
        "# Using RNN layers"
      ]
    },
    {
      "cell_type": "code",
      "metadata": {
        "id": "L2Kl7SnStBHU",
        "colab_type": "code",
        "colab": {
          "base_uri": "https://localhost:8080/",
          "height": 1000
        },
        "outputId": "4bc72e84-433b-40ed-b554-ee3194383e6e"
      },
      "source": [
        "tf.keras.backend.clear_session()\n",
        "tf.random.set_seed(30)\n",
        "np.random.seed(30)\n",
        "\n",
        "dataset = windowed_dataset(x_train, window_size, batch_size=128, shuffle_buffer=shuffle_buffer_size)\n",
        "\n",
        "model = tf.keras.models.Sequential([\n",
        "  # input to RNN (3 dimentions): Batch_size, the number of timestamps, the series dimensionality. input_shape = [None] --> model can take sequences with any length                                  \n",
        "  tf.keras.layers.Lambda(lambda x: tf.expand_dims(x, axis=-1), # Create correct input dimension, \n",
        "                      input_shape=[None]),\n",
        "  tf.keras.layers.SimpleRNN(40, return_sequences=True), \n",
        "  tf.keras.layers.SimpleRNN(40),\n",
        "  tf.keras.layers.Dense(1),\n",
        "  tf.keras.layers.Lambda(lambda x: x * 100.0) # increase the scales of the output to the scales of time series values such as 50s, 60s, 70s\n",
        "])\n",
        "\n",
        "optimizer = tf.keras.optimizers.SGD(lr=5e-5, momentum=0.9)\n",
        "model.compile(loss=tf.keras.losses.Huber(),\n",
        "              optimizer=optimizer,\n",
        "              metrics=[\"mae\"])\n",
        "history = model.fit(dataset,epochs=400)"
      ],
      "execution_count": 70,
      "outputs": [
        {
          "output_type": "stream",
          "text": [
            "Epoch 1/400\n",
            "8/8 [==============================] - 0s 11ms/step - loss: 77.8278 - mae: 78.3260\n",
            "Epoch 2/400\n",
            "8/8 [==============================] - 0s 10ms/step - loss: 40.5808 - mae: 41.0792\n",
            "Epoch 3/400\n",
            "8/8 [==============================] - 0s 10ms/step - loss: 27.2454 - mae: 27.7425\n",
            "Epoch 4/400\n",
            "8/8 [==============================] - 0s 10ms/step - loss: 16.5970 - mae: 17.0925\n",
            "Epoch 5/400\n",
            "8/8 [==============================] - 0s 10ms/step - loss: 14.1252 - mae: 14.6170\n",
            "Epoch 6/400\n",
            "8/8 [==============================] - 0s 12ms/step - loss: 12.8133 - mae: 13.3072\n",
            "Epoch 7/400\n",
            "8/8 [==============================] - 0s 10ms/step - loss: 12.7611 - mae: 13.2508\n",
            "Epoch 8/400\n",
            "8/8 [==============================] - 0s 10ms/step - loss: 12.5763 - mae: 13.0686\n",
            "Epoch 9/400\n",
            "8/8 [==============================] - 0s 10ms/step - loss: 11.6528 - mae: 12.1455\n",
            "Epoch 10/400\n",
            "8/8 [==============================] - 0s 10ms/step - loss: 11.9604 - mae: 12.4513\n",
            "Epoch 11/400\n",
            "8/8 [==============================] - 0s 11ms/step - loss: 10.7829 - mae: 11.2737\n",
            "Epoch 12/400\n",
            "8/8 [==============================] - 0s 10ms/step - loss: 11.2918 - mae: 11.7852\n",
            "Epoch 13/400\n",
            "8/8 [==============================] - 0s 11ms/step - loss: 12.9034 - mae: 13.3969\n",
            "Epoch 14/400\n",
            "8/8 [==============================] - 0s 10ms/step - loss: 10.7246 - mae: 11.2153\n",
            "Epoch 15/400\n",
            "8/8 [==============================] - 0s 11ms/step - loss: 14.9049 - mae: 15.3980\n",
            "Epoch 16/400\n",
            "8/8 [==============================] - 0s 11ms/step - loss: 14.3634 - mae: 14.8572\n",
            "Epoch 17/400\n",
            "8/8 [==============================] - 0s 15ms/step - loss: 12.2904 - mae: 12.7874\n",
            "Epoch 18/400\n",
            "8/8 [==============================] - 0s 10ms/step - loss: 10.2392 - mae: 10.7329\n",
            "Epoch 19/400\n",
            "8/8 [==============================] - 0s 11ms/step - loss: 15.2488 - mae: 15.7406\n",
            "Epoch 20/400\n",
            "8/8 [==============================] - 0s 12ms/step - loss: 13.4589 - mae: 13.9523\n",
            "Epoch 21/400\n",
            "8/8 [==============================] - 0s 12ms/step - loss: 12.4903 - mae: 12.9856\n",
            "Epoch 22/400\n",
            "8/8 [==============================] - 0s 10ms/step - loss: 12.2927 - mae: 12.7838\n",
            "Epoch 23/400\n",
            "8/8 [==============================] - 0s 10ms/step - loss: 12.4738 - mae: 12.9649\n",
            "Epoch 24/400\n",
            "8/8 [==============================] - 0s 10ms/step - loss: 12.2237 - mae: 12.7158\n",
            "Epoch 25/400\n",
            "8/8 [==============================] - 0s 11ms/step - loss: 12.2574 - mae: 12.7500\n",
            "Epoch 26/400\n",
            "8/8 [==============================] - 0s 10ms/step - loss: 12.4809 - mae: 12.9716\n",
            "Epoch 27/400\n",
            "8/8 [==============================] - 0s 10ms/step - loss: 12.0733 - mae: 12.5650\n",
            "Epoch 28/400\n",
            "8/8 [==============================] - 0s 10ms/step - loss: 13.0236 - mae: 13.5162\n",
            "Epoch 29/400\n",
            "8/8 [==============================] - 0s 11ms/step - loss: 12.5664 - mae: 13.0559\n",
            "Epoch 30/400\n",
            "8/8 [==============================] - 0s 10ms/step - loss: 12.4786 - mae: 12.9700\n",
            "Epoch 31/400\n",
            "8/8 [==============================] - 0s 11ms/step - loss: 11.8834 - mae: 12.3735\n",
            "Epoch 32/400\n",
            "8/8 [==============================] - 0s 12ms/step - loss: 12.3048 - mae: 12.7977\n",
            "Epoch 33/400\n",
            "8/8 [==============================] - 0s 10ms/step - loss: 12.2234 - mae: 12.7158\n",
            "Epoch 34/400\n",
            "8/8 [==============================] - 0s 10ms/step - loss: 13.1601 - mae: 13.6556\n",
            "Epoch 35/400\n",
            "8/8 [==============================] - 0s 11ms/step - loss: 13.5555 - mae: 14.0429\n",
            "Epoch 36/400\n",
            "8/8 [==============================] - 0s 11ms/step - loss: 12.6436 - mae: 13.1370\n",
            "Epoch 37/400\n",
            "8/8 [==============================] - 0s 10ms/step - loss: 12.5180 - mae: 13.0076\n",
            "Epoch 38/400\n",
            "8/8 [==============================] - 0s 11ms/step - loss: 12.7400 - mae: 13.2311\n",
            "Epoch 39/400\n",
            "8/8 [==============================] - 0s 11ms/step - loss: 12.6985 - mae: 13.1874\n",
            "Epoch 40/400\n",
            "8/8 [==============================] - 0s 10ms/step - loss: 13.1855 - mae: 13.6799\n",
            "Epoch 41/400\n",
            "8/8 [==============================] - 0s 10ms/step - loss: 13.1478 - mae: 13.6378\n",
            "Epoch 42/400\n",
            "8/8 [==============================] - 0s 11ms/step - loss: 12.8785 - mae: 13.3723\n",
            "Epoch 43/400\n",
            "8/8 [==============================] - 0s 10ms/step - loss: 12.7406 - mae: 13.2333\n",
            "Epoch 44/400\n",
            "8/8 [==============================] - 0s 11ms/step - loss: 13.7271 - mae: 14.2223\n",
            "Epoch 45/400\n",
            "8/8 [==============================] - 0s 11ms/step - loss: 14.0581 - mae: 14.5540\n",
            "Epoch 46/400\n",
            "8/8 [==============================] - 0s 12ms/step - loss: 12.9406 - mae: 13.4319\n",
            "Epoch 47/400\n",
            "8/8 [==============================] - 0s 11ms/step - loss: 12.7591 - mae: 13.2521\n",
            "Epoch 48/400\n",
            "8/8 [==============================] - 0s 10ms/step - loss: 13.3428 - mae: 13.8365\n",
            "Epoch 49/400\n",
            "8/8 [==============================] - 0s 13ms/step - loss: 13.0533 - mae: 13.5461\n",
            "Epoch 50/400\n",
            "8/8 [==============================] - 0s 11ms/step - loss: 12.5434 - mae: 13.0348\n",
            "Epoch 51/400\n",
            "8/8 [==============================] - 0s 10ms/step - loss: 13.0981 - mae: 13.5919\n",
            "Epoch 52/400\n",
            "8/8 [==============================] - 0s 10ms/step - loss: 13.4683 - mae: 13.9617\n",
            "Epoch 53/400\n",
            "8/8 [==============================] - 0s 10ms/step - loss: 13.4614 - mae: 13.9556\n",
            "Epoch 54/400\n",
            "8/8 [==============================] - 0s 10ms/step - loss: 13.5466 - mae: 14.0407\n",
            "Epoch 55/400\n",
            "8/8 [==============================] - 0s 12ms/step - loss: 13.0645 - mae: 13.5615\n",
            "Epoch 56/400\n",
            "8/8 [==============================] - 0s 10ms/step - loss: 13.6197 - mae: 14.1142\n",
            "Epoch 57/400\n",
            "8/8 [==============================] - 0s 11ms/step - loss: 13.4742 - mae: 13.9698\n",
            "Epoch 58/400\n",
            "8/8 [==============================] - 0s 11ms/step - loss: 12.8034 - mae: 13.2961\n",
            "Epoch 59/400\n",
            "8/8 [==============================] - 0s 10ms/step - loss: 12.6131 - mae: 13.1034\n",
            "Epoch 60/400\n",
            "8/8 [==============================] - 0s 10ms/step - loss: 12.9028 - mae: 13.3943\n",
            "Epoch 61/400\n",
            "8/8 [==============================] - 0s 10ms/step - loss: 12.5187 - mae: 13.0067\n",
            "Epoch 62/400\n",
            "8/8 [==============================] - 0s 10ms/step - loss: 12.7183 - mae: 13.2123\n",
            "Epoch 63/400\n",
            "8/8 [==============================] - 0s 11ms/step - loss: 12.5145 - mae: 13.0051\n",
            "Epoch 64/400\n",
            "8/8 [==============================] - 0s 10ms/step - loss: 11.1053 - mae: 11.5958\n",
            "Epoch 65/400\n",
            "8/8 [==============================] - 0s 11ms/step - loss: 10.2531 - mae: 10.7450\n",
            "Epoch 66/400\n",
            "8/8 [==============================] - 0s 11ms/step - loss: 13.5504 - mae: 14.0428\n",
            "Epoch 67/400\n",
            "8/8 [==============================] - 0s 11ms/step - loss: 13.8884 - mae: 14.3827\n",
            "Epoch 68/400\n",
            "8/8 [==============================] - 0s 10ms/step - loss: 13.3451 - mae: 13.8379\n",
            "Epoch 69/400\n",
            "8/8 [==============================] - 0s 10ms/step - loss: 14.0929 - mae: 14.5864\n",
            "Epoch 70/400\n",
            "8/8 [==============================] - 0s 11ms/step - loss: 15.0842 - mae: 15.5789\n",
            "Epoch 71/400\n",
            "8/8 [==============================] - 0s 12ms/step - loss: 15.7460 - mae: 16.2401\n",
            "Epoch 72/400\n",
            "8/8 [==============================] - 0s 11ms/step - loss: 15.4075 - mae: 15.9020\n",
            "Epoch 73/400\n",
            "8/8 [==============================] - 0s 10ms/step - loss: 16.2584 - mae: 16.7478\n",
            "Epoch 74/400\n",
            "8/8 [==============================] - 0s 12ms/step - loss: 15.1266 - mae: 15.6218\n",
            "Epoch 75/400\n",
            "8/8 [==============================] - 0s 11ms/step - loss: 14.4560 - mae: 14.9494\n",
            "Epoch 76/400\n",
            "8/8 [==============================] - 0s 10ms/step - loss: 13.4047 - mae: 13.8980\n",
            "Epoch 77/400\n",
            "8/8 [==============================] - 0s 11ms/step - loss: 13.5448 - mae: 14.0401\n",
            "Epoch 78/400\n",
            "8/8 [==============================] - 0s 10ms/step - loss: 13.0530 - mae: 13.5469\n",
            "Epoch 79/400\n",
            "8/8 [==============================] - 0s 10ms/step - loss: 12.7157 - mae: 13.2045\n",
            "Epoch 80/400\n",
            "8/8 [==============================] - 0s 11ms/step - loss: 13.2848 - mae: 13.7792\n",
            "Epoch 81/400\n",
            "8/8 [==============================] - 0s 11ms/step - loss: 12.8847 - mae: 13.3768\n",
            "Epoch 82/400\n",
            "8/8 [==============================] - 0s 11ms/step - loss: 12.5957 - mae: 13.0893\n",
            "Epoch 83/400\n",
            "8/8 [==============================] - 0s 11ms/step - loss: 13.0370 - mae: 13.5270\n",
            "Epoch 84/400\n",
            "8/8 [==============================] - 0s 11ms/step - loss: 12.6580 - mae: 13.1505\n",
            "Epoch 85/400\n",
            "8/8 [==============================] - 0s 11ms/step - loss: 12.5433 - mae: 13.0326\n",
            "Epoch 86/400\n",
            "8/8 [==============================] - 0s 11ms/step - loss: 12.5593 - mae: 13.0464\n",
            "Epoch 87/400\n",
            "8/8 [==============================] - 0s 12ms/step - loss: 12.7366 - mae: 13.2296\n",
            "Epoch 88/400\n",
            "8/8 [==============================] - 0s 13ms/step - loss: 12.8361 - mae: 13.3297\n",
            "Epoch 89/400\n",
            "8/8 [==============================] - 0s 11ms/step - loss: 13.0686 - mae: 13.5587\n",
            "Epoch 90/400\n",
            "8/8 [==============================] - 0s 10ms/step - loss: 13.2494 - mae: 13.7427\n",
            "Epoch 91/400\n",
            "8/8 [==============================] - 0s 10ms/step - loss: 13.2816 - mae: 13.7776\n",
            "Epoch 92/400\n",
            "8/8 [==============================] - 0s 10ms/step - loss: 13.6106 - mae: 14.1059\n",
            "Epoch 93/400\n",
            "8/8 [==============================] - 0s 11ms/step - loss: 13.0389 - mae: 13.5345\n",
            "Epoch 94/400\n",
            "8/8 [==============================] - 0s 11ms/step - loss: 13.5659 - mae: 14.0625\n",
            "Epoch 95/400\n",
            "8/8 [==============================] - 0s 11ms/step - loss: 12.7776 - mae: 13.2696\n",
            "Epoch 96/400\n",
            "8/8 [==============================] - 0s 11ms/step - loss: 12.5995 - mae: 13.0889\n",
            "Epoch 97/400\n",
            "8/8 [==============================] - 0s 11ms/step - loss: 13.6157 - mae: 14.1121\n",
            "Epoch 98/400\n",
            "8/8 [==============================] - 0s 11ms/step - loss: 13.5970 - mae: 14.0935\n",
            "Epoch 99/400\n",
            "8/8 [==============================] - 0s 10ms/step - loss: 14.1692 - mae: 14.6619\n",
            "Epoch 100/400\n",
            "8/8 [==============================] - 0s 13ms/step - loss: 12.7173 - mae: 13.2075\n",
            "Epoch 101/400\n",
            "8/8 [==============================] - 0s 10ms/step - loss: 12.5869 - mae: 13.0788\n",
            "Epoch 102/400\n",
            "8/8 [==============================] - 0s 10ms/step - loss: 12.6927 - mae: 13.1858\n",
            "Epoch 103/400\n",
            "8/8 [==============================] - 0s 10ms/step - loss: 12.8994 - mae: 13.3919\n",
            "Epoch 104/400\n",
            "8/8 [==============================] - 0s 10ms/step - loss: 13.0620 - mae: 13.5557\n",
            "Epoch 105/400\n",
            "8/8 [==============================] - 0s 10ms/step - loss: 12.6990 - mae: 13.1913\n",
            "Epoch 106/400\n",
            "8/8 [==============================] - 0s 11ms/step - loss: 12.5885 - mae: 13.0760\n",
            "Epoch 107/400\n",
            "8/8 [==============================] - 0s 11ms/step - loss: 13.5157 - mae: 14.0090\n",
            "Epoch 108/400\n",
            "8/8 [==============================] - 0s 10ms/step - loss: 13.6470 - mae: 14.1416\n",
            "Epoch 109/400\n",
            "8/8 [==============================] - 0s 12ms/step - loss: 13.6222 - mae: 14.1148\n",
            "Epoch 110/400\n",
            "8/8 [==============================] - 0s 11ms/step - loss: 13.4737 - mae: 13.9678\n",
            "Epoch 111/400\n",
            "8/8 [==============================] - 0s 12ms/step - loss: 12.9431 - mae: 13.4362\n",
            "Epoch 112/400\n",
            "8/8 [==============================] - 0s 10ms/step - loss: 13.6069 - mae: 14.1024\n",
            "Epoch 113/400\n",
            "8/8 [==============================] - 0s 11ms/step - loss: 13.2809 - mae: 13.7754\n",
            "Epoch 114/400\n",
            "8/8 [==============================] - 0s 10ms/step - loss: 13.1925 - mae: 13.6887\n",
            "Epoch 115/400\n",
            "8/8 [==============================] - 0s 11ms/step - loss: 12.7013 - mae: 13.1926\n",
            "Epoch 116/400\n",
            "8/8 [==============================] - 0s 11ms/step - loss: 12.8028 - mae: 13.2945\n",
            "Epoch 117/400\n",
            "8/8 [==============================] - 0s 11ms/step - loss: 12.6189 - mae: 13.1102\n",
            "Epoch 118/400\n",
            "8/8 [==============================] - 0s 10ms/step - loss: 12.8522 - mae: 13.3441\n",
            "Epoch 119/400\n",
            "8/8 [==============================] - 0s 11ms/step - loss: 12.9135 - mae: 13.4086\n",
            "Epoch 120/400\n",
            "8/8 [==============================] - 0s 11ms/step - loss: 12.5271 - mae: 13.0178\n",
            "Epoch 121/400\n",
            "8/8 [==============================] - 0s 11ms/step - loss: 13.1215 - mae: 13.6178\n",
            "Epoch 122/400\n",
            "8/8 [==============================] - 0s 10ms/step - loss: 13.4660 - mae: 13.9584\n",
            "Epoch 123/400\n",
            "8/8 [==============================] - 0s 10ms/step - loss: 13.5032 - mae: 13.9995\n",
            "Epoch 124/400\n",
            "8/8 [==============================] - 0s 11ms/step - loss: 12.9861 - mae: 13.4795\n",
            "Epoch 125/400\n",
            "8/8 [==============================] - 0s 10ms/step - loss: 12.8063 - mae: 13.2999\n",
            "Epoch 126/400\n",
            "8/8 [==============================] - 0s 11ms/step - loss: 12.9221 - mae: 13.4154\n",
            "Epoch 127/400\n",
            "8/8 [==============================] - 0s 10ms/step - loss: 12.9106 - mae: 13.4028\n",
            "Epoch 128/400\n",
            "8/8 [==============================] - 0s 12ms/step - loss: 12.7454 - mae: 13.2365\n",
            "Epoch 129/400\n",
            "8/8 [==============================] - 0s 11ms/step - loss: 12.9677 - mae: 13.4623\n",
            "Epoch 130/400\n",
            "8/8 [==============================] - 0s 11ms/step - loss: 13.9202 - mae: 14.4136\n",
            "Epoch 131/400\n",
            "8/8 [==============================] - 0s 11ms/step - loss: 13.3171 - mae: 13.8110\n",
            "Epoch 132/400\n",
            "8/8 [==============================] - 0s 10ms/step - loss: 12.9314 - mae: 13.4223\n",
            "Epoch 133/400\n",
            "8/8 [==============================] - 0s 11ms/step - loss: 13.3623 - mae: 13.8572\n",
            "Epoch 134/400\n",
            "8/8 [==============================] - 0s 10ms/step - loss: 12.6542 - mae: 13.1467\n",
            "Epoch 135/400\n",
            "8/8 [==============================] - 0s 11ms/step - loss: 13.0957 - mae: 13.5897\n",
            "Epoch 136/400\n",
            "8/8 [==============================] - 0s 11ms/step - loss: 12.5030 - mae: 12.9933\n",
            "Epoch 137/400\n",
            "8/8 [==============================] - 0s 11ms/step - loss: 12.5445 - mae: 13.0345\n",
            "Epoch 138/400\n",
            "8/8 [==============================] - 0s 10ms/step - loss: 12.5651 - mae: 13.0552\n",
            "Epoch 139/400\n",
            "8/8 [==============================] - 0s 13ms/step - loss: 12.7674 - mae: 13.2586\n",
            "Epoch 140/400\n",
            "8/8 [==============================] - 0s 11ms/step - loss: 13.0579 - mae: 13.5507\n",
            "Epoch 141/400\n",
            "8/8 [==============================] - 0s 10ms/step - loss: 12.7177 - mae: 13.2104\n",
            "Epoch 142/400\n",
            "8/8 [==============================] - 0s 11ms/step - loss: 13.3972 - mae: 13.8894\n",
            "Epoch 143/400\n",
            "8/8 [==============================] - 0s 10ms/step - loss: 12.9170 - mae: 13.4125\n",
            "Epoch 144/400\n",
            "8/8 [==============================] - 0s 10ms/step - loss: 12.6218 - mae: 13.1113\n",
            "Epoch 145/400\n",
            "8/8 [==============================] - 0s 12ms/step - loss: 12.5684 - mae: 13.0583\n",
            "Epoch 146/400\n",
            "8/8 [==============================] - 0s 11ms/step - loss: 12.6785 - mae: 13.1711\n",
            "Epoch 147/400\n",
            "8/8 [==============================] - 0s 10ms/step - loss: 12.5783 - mae: 13.0674\n",
            "Epoch 148/400\n",
            "8/8 [==============================] - 0s 11ms/step - loss: 12.7415 - mae: 13.2339\n",
            "Epoch 149/400\n",
            "8/8 [==============================] - 0s 11ms/step - loss: 12.5397 - mae: 13.0316\n",
            "Epoch 150/400\n",
            "8/8 [==============================] - 0s 11ms/step - loss: 12.6318 - mae: 13.1202\n",
            "Epoch 151/400\n",
            "8/8 [==============================] - 0s 11ms/step - loss: 12.6995 - mae: 13.1909\n",
            "Epoch 152/400\n",
            "8/8 [==============================] - 0s 10ms/step - loss: 12.9256 - mae: 13.4213\n",
            "Epoch 153/400\n",
            "8/8 [==============================] - 0s 11ms/step - loss: 12.8398 - mae: 13.3311\n",
            "Epoch 154/400\n",
            "8/8 [==============================] - 0s 10ms/step - loss: 12.6298 - mae: 13.1221\n",
            "Epoch 155/400\n",
            "8/8 [==============================] - 0s 10ms/step - loss: 12.6499 - mae: 13.1399\n",
            "Epoch 156/400\n",
            "8/8 [==============================] - 0s 11ms/step - loss: 12.7358 - mae: 13.2295\n",
            "Epoch 157/400\n",
            "8/8 [==============================] - 0s 11ms/step - loss: 12.6265 - mae: 13.1164\n",
            "Epoch 158/400\n",
            "8/8 [==============================] - 0s 11ms/step - loss: 12.6135 - mae: 13.1048\n",
            "Epoch 159/400\n",
            "8/8 [==============================] - 0s 10ms/step - loss: 12.6669 - mae: 13.1559\n",
            "Epoch 160/400\n",
            "8/8 [==============================] - 0s 10ms/step - loss: 12.7482 - mae: 13.2412\n",
            "Epoch 161/400\n",
            "8/8 [==============================] - 0s 10ms/step - loss: 12.7115 - mae: 13.2043\n",
            "Epoch 162/400\n",
            "8/8 [==============================] - 0s 11ms/step - loss: 12.6230 - mae: 13.1126\n",
            "Epoch 163/400\n",
            "8/8 [==============================] - 0s 11ms/step - loss: 12.7488 - mae: 13.2434\n",
            "Epoch 164/400\n",
            "8/8 [==============================] - 0s 11ms/step - loss: 12.8388 - mae: 13.3304\n",
            "Epoch 165/400\n",
            "8/8 [==============================] - 0s 10ms/step - loss: 12.5935 - mae: 13.0823\n",
            "Epoch 166/400\n",
            "8/8 [==============================] - 0s 10ms/step - loss: 12.8752 - mae: 13.3665\n",
            "Epoch 167/400\n",
            "8/8 [==============================] - 0s 10ms/step - loss: 13.0792 - mae: 13.5723\n",
            "Epoch 168/400\n",
            "8/8 [==============================] - 0s 10ms/step - loss: 13.5722 - mae: 14.0658\n",
            "Epoch 169/400\n",
            "8/8 [==============================] - 0s 10ms/step - loss: 13.6131 - mae: 14.1076\n",
            "Epoch 170/400\n",
            "8/8 [==============================] - 0s 11ms/step - loss: 13.8898 - mae: 14.3835\n",
            "Epoch 171/400\n",
            "8/8 [==============================] - 0s 11ms/step - loss: 13.4937 - mae: 13.9870\n",
            "Epoch 172/400\n",
            "8/8 [==============================] - 0s 10ms/step - loss: 13.3062 - mae: 13.8014\n",
            "Epoch 173/400\n",
            "8/8 [==============================] - 0s 11ms/step - loss: 13.0356 - mae: 13.5299\n",
            "Epoch 174/400\n",
            "8/8 [==============================] - 0s 10ms/step - loss: 12.5918 - mae: 13.0826\n",
            "Epoch 175/400\n",
            "8/8 [==============================] - 0s 10ms/step - loss: 12.7456 - mae: 13.2399\n",
            "Epoch 176/400\n",
            "8/8 [==============================] - 0s 11ms/step - loss: 13.3386 - mae: 13.8304\n",
            "Epoch 177/400\n",
            "8/8 [==============================] - 0s 11ms/step - loss: 12.9991 - mae: 13.4939\n",
            "Epoch 178/400\n",
            "8/8 [==============================] - 0s 10ms/step - loss: 12.6952 - mae: 13.1853\n",
            "Epoch 179/400\n",
            "8/8 [==============================] - 0s 12ms/step - loss: 12.6719 - mae: 13.1633\n",
            "Epoch 180/400\n",
            "8/8 [==============================] - 0s 10ms/step - loss: 12.7493 - mae: 13.2428\n",
            "Epoch 181/400\n",
            "8/8 [==============================] - 0s 10ms/step - loss: 12.7178 - mae: 13.2089\n",
            "Epoch 182/400\n",
            "8/8 [==============================] - 0s 11ms/step - loss: 13.3793 - mae: 13.8724\n",
            "Epoch 183/400\n",
            "8/8 [==============================] - 0s 11ms/step - loss: 13.8808 - mae: 14.3737\n",
            "Epoch 184/400\n",
            "8/8 [==============================] - 0s 10ms/step - loss: 13.1344 - mae: 13.6279\n",
            "Epoch 185/400\n",
            "8/8 [==============================] - 0s 11ms/step - loss: 13.1659 - mae: 13.6597\n",
            "Epoch 186/400\n",
            "8/8 [==============================] - 0s 10ms/step - loss: 12.9159 - mae: 13.4061\n",
            "Epoch 187/400\n",
            "8/8 [==============================] - 0s 10ms/step - loss: 12.9983 - mae: 13.4922\n",
            "Epoch 188/400\n",
            "8/8 [==============================] - 0s 10ms/step - loss: 13.4729 - mae: 13.9704\n",
            "Epoch 189/400\n",
            "8/8 [==============================] - 0s 11ms/step - loss: 13.4806 - mae: 13.9747\n",
            "Epoch 190/400\n",
            "8/8 [==============================] - 0s 12ms/step - loss: 13.4732 - mae: 13.9688\n",
            "Epoch 191/400\n",
            "8/8 [==============================] - 0s 10ms/step - loss: 13.2675 - mae: 13.7592\n",
            "Epoch 192/400\n",
            "8/8 [==============================] - 0s 10ms/step - loss: 12.6427 - mae: 13.1328\n",
            "Epoch 193/400\n",
            "8/8 [==============================] - 0s 10ms/step - loss: 12.6554 - mae: 13.1468\n",
            "Epoch 194/400\n",
            "8/8 [==============================] - 0s 11ms/step - loss: 12.7003 - mae: 13.1906\n",
            "Epoch 195/400\n",
            "8/8 [==============================] - 0s 10ms/step - loss: 12.5360 - mae: 13.0278\n",
            "Epoch 196/400\n",
            "8/8 [==============================] - 0s 12ms/step - loss: 12.5369 - mae: 13.0269\n",
            "Epoch 197/400\n",
            "8/8 [==============================] - 0s 10ms/step - loss: 12.8917 - mae: 13.3867\n",
            "Epoch 198/400\n",
            "8/8 [==============================] - 0s 11ms/step - loss: 13.0437 - mae: 13.5358\n",
            "Epoch 199/400\n",
            "8/8 [==============================] - 0s 10ms/step - loss: 12.6989 - mae: 13.1872\n",
            "Epoch 200/400\n",
            "8/8 [==============================] - 0s 10ms/step - loss: 12.9001 - mae: 13.3950\n",
            "Epoch 201/400\n",
            "8/8 [==============================] - 0s 10ms/step - loss: 12.7111 - mae: 13.2046\n",
            "Epoch 202/400\n",
            "8/8 [==============================] - 0s 11ms/step - loss: 12.7017 - mae: 13.1945\n",
            "Epoch 203/400\n",
            "8/8 [==============================] - 0s 10ms/step - loss: 12.9772 - mae: 13.4693\n",
            "Epoch 204/400\n",
            "8/8 [==============================] - 0s 11ms/step - loss: 12.6990 - mae: 13.1897\n",
            "Epoch 205/400\n",
            "8/8 [==============================] - 0s 10ms/step - loss: 12.5935 - mae: 13.0848\n",
            "Epoch 206/400\n",
            "8/8 [==============================] - 0s 10ms/step - loss: 12.6476 - mae: 13.1379\n",
            "Epoch 207/400\n",
            "8/8 [==============================] - 0s 10ms/step - loss: 12.9871 - mae: 13.4805\n",
            "Epoch 208/400\n",
            "8/8 [==============================] - 0s 10ms/step - loss: 12.7942 - mae: 13.2832\n",
            "Epoch 209/400\n",
            "8/8 [==============================] - 0s 12ms/step - loss: 12.5319 - mae: 13.0208\n",
            "Epoch 210/400\n",
            "8/8 [==============================] - 0s 11ms/step - loss: 12.6776 - mae: 13.1702\n",
            "Epoch 211/400\n",
            "8/8 [==============================] - 0s 10ms/step - loss: 12.8688 - mae: 13.3604\n",
            "Epoch 212/400\n",
            "8/8 [==============================] - 0s 10ms/step - loss: 12.6039 - mae: 13.0941\n",
            "Epoch 213/400\n",
            "8/8 [==============================] - 0s 12ms/step - loss: 12.7224 - mae: 13.2148\n",
            "Epoch 214/400\n",
            "8/8 [==============================] - 0s 11ms/step - loss: 12.6036 - mae: 13.0960\n",
            "Epoch 215/400\n",
            "8/8 [==============================] - 0s 10ms/step - loss: 13.0707 - mae: 13.5635\n",
            "Epoch 216/400\n",
            "8/8 [==============================] - 0s 11ms/step - loss: 12.8975 - mae: 13.3901\n",
            "Epoch 217/400\n",
            "8/8 [==============================] - 0s 10ms/step - loss: 13.0920 - mae: 13.5844\n",
            "Epoch 218/400\n",
            "8/8 [==============================] - 0s 11ms/step - loss: 13.2572 - mae: 13.7531\n",
            "Epoch 219/400\n",
            "8/8 [==============================] - 0s 11ms/step - loss: 12.8006 - mae: 13.2914\n",
            "Epoch 220/400\n",
            "8/8 [==============================] - 0s 11ms/step - loss: 12.5956 - mae: 13.0870\n",
            "Epoch 221/400\n",
            "8/8 [==============================] - 0s 10ms/step - loss: 12.6089 - mae: 13.0994\n",
            "Epoch 222/400\n",
            "8/8 [==============================] - 0s 10ms/step - loss: 12.5628 - mae: 13.0499\n",
            "Epoch 223/400\n",
            "8/8 [==============================] - 0s 11ms/step - loss: 13.0524 - mae: 13.5447\n",
            "Epoch 224/400\n",
            "8/8 [==============================] - 0s 12ms/step - loss: 13.0985 - mae: 13.5918\n",
            "Epoch 225/400\n",
            "8/8 [==============================] - 0s 13ms/step - loss: 13.6134 - mae: 14.1077\n",
            "Epoch 226/400\n",
            "8/8 [==============================] - 0s 11ms/step - loss: 12.6558 - mae: 13.1472\n",
            "Epoch 227/400\n",
            "8/8 [==============================] - 0s 11ms/step - loss: 12.5595 - mae: 13.0510\n",
            "Epoch 228/400\n",
            "8/8 [==============================] - 0s 10ms/step - loss: 12.5782 - mae: 13.0662\n",
            "Epoch 229/400\n",
            "8/8 [==============================] - 0s 10ms/step - loss: 12.6083 - mae: 13.0988\n",
            "Epoch 230/400\n",
            "8/8 [==============================] - 0s 11ms/step - loss: 12.7277 - mae: 13.2178\n",
            "Epoch 231/400\n",
            "8/8 [==============================] - 0s 11ms/step - loss: 12.6635 - mae: 13.1526\n",
            "Epoch 232/400\n",
            "8/8 [==============================] - 0s 10ms/step - loss: 12.6737 - mae: 13.1639\n",
            "Epoch 233/400\n",
            "8/8 [==============================] - 0s 10ms/step - loss: 12.5334 - mae: 13.0226\n",
            "Epoch 234/400\n",
            "8/8 [==============================] - 0s 11ms/step - loss: 12.9797 - mae: 13.4740\n",
            "Epoch 235/400\n",
            "8/8 [==============================] - 0s 10ms/step - loss: 12.8966 - mae: 13.3869\n",
            "Epoch 236/400\n",
            "8/8 [==============================] - 0s 11ms/step - loss: 12.9844 - mae: 13.4765\n",
            "Epoch 237/400\n",
            "8/8 [==============================] - 0s 10ms/step - loss: 12.9289 - mae: 13.4193\n",
            "Epoch 238/400\n",
            "8/8 [==============================] - 0s 11ms/step - loss: 12.7680 - mae: 13.2608\n",
            "Epoch 239/400\n",
            "8/8 [==============================] - 0s 11ms/step - loss: 12.7036 - mae: 13.1910\n",
            "Epoch 240/400\n",
            "8/8 [==============================] - 0s 11ms/step - loss: 12.8511 - mae: 13.3424\n",
            "Epoch 241/400\n",
            "8/8 [==============================] - 0s 11ms/step - loss: 12.8733 - mae: 13.3649\n",
            "Epoch 242/400\n",
            "8/8 [==============================] - 0s 11ms/step - loss: 12.9599 - mae: 13.4518\n",
            "Epoch 243/400\n",
            "8/8 [==============================] - 0s 10ms/step - loss: 13.0040 - mae: 13.4978\n",
            "Epoch 244/400\n",
            "8/8 [==============================] - 0s 11ms/step - loss: 12.8010 - mae: 13.2918\n",
            "Epoch 245/400\n",
            "8/8 [==============================] - 0s 11ms/step - loss: 13.5491 - mae: 14.0463\n",
            "Epoch 246/400\n",
            "8/8 [==============================] - 0s 13ms/step - loss: 13.1326 - mae: 13.6262\n",
            "Epoch 247/400\n",
            "8/8 [==============================] - 0s 11ms/step - loss: 13.0111 - mae: 13.5027\n",
            "Epoch 248/400\n",
            "8/8 [==============================] - 0s 11ms/step - loss: 12.6747 - mae: 13.1685\n",
            "Epoch 249/400\n",
            "8/8 [==============================] - 0s 10ms/step - loss: 12.5869 - mae: 13.0790\n",
            "Epoch 250/400\n",
            "8/8 [==============================] - 0s 10ms/step - loss: 12.9046 - mae: 13.3998\n",
            "Epoch 251/400\n",
            "8/8 [==============================] - 0s 10ms/step - loss: 12.7028 - mae: 13.1916\n",
            "Epoch 252/400\n",
            "8/8 [==============================] - 0s 12ms/step - loss: 12.5627 - mae: 13.0545\n",
            "Epoch 253/400\n",
            "8/8 [==============================] - 0s 11ms/step - loss: 12.8251 - mae: 13.3180\n",
            "Epoch 254/400\n",
            "8/8 [==============================] - 0s 10ms/step - loss: 12.5424 - mae: 13.0331\n",
            "Epoch 255/400\n",
            "8/8 [==============================] - 0s 10ms/step - loss: 12.5456 - mae: 13.0349\n",
            "Epoch 256/400\n",
            "8/8 [==============================] - 0s 11ms/step - loss: 13.1770 - mae: 13.6709\n",
            "Epoch 257/400\n",
            "8/8 [==============================] - 0s 11ms/step - loss: 13.3142 - mae: 13.8107\n",
            "Epoch 258/400\n",
            "8/8 [==============================] - 0s 12ms/step - loss: 13.0702 - mae: 13.5610\n",
            "Epoch 259/400\n",
            "8/8 [==============================] - 0s 11ms/step - loss: 12.8947 - mae: 13.3873\n",
            "Epoch 260/400\n",
            "8/8 [==============================] - 0s 11ms/step - loss: 13.0269 - mae: 13.5188\n",
            "Epoch 261/400\n",
            "8/8 [==============================] - 0s 11ms/step - loss: 12.5719 - mae: 13.0640\n",
            "Epoch 262/400\n",
            "8/8 [==============================] - 0s 10ms/step - loss: 12.7696 - mae: 13.2540\n",
            "Epoch 263/400\n",
            "8/8 [==============================] - 0s 11ms/step - loss: 12.7128 - mae: 13.2053\n",
            "Epoch 264/400\n",
            "8/8 [==============================] - 0s 11ms/step - loss: 12.6906 - mae: 13.1826\n",
            "Epoch 265/400\n",
            "8/8 [==============================] - 0s 12ms/step - loss: 12.6647 - mae: 13.1562\n",
            "Epoch 266/400\n",
            "8/8 [==============================] - 0s 11ms/step - loss: 12.7574 - mae: 13.2483\n",
            "Epoch 267/400\n",
            "8/8 [==============================] - 0s 10ms/step - loss: 12.7320 - mae: 13.2246\n",
            "Epoch 268/400\n",
            "8/8 [==============================] - 0s 11ms/step - loss: 12.7714 - mae: 13.2629\n",
            "Epoch 269/400\n",
            "8/8 [==============================] - 0s 11ms/step - loss: 12.7477 - mae: 13.2383\n",
            "Epoch 270/400\n",
            "8/8 [==============================] - 0s 10ms/step - loss: 13.0753 - mae: 13.5680\n",
            "Epoch 271/400\n",
            "8/8 [==============================] - 0s 10ms/step - loss: 13.8227 - mae: 14.3172\n",
            "Epoch 272/400\n",
            "8/8 [==============================] - 0s 10ms/step - loss: 13.1959 - mae: 13.6907\n",
            "Epoch 273/400\n",
            "8/8 [==============================] - 0s 11ms/step - loss: 12.9076 - mae: 13.3998\n",
            "Epoch 274/400\n",
            "8/8 [==============================] - 0s 11ms/step - loss: 12.6996 - mae: 13.1938\n",
            "Epoch 275/400\n",
            "8/8 [==============================] - 0s 12ms/step - loss: 12.7478 - mae: 13.2406\n",
            "Epoch 276/400\n",
            "8/8 [==============================] - 0s 10ms/step - loss: 12.9247 - mae: 13.4154\n",
            "Epoch 277/400\n",
            "8/8 [==============================] - 0s 10ms/step - loss: 13.3030 - mae: 13.7962\n",
            "Epoch 278/400\n",
            "8/8 [==============================] - 0s 10ms/step - loss: 12.9957 - mae: 13.4858\n",
            "Epoch 279/400\n",
            "8/8 [==============================] - 0s 10ms/step - loss: 12.8844 - mae: 13.3781\n",
            "Epoch 280/400\n",
            "8/8 [==============================] - 0s 11ms/step - loss: 12.7128 - mae: 13.2024\n",
            "Epoch 281/400\n",
            "8/8 [==============================] - 0s 11ms/step - loss: 12.5690 - mae: 13.0586\n",
            "Epoch 282/400\n",
            "8/8 [==============================] - 0s 10ms/step - loss: 12.9253 - mae: 13.4177\n",
            "Epoch 283/400\n",
            "8/8 [==============================] - 0s 10ms/step - loss: 13.6452 - mae: 14.1388\n",
            "Epoch 284/400\n",
            "8/8 [==============================] - 0s 10ms/step - loss: 13.4269 - mae: 13.9192\n",
            "Epoch 285/400\n",
            "8/8 [==============================] - 0s 10ms/step - loss: 13.2114 - mae: 13.7049\n",
            "Epoch 286/400\n",
            "8/8 [==============================] - 0s 11ms/step - loss: 12.6766 - mae: 13.1685\n",
            "Epoch 287/400\n",
            "8/8 [==============================] - 0s 11ms/step - loss: 12.5140 - mae: 13.0026\n",
            "Epoch 288/400\n",
            "8/8 [==============================] - 0s 10ms/step - loss: 12.6060 - mae: 13.0975\n",
            "Epoch 289/400\n",
            "8/8 [==============================] - 0s 10ms/step - loss: 12.6206 - mae: 13.1115\n",
            "Epoch 290/400\n",
            "8/8 [==============================] - 0s 11ms/step - loss: 13.0034 - mae: 13.4973\n",
            "Epoch 291/400\n",
            "8/8 [==============================] - 0s 10ms/step - loss: 12.7409 - mae: 13.2325\n",
            "Epoch 292/400\n",
            "8/8 [==============================] - 0s 12ms/step - loss: 12.8056 - mae: 13.2937\n",
            "Epoch 293/400\n",
            "8/8 [==============================] - 0s 10ms/step - loss: 12.5390 - mae: 13.0302\n",
            "Epoch 294/400\n",
            "8/8 [==============================] - 0s 10ms/step - loss: 13.0747 - mae: 13.5684\n",
            "Epoch 295/400\n",
            "8/8 [==============================] - 0s 10ms/step - loss: 13.3408 - mae: 13.8380\n",
            "Epoch 296/400\n",
            "8/8 [==============================] - 0s 10ms/step - loss: 13.3512 - mae: 13.8436\n",
            "Epoch 297/400\n",
            "8/8 [==============================] - 0s 10ms/step - loss: 12.6572 - mae: 13.1460\n",
            "Epoch 298/400\n",
            "8/8 [==============================] - 0s 10ms/step - loss: 12.6287 - mae: 13.1177\n",
            "Epoch 299/400\n",
            "8/8 [==============================] - 0s 11ms/step - loss: 12.9584 - mae: 13.4506\n",
            "Epoch 300/400\n",
            "8/8 [==============================] - 0s 11ms/step - loss: 12.6172 - mae: 13.1058\n",
            "Epoch 301/400\n",
            "8/8 [==============================] - 0s 11ms/step - loss: 12.5679 - mae: 13.0577\n",
            "Epoch 302/400\n",
            "8/8 [==============================] - 0s 11ms/step - loss: 12.7137 - mae: 13.2051\n",
            "Epoch 303/400\n",
            "8/8 [==============================] - 0s 13ms/step - loss: 12.7128 - mae: 13.2062\n",
            "Epoch 304/400\n",
            "8/8 [==============================] - 0s 11ms/step - loss: 12.7934 - mae: 13.2842\n",
            "Epoch 305/400\n",
            "8/8 [==============================] - 0s 10ms/step - loss: 12.6638 - mae: 13.1543\n",
            "Epoch 306/400\n",
            "8/8 [==============================] - 0s 11ms/step - loss: 12.5679 - mae: 13.0610\n",
            "Epoch 307/400\n",
            "8/8 [==============================] - 0s 11ms/step - loss: 12.5795 - mae: 13.0690\n",
            "Epoch 308/400\n",
            "8/8 [==============================] - 0s 11ms/step - loss: 13.0707 - mae: 13.5658\n",
            "Epoch 309/400\n",
            "8/8 [==============================] - 0s 12ms/step - loss: 13.5409 - mae: 14.0350\n",
            "Epoch 310/400\n",
            "8/8 [==============================] - 0s 11ms/step - loss: 13.4847 - mae: 13.9812\n",
            "Epoch 311/400\n",
            "8/8 [==============================] - 0s 11ms/step - loss: 12.8445 - mae: 13.3358\n",
            "Epoch 312/400\n",
            "8/8 [==============================] - 0s 11ms/step - loss: 12.6258 - mae: 13.1172\n",
            "Epoch 313/400\n",
            "8/8 [==============================] - 0s 12ms/step - loss: 12.7402 - mae: 13.2313\n",
            "Epoch 314/400\n",
            "8/8 [==============================] - 0s 11ms/step - loss: 12.8852 - mae: 13.3810\n",
            "Epoch 315/400\n",
            "8/8 [==============================] - 0s 10ms/step - loss: 12.8461 - mae: 13.3388\n",
            "Epoch 316/400\n",
            "8/8 [==============================] - 0s 10ms/step - loss: 13.6599 - mae: 14.1512\n",
            "Epoch 317/400\n",
            "8/8 [==============================] - 0s 10ms/step - loss: 14.3166 - mae: 14.8101\n",
            "Epoch 318/400\n",
            "8/8 [==============================] - 0s 10ms/step - loss: 13.7248 - mae: 14.2170\n",
            "Epoch 319/400\n",
            "8/8 [==============================] - 0s 11ms/step - loss: 13.5350 - mae: 14.0294\n",
            "Epoch 320/400\n",
            "8/8 [==============================] - 0s 13ms/step - loss: 13.5000 - mae: 13.9921\n",
            "Epoch 321/400\n",
            "8/8 [==============================] - 0s 11ms/step - loss: 12.8249 - mae: 13.3192\n",
            "Epoch 322/400\n",
            "8/8 [==============================] - 0s 10ms/step - loss: 12.7930 - mae: 13.2848\n",
            "Epoch 323/400\n",
            "8/8 [==============================] - 0s 10ms/step - loss: 13.2840 - mae: 13.7786\n",
            "Epoch 324/400\n",
            "8/8 [==============================] - 0s 11ms/step - loss: 12.5735 - mae: 13.0663\n",
            "Epoch 325/400\n",
            "8/8 [==============================] - 0s 10ms/step - loss: 12.6371 - mae: 13.1272\n",
            "Epoch 326/400\n",
            "8/8 [==============================] - 0s 10ms/step - loss: 12.6280 - mae: 13.1184\n",
            "Epoch 327/400\n",
            "8/8 [==============================] - 0s 11ms/step - loss: 12.5422 - mae: 13.0352\n",
            "Epoch 328/400\n",
            "8/8 [==============================] - 0s 10ms/step - loss: 12.6108 - mae: 13.1009\n",
            "Epoch 329/400\n",
            "8/8 [==============================] - 0s 10ms/step - loss: 12.6109 - mae: 13.1028\n",
            "Epoch 330/400\n",
            "8/8 [==============================] - 0s 10ms/step - loss: 12.8201 - mae: 13.3115\n",
            "Epoch 331/400\n",
            "8/8 [==============================] - 0s 10ms/step - loss: 12.8256 - mae: 13.3183\n",
            "Epoch 332/400\n",
            "8/8 [==============================] - 0s 10ms/step - loss: 12.7628 - mae: 13.2540\n",
            "Epoch 333/400\n",
            "8/8 [==============================] - 0s 10ms/step - loss: 12.6603 - mae: 13.1495\n",
            "Epoch 334/400\n",
            "8/8 [==============================] - 0s 11ms/step - loss: 12.6040 - mae: 13.0942\n",
            "Epoch 335/400\n",
            "8/8 [==============================] - 0s 10ms/step - loss: 12.6755 - mae: 13.1658\n",
            "Epoch 336/400\n",
            "8/8 [==============================] - 0s 10ms/step - loss: 12.7066 - mae: 13.1979\n",
            "Epoch 337/400\n",
            "8/8 [==============================] - 0s 11ms/step - loss: 12.8841 - mae: 13.3750\n",
            "Epoch 338/400\n",
            "8/8 [==============================] - 0s 10ms/step - loss: 12.9873 - mae: 13.4781\n",
            "Epoch 339/400\n",
            "8/8 [==============================] - 0s 10ms/step - loss: 12.6266 - mae: 13.1190\n",
            "Epoch 340/400\n",
            "8/8 [==============================] - 0s 10ms/step - loss: 12.6079 - mae: 13.0989\n",
            "Epoch 341/400\n",
            "8/8 [==============================] - 0s 11ms/step - loss: 12.6393 - mae: 13.1299\n",
            "Epoch 342/400\n",
            "8/8 [==============================] - 0s 11ms/step - loss: 12.7727 - mae: 13.2630\n",
            "Epoch 343/400\n",
            "8/8 [==============================] - 0s 11ms/step - loss: 12.8381 - mae: 13.3297\n",
            "Epoch 344/400\n",
            "8/8 [==============================] - 0s 10ms/step - loss: 13.0715 - mae: 13.5669\n",
            "Epoch 345/400\n",
            "8/8 [==============================] - 0s 10ms/step - loss: 12.7627 - mae: 13.2550\n",
            "Epoch 346/400\n",
            "8/8 [==============================] - 0s 11ms/step - loss: 12.5530 - mae: 13.0437\n",
            "Epoch 347/400\n",
            "8/8 [==============================] - 0s 11ms/step - loss: 12.7784 - mae: 13.2705\n",
            "Epoch 348/400\n",
            "8/8 [==============================] - 0s 11ms/step - loss: 12.6308 - mae: 13.1215\n",
            "Epoch 349/400\n",
            "8/8 [==============================] - 0s 12ms/step - loss: 12.8080 - mae: 13.3034\n",
            "Epoch 350/400\n",
            "8/8 [==============================] - 0s 11ms/step - loss: 12.6023 - mae: 13.0940\n",
            "Epoch 351/400\n",
            "8/8 [==============================] - 0s 10ms/step - loss: 12.5325 - mae: 13.0218\n",
            "Epoch 352/400\n",
            "8/8 [==============================] - 0s 10ms/step - loss: 12.7575 - mae: 13.2508\n",
            "Epoch 353/400\n",
            "8/8 [==============================] - 0s 11ms/step - loss: 13.2211 - mae: 13.7155\n",
            "Epoch 354/400\n",
            "8/8 [==============================] - 0s 11ms/step - loss: 13.1042 - mae: 13.5972\n",
            "Epoch 355/400\n",
            "8/8 [==============================] - 0s 11ms/step - loss: 12.8795 - mae: 13.3738\n",
            "Epoch 356/400\n",
            "8/8 [==============================] - 0s 11ms/step - loss: 12.6996 - mae: 13.1876\n",
            "Epoch 357/400\n",
            "8/8 [==============================] - 0s 10ms/step - loss: 13.4312 - mae: 13.9255\n",
            "Epoch 358/400\n",
            "8/8 [==============================] - 0s 11ms/step - loss: 12.8275 - mae: 13.3224\n",
            "Epoch 359/400\n",
            "8/8 [==============================] - 0s 10ms/step - loss: 13.1758 - mae: 13.6673\n",
            "Epoch 360/400\n",
            "8/8 [==============================] - 0s 10ms/step - loss: 12.6992 - mae: 13.1924\n",
            "Epoch 361/400\n",
            "8/8 [==============================] - 0s 11ms/step - loss: 13.1288 - mae: 13.6215\n",
            "Epoch 362/400\n",
            "8/8 [==============================] - 0s 11ms/step - loss: 12.6853 - mae: 13.1767\n",
            "Epoch 363/400\n",
            "8/8 [==============================] - 0s 10ms/step - loss: 12.8099 - mae: 13.2998\n",
            "Epoch 364/400\n",
            "8/8 [==============================] - 0s 10ms/step - loss: 12.6557 - mae: 13.1481\n",
            "Epoch 365/400\n",
            "8/8 [==============================] - 0s 11ms/step - loss: 12.5868 - mae: 13.0773\n",
            "Epoch 366/400\n",
            "8/8 [==============================] - 0s 11ms/step - loss: 12.5338 - mae: 13.0239\n",
            "Epoch 367/400\n",
            "8/8 [==============================] - 0s 11ms/step - loss: 12.5369 - mae: 13.0251\n",
            "Epoch 368/400\n",
            "8/8 [==============================] - 0s 11ms/step - loss: 12.9225 - mae: 13.4129\n",
            "Epoch 369/400\n",
            "8/8 [==============================] - 0s 11ms/step - loss: 12.7687 - mae: 13.2611\n",
            "Epoch 370/400\n",
            "8/8 [==============================] - 0s 11ms/step - loss: 12.8723 - mae: 13.3651\n",
            "Epoch 371/400\n",
            "8/8 [==============================] - 0s 10ms/step - loss: 12.7964 - mae: 13.2887\n",
            "Epoch 372/400\n",
            "8/8 [==============================] - 0s 12ms/step - loss: 12.5733 - mae: 13.0622\n",
            "Epoch 373/400\n",
            "8/8 [==============================] - 0s 11ms/step - loss: 12.5287 - mae: 13.0197\n",
            "Epoch 374/400\n",
            "8/8 [==============================] - 0s 11ms/step - loss: 12.5399 - mae: 13.0304\n",
            "Epoch 375/400\n",
            "8/8 [==============================] - 0s 10ms/step - loss: 12.7882 - mae: 13.2792\n",
            "Epoch 376/400\n",
            "8/8 [==============================] - 0s 10ms/step - loss: 13.1954 - mae: 13.6896\n",
            "Epoch 377/400\n",
            "8/8 [==============================] - 0s 12ms/step - loss: 13.9074 - mae: 14.4029\n",
            "Epoch 378/400\n",
            "8/8 [==============================] - 0s 11ms/step - loss: 13.1182 - mae: 13.6096\n",
            "Epoch 379/400\n",
            "8/8 [==============================] - 0s 11ms/step - loss: 12.3211 - mae: 12.8128\n",
            "Epoch 380/400\n",
            "8/8 [==============================] - 0s 11ms/step - loss: 11.9069 - mae: 12.3977\n",
            "Epoch 381/400\n",
            "8/8 [==============================] - 0s 11ms/step - loss: 11.7474 - mae: 12.2390\n",
            "Epoch 382/400\n",
            "8/8 [==============================] - 0s 10ms/step - loss: 11.8697 - mae: 12.3628\n",
            "Epoch 383/400\n",
            "8/8 [==============================] - 0s 11ms/step - loss: 13.2205 - mae: 13.7097\n",
            "Epoch 384/400\n",
            "8/8 [==============================] - 0s 11ms/step - loss: 12.6086 - mae: 13.0997\n",
            "Epoch 385/400\n",
            "8/8 [==============================] - 0s 11ms/step - loss: 13.3449 - mae: 13.8377\n",
            "Epoch 386/400\n",
            "8/8 [==============================] - 0s 12ms/step - loss: 13.0210 - mae: 13.5162\n",
            "Epoch 387/400\n",
            "8/8 [==============================] - 0s 12ms/step - loss: 13.1112 - mae: 13.6054\n",
            "Epoch 388/400\n",
            "8/8 [==============================] - 0s 11ms/step - loss: 13.3045 - mae: 13.7987\n",
            "Epoch 389/400\n",
            "8/8 [==============================] - 0s 10ms/step - loss: 12.6100 - mae: 13.1006\n",
            "Epoch 390/400\n",
            "8/8 [==============================] - 0s 10ms/step - loss: 12.5981 - mae: 13.0872\n",
            "Epoch 391/400\n",
            "8/8 [==============================] - 0s 10ms/step - loss: 12.5813 - mae: 13.0712\n",
            "Epoch 392/400\n",
            "8/8 [==============================] - 0s 11ms/step - loss: 12.6638 - mae: 13.1566\n",
            "Epoch 393/400\n",
            "8/8 [==============================] - 0s 10ms/step - loss: 12.5591 - mae: 13.0485\n",
            "Epoch 394/400\n",
            "8/8 [==============================] - 0s 11ms/step - loss: 12.5642 - mae: 13.0521\n",
            "Epoch 395/400\n",
            "8/8 [==============================] - 0s 10ms/step - loss: 12.9781 - mae: 13.4713\n",
            "Epoch 396/400\n",
            "8/8 [==============================] - 0s 12ms/step - loss: 14.7851 - mae: 15.2810\n",
            "Epoch 397/400\n",
            "8/8 [==============================] - 0s 11ms/step - loss: 13.5191 - mae: 14.0081\n",
            "Epoch 398/400\n",
            "8/8 [==============================] - 0s 10ms/step - loss: 12.8966 - mae: 13.3911\n",
            "Epoch 399/400\n",
            "8/8 [==============================] - 0s 10ms/step - loss: 12.7298 - mae: 13.2195\n",
            "Epoch 400/400\n",
            "8/8 [==============================] - 0s 11ms/step - loss: 13.1576 - mae: 13.6533\n"
          ],
          "name": "stdout"
        }
      ]
    },
    {
      "cell_type": "code",
      "metadata": {
        "id": "f4tgHIhNur2T",
        "colab_type": "code",
        "colab": {}
      },
      "source": [
        "forecast=[]\n",
        "for time in range(len(series) - window_size):\n",
        "  forecast.append(model.predict(series[time:time + window_size][np.newaxis]))\n",
        "\n",
        "forecast = forecast[split_time-window_size:]\n",
        "results = np.array(forecast)[:, 0, 0]\n",
        "\n",
        "\n",
        "plt.figure(figsize=(10, 6))\n",
        "\n",
        "plot_series(time_valid, x_valid)\n",
        "plot_series(time_valid, results)"
      ],
      "execution_count": null,
      "outputs": []
    },
    {
      "cell_type": "code",
      "metadata": {
        "id": "ksw97cfZuwWp",
        "colab_type": "code",
        "colab": {}
      },
      "source": [
        "tf.keras.metrics.mean_absolute_error(x_valid, results).numpy()"
      ],
      "execution_count": null,
      "outputs": []
    },
    {
      "cell_type": "code",
      "metadata": {
        "id": "fyQ2fGpSuz6O",
        "colab_type": "code",
        "colab": {}
      },
      "source": [
        "import matplotlib.image  as mpimg\n",
        "import matplotlib.pyplot as plt\n",
        "\n",
        "mae=history.history['mae']\n",
        "loss=history.history['loss']\n",
        "\n",
        "epochs=range(len(loss)) # Get number of epochs\n",
        "\n",
        "\n",
        "plt.plot(epochs, mae, 'r')\n",
        "plt.plot(epochs, loss, 'b')\n",
        "plt.title('MAE and Loss')\n",
        "plt.xlabel(\"Epochs\")\n",
        "plt.ylabel(\"Accuracy\")\n",
        "plt.legend([\"MAE\", \"Loss\"])\n",
        "\n",
        "plt.figure()\n",
        "\n",
        "# zoom in\n",
        "epochs_zoom = epochs[200:]\n",
        "mae_zoom = mae[200:]\n",
        "loss_zoom = loss[200:]\n",
        "\n",
        "plt.plot(epochs_zoom, mae_zoom, 'r')\n",
        "plt.plot(epochs_zoom, loss_zoom, 'b')\n",
        "plt.title('MAE and Loss')\n",
        "plt.xlabel(\"Epochs\")\n",
        "plt.ylabel(\"Accuracy\")\n",
        "plt.legend([\"MAE\", \"Loss\"])\n",
        "\n",
        "plt.figure()"
      ],
      "execution_count": null,
      "outputs": []
    }
  ]
}